{
 "cells": [
  {
   "cell_type": "code",
   "id": "initial_id",
   "metadata": {
    "collapsed": true,
    "ExecuteTime": {
     "end_time": "2024-07-30T07:57:07.637087Z",
     "start_time": "2024-07-30T07:57:06.549757Z"
    }
   },
   "source": [
    "import numpy as np\n",
    "import paddle \n",
    "from paddle.vision import MNIST,Cifar10\n",
    "import matplotlib.pyplot as plt\n",
    "from scipy.optimize import fsolve\n",
    "import itertools"
   ],
   "outputs": [],
   "execution_count": 94
  },
  {
   "metadata": {
    "ExecuteTime": {
     "end_time": "2024-07-30T08:31:09.216727Z",
     "start_time": "2024-07-30T08:31:01.456556Z"
    }
   },
   "cell_type": "code",
   "source": [
    "cifar10_train = Cifar10(\n",
    "    mode= 'train',\n",
    "    backend=\"cv2\"   # 指定要返回的图像类型：PIL.Image 或 numpy.ndarray。必须是 {'pil'，'cv2'} 中的值\n",
    ")\n",
    "\n",
    "mnist_train = MNIST(\n",
    "    mode= 'train',\n",
    "    backend=\"cv2\" \n",
    ")"
   ],
   "id": "6f21dd26837265b9",
   "outputs": [],
   "execution_count": 163
  },
  {
   "metadata": {
    "ExecuteTime": {
     "end_time": "2024-07-30T06:30:21.122768Z",
     "start_time": "2024-07-30T06:30:21.108806Z"
    }
   },
   "cell_type": "code",
   "source": [
    "print(type(cifar10_train),len(cifar10_train))\n",
    "for img, label in itertools.islice(iter(cifar10_train), 1):\n",
    "    print(type(img),img.shape,label)"
   ],
   "id": "6602ac3fb5fd6eac",
   "outputs": [
    {
     "name": "stdout",
     "output_type": "stream",
     "text": [
      "<class 'paddle.vision.datasets.cifar.Cifar10'> 50000\n",
      "<class 'numpy.ndarray'> (32, 32, 3) 6\n"
     ]
    }
   ],
   "execution_count": 8
  },
  {
   "metadata": {
    "ExecuteTime": {
     "end_time": "2024-07-30T08:41:51.035243Z",
     "start_time": "2024-07-30T08:41:50.891685Z"
    }
   },
   "cell_type": "code",
   "source": [
    "img0,label0 = cifar10_train[0]\n",
    "plt.imshow(img0/255)"
   ],
   "id": "fe685a13831c83ab",
   "outputs": [
    {
     "data": {
      "text/plain": [
       "<matplotlib.image.AxesImage at 0x1b3ea0b3610>"
      ]
     },
     "execution_count": 218,
     "metadata": {},
     "output_type": "execute_result"
    },
    {
     "data": {
      "text/plain": [
       "<Figure size 640x480 with 1 Axes>"
      ],
      "image/png": "[encoded data removed]"
     },
     "metadata": {},
     "output_type": "display_data"
    }
   ],
   "execution_count": 218
  },
  {
   "metadata": {
    "ExecuteTime": {
     "end_time": "2024-07-30T08:41:54.829978Z",
     "start_time": "2024-07-30T08:41:54.812023Z"
    }
   },
   "cell_type": "code",
   "source": [
    "type(img0)\n",
    "print(img0.shape)"
   ],
   "id": "a9f4c64dc943969b",
   "outputs": [
    {
     "name": "stdout",
     "output_type": "stream",
     "text": [
      "(32, 32, 3)\n"
     ]
    }
   ],
   "execution_count": 219
  },
  {
   "metadata": {},
   "cell_type": "markdown",
   "source": "# SVD: Singular Value Decomposition ",
   "id": "11fdc4bab42778c3"
  },
  {
   "metadata": {
    "ExecuteTime": {
     "end_time": "2024-07-30T08:42:10.973412Z",
     "start_time": "2024-07-30T08:42:10.962445Z"
    }
   },
   "cell_type": "code",
   "source": [
    "#Creating a matrix A\n",
    "A = img0[:,:,0]\n",
    "\n",
    "#Performing SVD\n",
    "U, D, VT = np.linalg.svd(A)\n",
    "\n",
    "#Checking if we can remake the original matrix using U,D,VT\n",
    "A_remake = (U @ np.diag(D) @ VT)\n",
    "print(A_remake)"
   ],
   "id": "c96d13e8fa9ae378",
   "outputs": [
    {
     "name": "stdout",
     "output_type": "stream",
     "text": [
      "[[ 5.89999886e+01  4.30000000e+01  5.00000114e+01 ...  1.58000015e+02\n",
      "   1.52000015e+02  1.47999985e+02]\n",
      " [ 1.59999962e+01 -1.90734863e-06  1.80000000e+01 ...  1.23000000e+02\n",
      "   1.18999992e+02  1.22000000e+02]\n",
      " [ 2.50000000e+01  1.59999924e+01  4.89999771e+01 ...  1.17999992e+02\n",
      "   1.19999992e+02  1.09000000e+02]\n",
      " ...\n",
      " [ 2.08000000e+02  2.01000046e+02  1.98000015e+02 ...  1.60000000e+02\n",
      "   5.60000000e+01  5.29999962e+01]\n",
      " [ 1.80000000e+02  1.72999969e+02  1.85999985e+02 ...  1.84000031e+02\n",
      "   9.69999924e+01  8.30000000e+01]\n",
      " [ 1.77000015e+02  1.68000000e+02  1.78999985e+02 ...  2.16000000e+02\n",
      "   1.51000000e+02  1.22999985e+02]]\n"
     ]
    }
   ],
   "execution_count": 223
  },
  {
   "metadata": {
    "ExecuteTime": {
     "end_time": "2024-07-30T08:42:11.580200Z",
     "start_time": "2024-07-30T08:42:11.565245Z"
    }
   },
   "cell_type": "code",
   "source": "U",
   "id": "2ee732a058f28f2f",
   "outputs": [
    {
     "data": {
      "text/plain": [
       "array([[-0.16039349, -0.04298889, -0.28180057, ...,  0.27340555,\n",
       "        -0.18639733,  0.12015267],\n",
       "       [-0.13156171, -0.06434204, -0.30179253, ..., -0.3577705 ,\n",
       "         0.10971635, -0.00184295],\n",
       "       [-0.13908677, -0.06305245, -0.22112073, ...,  0.2912994 ,\n",
       "        -0.02262908, -0.07094591],\n",
       "       ...,\n",
       "       [-0.17466223,  0.19764264,  0.27234548, ...,  0.33125415,\n",
       "         0.17923367, -0.3252645 ],\n",
       "       [-0.1743581 ,  0.26224923,  0.17619374, ..., -0.31664214,\n",
       "        -0.15345293,  0.30745035],\n",
       "       [-0.19688973,  0.29160854,  0.04094113, ...,  0.21575458,\n",
       "        -0.02305492, -0.2622688 ]], dtype=float32)"
      ]
     },
     "execution_count": 224,
     "metadata": {},
     "output_type": "execute_result"
    }
   ],
   "execution_count": 224
  },
  {
   "metadata": {
    "ExecuteTime": {
     "end_time": "2024-07-30T08:42:12.160280Z",
     "start_time": "2024-07-30T08:42:12.152296Z"
    }
   },
   "cell_type": "code",
   "source": "D",
   "id": "914712af2d2f6298",
   "outputs": [
    {
     "data": {
      "text/plain": [
       "array([4.5857036e+03, 5.9184833e+02, 4.5860385e+02, 3.6927002e+02,\n",
       "       3.5221051e+02, 2.7271332e+02, 2.3411714e+02, 1.9596532e+02,\n",
       "       1.7263036e+02, 1.3387161e+02, 1.1473769e+02, 9.3608749e+01,\n",
       "       8.3938133e+01, 6.3526638e+01, 5.9778904e+01, 4.6615417e+01,\n",
       "       4.5584438e+01, 3.4959564e+01, 2.9619411e+01, 2.7163990e+01,\n",
       "       2.4222549e+01, 1.9372572e+01, 1.7909872e+01, 1.5606694e+01,\n",
       "       1.3020308e+01, 1.0694430e+01, 8.3094330e+00, 6.5600958e+00,\n",
       "       4.1188755e+00, 2.8546269e+00, 2.3156307e+00, 7.3062885e-01],\n",
       "      dtype=float32)"
      ]
     },
     "execution_count": 225,
     "metadata": {},
     "output_type": "execute_result"
    }
   ],
   "execution_count": 225
  },
  {
   "metadata": {
    "ExecuteTime": {
     "end_time": "2024-07-30T08:42:13.339528Z",
     "start_time": "2024-07-30T08:42:13.324268Z"
    }
   },
   "cell_type": "code",
   "source": "VT",
   "id": "f7f61e127f51e988",
   "outputs": [
    {
     "data": {
      "text/plain": [
       "array([[-0.17111059, -0.16064821, -0.16460638, ..., -0.16952205,\n",
       "        -0.1547326 , -0.14796048],\n",
       "       [ 0.2205256 ,  0.20662247,  0.20296153, ...,  0.18621142,\n",
       "         0.05114086, -0.00992778],\n",
       "       [ 0.34360695,  0.3862748 ,  0.2948675 , ...,  0.10824057,\n",
       "        -0.10421443, -0.19234794],\n",
       "       ...,\n",
       "       [ 0.18712863, -0.08435281, -0.34301826, ...,  0.1236167 ,\n",
       "        -0.137693  ,  0.19956212],\n",
       "       [ 0.20673457, -0.26916468,  0.3507681 , ..., -0.19824922,\n",
       "         0.10762598, -0.01174179],\n",
       "       [ 0.25026307, -0.34337574,  0.09639948, ...,  0.323235  ,\n",
       "        -0.14532012, -0.10398368]], dtype=float32)"
      ]
     },
     "execution_count": 226,
     "metadata": {},
     "output_type": "execute_result"
    }
   ],
   "execution_count": 226
  },
  {
   "metadata": {
    "ExecuteTime": {
     "end_time": "2024-07-30T08:42:14.692848Z",
     "start_time": "2024-07-30T08:42:14.676640Z"
    }
   },
   "cell_type": "code",
   "source": [
    "def svd_compression(img, k):\n",
    "    # img.shape = (28,28,1)\n",
    "    svd_image = np.zeros_like(img)\n",
    "    for i in range(img.shape[2]):\n",
    "        # 进行奇异值分解, 从svd函数中得到的奇异值sigma 是从大到小排列的\n",
    "        U, Sigma, VT = np.linalg.svd(img[:,:,i])\n",
    "        img_remake = (U @ np.diag(D) @ VT)\n",
    "        if (img_remake == img[:, :, i]).any():\n",
    "            \"we can't remake the original matrix using U,D,VT\"\n",
    "        svd_image[:, :, i] = U[:,:k].dot(np.diag(Sigma[:k])).dot(VT[:k,:])\n",
    " \n",
    "    return svd_image"
   ],
   "id": "e3d621fa40236bbf",
   "outputs": [],
   "execution_count": 227
  },
  {
   "metadata": {
    "ExecuteTime": {
     "end_time": "2024-07-30T08:42:15.145401Z",
     "start_time": "2024-07-30T08:42:15.127200Z"
    }
   },
   "cell_type": "code",
   "source": [
    "def sample_radial(x0, k, epsilon):\n",
    "    \"\"\"\n",
    "    根据概率密度函数Dϵ,k(x0)(x)对径向坐标进行采样\n",
    "    \"\"\"\n",
    "    def objective_func(r):\n",
    "        return np.exp(-epsilon * r) - np.random.uniform(0, 1)\n",
    "\n",
    "    r0 = np.linalg.norm(x0)\n",
    "    r = fsolve(objective_func, r0)[0]\n",
    "\n",
    "    return r\n",
    "\n",
    "def sample_angular(k):\n",
    "    \"\"\"\n",
    "    在单位(k-1)-球面上均匀采样一个点\n",
    "    \"\"\"\n",
    "    angles = np.random.uniform(0, 2 * np.pi, k - 1)\n",
    "    a = np.concatenate([np.cos(angles), [np.sin(angles[-1])]])\n",
    "    for i in range(len(a) - 2, -1, -1):\n",
    "        a[i] *= np.sin(angles[i])\n",
    "    return a"
   ],
   "id": "eabb1617ea507470",
   "outputs": [],
   "execution_count": 228
  },
  {
   "metadata": {
    "ExecuteTime": {
     "end_time": "2024-07-30T08:51:35.305073Z",
     "start_time": "2024-07-30T08:51:35.290115Z"
    }
   },
   "cell_type": "code",
   "source": [
    "def private_sampling(img,k,epsilon):\n",
    "    \"\"\"\n",
    "    实现随机采样机制\n",
    "    \"\"\"\n",
    "    # img.shape = (28,28,1)\n",
    "    sampling_image = np.zeros_like(img)\n",
    "    for i in range(img.shape[2]):\n",
    "        # 进行奇异值分解, 从svd函数中得到的奇异值sigma 是从大到小排列的\n",
    "        U, Sigma, VT = np.linalg.svd(img[:,:,i])\n",
    "        img_remake = (U @ np.diag(D) @ VT)\n",
    "        if (img_remake == img[:, :, i]).any():\n",
    "            \"we can't remake the original matrix using U,D,VT\"\n",
    "        \n",
    "        r = sample_radial(Sigma, k, epsilon)\n",
    "        a = sample_angular(k)\n",
    "        x = r * a\n",
    "        \n",
    "        sampling_image[:, :, i] = U[:,:k].dot(np.diag(x)).dot(VT[:k,:])\n",
    "\n",
    "    return np.clip(sampling_image,0,255)"
   ],
   "id": "89b0eedc6d9bd359",
   "outputs": [],
   "execution_count": 256
  },
  {
   "metadata": {
    "ExecuteTime": {
     "end_time": "2024-07-30T08:51:35.787521Z",
     "start_time": "2024-07-30T08:51:35.771562Z"
    }
   },
   "cell_type": "code",
   "source": [
    "svd_image = svd_compression(img0,k = 4)\n",
    "sampling_image = private_sampling(img0,k = 4, epsilon = 0.5)"
   ],
   "id": "435fbc2930bc6e58",
   "outputs": [
    {
     "name": "stderr",
     "output_type": "stream",
     "text": [
      "C:\\Users\\34538\\AppData\\Local\\Temp\\ipykernel_8620\\3144225102.py:9: RuntimeWarning: The iteration is not making good progress, as measured by the \n",
      "  improvement from the last ten iterations.\n",
      "  r = fsolve(objective_func, r0)[0]\n"
     ]
    }
   ],
   "execution_count": 257
  },
  {
   "metadata": {
    "ExecuteTime": {
     "end_time": "2024-07-30T08:51:36.646607Z",
     "start_time": "2024-07-30T08:51:36.280603Z"
    }
   },
   "cell_type": "code",
   "source": [
    "fig = plt.figure(figsize=(20,20)) \n",
    "ax1 = fig.add_subplot(1, 5, 1)  # 2行1列，第1个位置  \n",
    "plt.title('original image',fontsize=10)\n",
    "ax1.imshow(img0/255.0,cmap='gray')\n",
    "\n",
    "ax2 = fig.add_subplot(1, 5, 2)\n",
    "plt.title('SVD',fontsize=10)\n",
    "ax2.imshow(svd_image/255.0,cmap='gray')\n",
    "\n",
    "ax2 = fig.add_subplot(1, 5, 3)\n",
    "plt.title('SVD Sampling',fontsize=10)\n",
    "ax2.imshow(sampling_image/255.0,cmap='gray')"
   ],
   "id": "1ae98bd2e8ecc911",
   "outputs": [
    {
     "data": {
      "text/plain": [
       "<matplotlib.image.AxesImage at 0x1b3eb663d60>"
      ]
     },
     "execution_count": 258,
     "metadata": {},
     "output_type": "execute_result"
    },
    {
     "data": {
      "text/plain": [
       "<Figure size 2000x2000 with 3 Axes>"
      ],
      "image/png": "[encoded data removed]"
     },
     "metadata": {},
     "output_type": "display_data"
    }
   ],
   "execution_count": 258
  },
  {
   "metadata": {},
   "cell_type": "code",
   "outputs": [],
   "execution_count": null,
   "source": "",
   "id": "9385d0e03788c5df"
  }
 ],
 "metadata": {
  "kernelspec": {
   "display_name": "Python 3",
   "language": "python",
   "name": "python3"
  },
  "language_info": {
   "codemirror_mode": {
    "name": "ipython",
    "version": 2
   },
   "file_extension": ".py",
   "mimetype": "text/x-python",
   "name": "python",
   "nbconvert_exporter": "python",
   "pygments_lexer": "ipython2",
   "version": "2.7.6"
  }
 },
 "nbformat": 4,
 "nbformat_minor": 5
}
