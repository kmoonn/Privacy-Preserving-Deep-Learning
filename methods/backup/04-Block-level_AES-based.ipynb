{
 "cells": [
  {
   "cell_type": "code",
   "id": "initial_id",
   "metadata": {
    "collapsed": true,
    "ExecuteTime": {
     "end_time": "2024-08-06T07:58:00.518245Z",
     "start_time": "2024-08-06T07:57:56.775164Z"
    }
   },
   "source": [
    "import itertools\n",
    "from paddle.vision.datasets import Cifar10,MNIST\n",
    "import matplotlib.pyplot as plt\n",
    "import numpy as np"
   ],
   "outputs": [],
   "execution_count": 1
  },
  {
   "metadata": {
    "ExecuteTime": {
     "end_time": "2024-08-06T07:58:13.172005Z",
     "start_time": "2024-08-06T07:58:04.833187Z"
    }
   },
   "cell_type": "code",
   "source": [
    "mnist_train = MNIST(\n",
    "    mode= 'train',\n",
    "    backend=\"cv2\" \n",
    ")\n",
    "cifar10_train = Cifar10(\n",
    "    mode= 'train',\n",
    "    backend=\"cv2\"   # 指定要返回的图像类型：PIL.Image 或 numpy.ndarray。必须是 {'pil'，'cv2'} 中的值\n",
    ")"
   ],
   "id": "1114d361674943fc",
   "outputs": [],
   "execution_count": 2
  },
  {
   "metadata": {},
   "cell_type": "markdown",
   "source": "A. Pixel-Block Partitioning and Block-based Random Permutation",
   "id": "119524a640038dee"
  },
  {
   "metadata": {
    "ExecuteTime": {
     "end_time": "2024-08-06T08:37:47.727063Z",
     "start_time": "2024-08-06T08:37:47.663064Z"
    }
   },
   "cell_type": "code",
   "source": [
    "img0,label0 = cifar10_train[2]\n",
    "img0 = img0.astype(\"uint16\")\n",
    "l,m,c = img0.shape"
   ],
   "id": "63c48a7df919a6f",
   "outputs": [],
   "execution_count": 54
  },
  {
   "metadata": {
    "ExecuteTime": {
     "end_time": "2024-08-06T08:37:48.169982Z",
     "start_time": "2024-08-06T08:37:48.161955Z"
    }
   },
   "cell_type": "code",
   "source": [
    "# img0,label0 = mnist_train[0]\n",
    "# img0 = img0.astype(\"uint16\")\n",
    "# l,m = img0.shape"
   ],
   "id": "565a0866b06c9b88",
   "outputs": [],
   "execution_count": 55
  },
  {
   "metadata": {
    "ExecuteTime": {
     "end_time": "2024-08-06T08:37:48.642954Z",
     "start_time": "2024-08-06T08:37:48.634952Z"
    }
   },
   "cell_type": "code",
   "source": [
    "r,s = 4,4\n",
    "t = (l*m) // (r*s)\n",
    "# 检查整除性  \n",
    "if l % r != 0 or m % s != 0:  \n",
    "    raise ValueError(\"Image dimensions must be divisible by block dimensions.\") "
   ],
   "id": "922bbc8b82071c02",
   "outputs": [],
   "execution_count": 56
  },
  {
   "metadata": {
    "ExecuteTime": {
     "end_time": "2024-08-06T08:37:49.394906Z",
     "start_time": "2024-08-06T08:37:49.317909Z"
    }
   },
   "cell_type": "code",
   "source": "t #28X28//2X2 = 196",
   "id": "b2bb45feeaf29dcd",
   "outputs": [
    {
     "data": {
      "text/plain": [
       "64"
      ]
     },
     "execution_count": 57,
     "metadata": {},
     "output_type": "execute_result"
    }
   ],
   "execution_count": 57
  },
  {
   "metadata": {
    "ExecuteTime": {
     "end_time": "2024-08-06T08:37:50.021029Z",
     "start_time": "2024-08-06T08:37:49.862031Z"
    }
   },
   "cell_type": "code",
   "source": [
    "blocks = (img0.reshape(l//r, r, m//s, s)  \n",
    "            .transpose(0, 2, 1, 3)  \n",
    "            .reshape(-1, r, s))  \n",
    "\n",
    "# 获取块的数量  \n",
    "t = blocks.shape[0]\n",
    "t"
   ],
   "id": "8503575071f34f9d",
   "outputs": [
    {
     "ename": "ValueError",
     "evalue": "cannot reshape array of size 3072 into shape (8,4,8,4)",
     "output_type": "error",
     "traceback": [
      "\u001B[1;31m---------------------------------------------------------------------------\u001B[0m",
      "\u001B[1;31mValueError\u001B[0m                                Traceback (most recent call last)",
      "Cell \u001B[1;32mIn[58], line 1\u001B[0m\n\u001B[1;32m----> 1\u001B[0m blocks \u001B[38;5;241m=\u001B[39m (\u001B[43mimg0\u001B[49m\u001B[38;5;241;43m.\u001B[39;49m\u001B[43mreshape\u001B[49m\u001B[43m(\u001B[49m\u001B[43ml\u001B[49m\u001B[38;5;241;43m/\u001B[39;49m\u001B[38;5;241;43m/\u001B[39;49m\u001B[43mr\u001B[49m\u001B[43m,\u001B[49m\u001B[43m \u001B[49m\u001B[43mr\u001B[49m\u001B[43m,\u001B[49m\u001B[43m \u001B[49m\u001B[43mm\u001B[49m\u001B[38;5;241;43m/\u001B[39;49m\u001B[38;5;241;43m/\u001B[39;49m\u001B[43ms\u001B[49m\u001B[43m,\u001B[49m\u001B[43m \u001B[49m\u001B[43ms\u001B[49m\u001B[43m)\u001B[49m  \n\u001B[0;32m      2\u001B[0m             \u001B[38;5;241m.\u001B[39mtranspose(\u001B[38;5;241m0\u001B[39m, \u001B[38;5;241m2\u001B[39m, \u001B[38;5;241m1\u001B[39m, \u001B[38;5;241m3\u001B[39m)  \n\u001B[0;32m      3\u001B[0m             \u001B[38;5;241m.\u001B[39mreshape(\u001B[38;5;241m-\u001B[39m\u001B[38;5;241m1\u001B[39m, r, s))  \n\u001B[0;32m      5\u001B[0m \u001B[38;5;66;03m# 获取块的数量  \u001B[39;00m\n\u001B[0;32m      6\u001B[0m t \u001B[38;5;241m=\u001B[39m blocks\u001B[38;5;241m.\u001B[39mshape[\u001B[38;5;241m0\u001B[39m]\n",
      "\u001B[1;31mValueError\u001B[0m: cannot reshape array of size 3072 into shape (8,4,8,4)"
     ]
    }
   ],
   "execution_count": 58
  },
  {
   "metadata": {
    "ExecuteTime": {
     "end_time": "2024-08-06T08:37:50.604591Z",
     "start_time": "2024-08-06T08:37:50.536592Z"
    }
   },
   "cell_type": "code",
   "source": [
    "from sklearn.utils import shuffle  # 使用scikit-learn的shuffle函数作为伪随机置换  \n",
    "\n",
    "indices = np.arange(t)  \n",
    "shuffled_indices = shuffle(indices)  \n",
    "shuffled_blocks = blocks[shuffled_indices]  "
   ],
   "id": "4929d71142a3fd75",
   "outputs": [
    {
     "ename": "IndexError",
     "evalue": "index 57 is out of bounds for axis 0 with size 49",
     "output_type": "error",
     "traceback": [
      "\u001B[1;31m---------------------------------------------------------------------------\u001B[0m",
      "\u001B[1;31mIndexError\u001B[0m                                Traceback (most recent call last)",
      "Cell \u001B[1;32mIn[59], line 5\u001B[0m\n\u001B[0;32m      3\u001B[0m indices \u001B[38;5;241m=\u001B[39m np\u001B[38;5;241m.\u001B[39marange(t)  \n\u001B[0;32m      4\u001B[0m shuffled_indices \u001B[38;5;241m=\u001B[39m shuffle(indices)  \n\u001B[1;32m----> 5\u001B[0m shuffled_blocks \u001B[38;5;241m=\u001B[39m \u001B[43mblocks\u001B[49m\u001B[43m[\u001B[49m\u001B[43mshuffled_indices\u001B[49m\u001B[43m]\u001B[49m  \n",
      "\u001B[1;31mIndexError\u001B[0m: index 57 is out of bounds for axis 0 with size 49"
     ]
    }
   ],
   "execution_count": 59
  },
  {
   "metadata": {
    "ExecuteTime": {
     "end_time": "2024-08-06T08:37:54.724434Z",
     "start_time": "2024-08-06T08:37:54.679438Z"
    }
   },
   "cell_type": "code",
   "source": [
    "# 重新组合图像  \n",
    "shuffled_image = shuffled_blocks.reshape(t//(m//s), m//s, r, s)  \n",
    "shuffled_image = shuffled_image.transpose(0, 2, 1, 3).reshape(l, m)  \n",
    "# 显示原始图像和重排的图像\n",
    "fig, axs = plt.subplots(1, 2, figsize=(5, 5))  \n",
    "axs[0].imshow(img0, cmap='gray')  \n",
    "axs[0].set_title('Original Image')  \n",
    "axs[1].imshow(shuffled_image, cmap='gray')  \n",
    "axs[1].set_title('Random Permutation')  \n",
    "plt.show()"
   ],
   "id": "94ec63a459082c82",
   "outputs": [
    {
     "ename": "ValueError",
     "evalue": "cannot reshape array of size 784 into shape (8,8,4,4)",
     "output_type": "error",
     "traceback": [
      "\u001B[1;31m---------------------------------------------------------------------------\u001B[0m",
      "\u001B[1;31mValueError\u001B[0m                                Traceback (most recent call last)",
      "Cell \u001B[1;32mIn[60], line 2\u001B[0m\n\u001B[0;32m      1\u001B[0m \u001B[38;5;66;03m# 重新组合图像  \u001B[39;00m\n\u001B[1;32m----> 2\u001B[0m shuffled_image \u001B[38;5;241m=\u001B[39m \u001B[43mshuffled_blocks\u001B[49m\u001B[38;5;241;43m.\u001B[39;49m\u001B[43mreshape\u001B[49m\u001B[43m(\u001B[49m\u001B[43mt\u001B[49m\u001B[38;5;241;43m/\u001B[39;49m\u001B[38;5;241;43m/\u001B[39;49m\u001B[43m(\u001B[49m\u001B[43mm\u001B[49m\u001B[38;5;241;43m/\u001B[39;49m\u001B[38;5;241;43m/\u001B[39;49m\u001B[43ms\u001B[49m\u001B[43m)\u001B[49m\u001B[43m,\u001B[49m\u001B[43m \u001B[49m\u001B[43mm\u001B[49m\u001B[38;5;241;43m/\u001B[39;49m\u001B[38;5;241;43m/\u001B[39;49m\u001B[43ms\u001B[49m\u001B[43m,\u001B[49m\u001B[43m \u001B[49m\u001B[43mr\u001B[49m\u001B[43m,\u001B[49m\u001B[43m \u001B[49m\u001B[43ms\u001B[49m\u001B[43m)\u001B[49m  \n\u001B[0;32m      3\u001B[0m shuffled_image \u001B[38;5;241m=\u001B[39m shuffled_image\u001B[38;5;241m.\u001B[39mtranspose(\u001B[38;5;241m0\u001B[39m, \u001B[38;5;241m2\u001B[39m, \u001B[38;5;241m1\u001B[39m, \u001B[38;5;241m3\u001B[39m)\u001B[38;5;241m.\u001B[39mreshape(l, m)  \n\u001B[0;32m      4\u001B[0m \u001B[38;5;66;03m# 显示原始图像和重排的图像\u001B[39;00m\n",
      "\u001B[1;31mValueError\u001B[0m: cannot reshape array of size 784 into shape (8,8,4,4)"
     ]
    }
   ],
   "execution_count": 60
  },
  {
   "metadata": {},
   "cell_type": "markdown",
   "source": "# AES",
   "id": "eb73ddfc0719a33"
  },
  {
   "metadata": {
    "ExecuteTime": {
     "end_time": "2024-08-06T08:37:55.735237Z",
     "start_time": "2024-08-06T08:37:55.727237Z"
    }
   },
   "cell_type": "code",
   "source": [
    "from Crypto.Cipher import AES as aes\n",
    "import random,os,math"
   ],
   "id": "4bf1ace360cbe2ea",
   "outputs": [],
   "execution_count": 61
  },
  {
   "metadata": {
    "ExecuteTime": {
     "end_time": "2024-08-06T08:37:56.268267Z",
     "start_time": "2024-08-06T08:37:56.197249Z"
    }
   },
   "cell_type": "code",
   "source": [
    "class Block_Wise_AES:\n",
    "\n",
    "    def __init__(self, image_size=(32, 32), block_size=(4, 4), One_cipher=True, Shuffle=False):\n",
    "\n",
    "        self.img_size = image_size\n",
    "\n",
    "        self.block_size = block_size\n",
    "        # 块数量\n",
    "        self.block_num = int((image_size[0] / block_size[0]) * (image_size[1] / block_size[1]))\n",
    "\n",
    "        print(image_size)\n",
    "        print(block_size)\n",
    "\n",
    "        print('block number = ' + str(self.block_num))\n",
    "\n",
    "        block_bytes = block_size[0] * block_size[1] #块的字节大小 16\n",
    "\n",
    "        self.scale = [1, 1] #放大情况\n",
    "\n",
    "        self.shuffle = Shuffle\n",
    "\n",
    "        self.one_cipher = One_cipher\n",
    "\n",
    "        if block_bytes < 16:\n",
    "            # scale it 放大 块字节小于AES加密字节16\n",
    "            if self.block_size[0] < self.block_size[1]:\n",
    "\n",
    "                less = 0\n",
    "\n",
    "            else:\n",
    "\n",
    "                less = 1\n",
    "\n",
    "            if block_bytes == 2:\n",
    "\n",
    "                self.scale[less] = 4\n",
    "\n",
    "                self.scale[(less + 1) % 2] = 2\n",
    "\n",
    "            elif block_bytes == 4:\n",
    "\n",
    "                if self.block_size == (2, 2):\n",
    "\n",
    "                    self.scale = [2, 2]\n",
    "\n",
    "                else:\n",
    "\n",
    "                    self.scale[less] = 4\n",
    "\n",
    "            elif block_bytes == 8:\n",
    "\n",
    "                self.scale[less] = 2\n",
    "\n",
    "            self.block_size = (4, 4)\n",
    "\n",
    "        self.update_params()  # due to updated parameters 更新参数\n",
    "\n",
    "        if not One_cipher:\n",
    "\n",
    "            self.ciphers = [aes.new(os.urandom(16), aes.MODE_ECB) for i in range(self.block_num)]\n",
    "\n",
    "        else:\n",
    "\n",
    "            self.ciphers = aes.new(os.urandom(16), aes.MODE_ECB)\n",
    "\n",
    "    # 准备参数\n",
    "    def update_params(self):\n",
    "\n",
    "        image_size = self.img_size\n",
    "\n",
    "        block_size = self.block_size # 更新为4x4\n",
    "        \n",
    "        # 填充\n",
    "\n",
    "        if image_size[0] % block_size[0] != 0:\n",
    "\n",
    "            p0 = block_size[0] - image_size[0] % block_size[0]\n",
    "\n",
    "            self.p0_left = int(p0 / 2)\n",
    "\n",
    "            self.p0_right = p0 - self.p0_left\n",
    "\n",
    "        else:\n",
    "\n",
    "            p0 = 0\n",
    "\n",
    "            self.p0_left = 0\n",
    "\n",
    "            self.p0_right = 0\n",
    "\n",
    "        if image_size[1] % block_size[1] != 0:\n",
    "\n",
    "            p1 = block_size[1] - image_size[1] % block_size[1]\n",
    "\n",
    "            self.p1_left = int(p1 / 2)\n",
    "\n",
    "            self.p1_right = p1 - self.p1_left\n",
    "\n",
    "        else:\n",
    "\n",
    "            p1 = 0\n",
    "\n",
    "            self.p1_left = 0\n",
    "\n",
    "            self.p1_right = 0\n",
    "\n",
    "        if p0 == 0 and p1 == 0: #无需填充\n",
    "\n",
    "            self.pad = False\n",
    "\n",
    "        else:\n",
    "            self.pad = True\n",
    "\n",
    "        self.block_num = math.ceil(image_size[0] / block_size[0]) * math.ceil(image_size[1] / block_size[1])\n",
    "        # 向上取整\n",
    "        \n",
    "    def padding(self, img):\n",
    "\n",
    "        if len(self.img_size) == 3: #RGB图像\n",
    "\n",
    "            assert ((img.shape[0], img.shape[1], img.shape[2]) == self.img_size)\n",
    "\n",
    "        else:#Grey图像\n",
    "\n",
    "            assert ((img.shape[0], img.shape[1]) == self.img_size)\n",
    "\n",
    "        if not self.pad: #无需填充 直接copy返回\n",
    "            return img.copy()\n",
    "\n",
    "        if len(self.img_size) == 3:\n",
    "\n",
    "            img1 = np.zeros((img.shape[0] + self.p0_left + self.p0_right, img.shape[1] + self.p1_left + self.p1_right,\n",
    "                             img.shape[2]))\n",
    "\n",
    "            for c in range(img.shape[2]):\n",
    "                img1[:, :, c] = np.pad(img[:, :, c], ((self.p0_left, self.p0_right), (self.p1_left, self.p1_right)))\n",
    "\n",
    "        else:\n",
    "\n",
    "            img1 = np.zeros((img.shape[0] + self.p0_left + self.p0_right, img.shape[1] + self.p1_left + self.p1_right))\n",
    "\n",
    "            img1[:, :] = np.pad(img[:, :], ((self.p0_left, self.p0_right), (self.p1_left, self.p1_right)))\n",
    "\n",
    "        return img1 # 返回填充后的图像\n",
    "    \n",
    "    \n",
    "    \n",
    "\n",
    "    def M2vector(self, block):\n",
    "\n",
    "        vec = block.reshape((1, block.shape[0] * block.shape[1]))\n",
    "\n",
    "        return vec\n",
    "\n",
    "    def vector2M(self, vector):\n",
    "\n",
    "        M = vector.reshape((self.block_size[0], self.block_size[1]))\n",
    "\n",
    "        return M\n",
    "    \n",
    "    # 分块\n",
    "    def M2block(self, array):\n",
    "\n",
    "        h, r = array.shape[0:2]\n",
    "\n",
    "        blocks = []\n",
    "\n",
    "        hight = [i * self.block_size[0] for i in range(int(h / self.block_size[0]))]\n",
    "\n",
    "        width = [i * self.block_size[1] for i in range(int(r / self.block_size[1]))]\n",
    "\n",
    "        for i in hight:\n",
    "\n",
    "            for j in width:\n",
    "                blocks.append(array[i:i + self.block_size[0], j:j + self.block_size[1]])\n",
    "\n",
    "        return blocks\n",
    "    \n",
    "    # 随机合并块\n",
    "    def block2M(self, block_list, seed=1):\n",
    "\n",
    "        Row = []\n",
    "\n",
    "        Column = []\n",
    "\n",
    "        blocks = block_list\n",
    "\n",
    "        if self.shuffle:\n",
    "            random.Random(seed).shuffle(block_list)\n",
    "\n",
    "        for i in range(self.block_num):\n",
    "\n",
    "            if (i + 1) % (self.img_size[1] / self.block_size[1]) != 0:\n",
    "\n",
    "                Row.append(blocks[i])\n",
    "\n",
    "\n",
    "            else:\n",
    "\n",
    "                Row.append(blocks[i])\n",
    "\n",
    "                Column.append(np.hstack(Row))\n",
    "\n",
    "                Row = []\n",
    "\n",
    "        return np.vstack(Column)\n",
    "    \n",
    "    \n",
    "    # 块加密\n",
    "    def block_enc(self, block, cipher):\n",
    "\n",
    "        block1 = self.M2vector(block)\n",
    "\n",
    "        assert (block1.shape[1] % 16 == 0)\n",
    "\n",
    "        for i in range(int(block1.shape[1] / 16)):\n",
    "            bytes = cipher.encrypt(block1[:, i * 16:(i + 1) * 16].tobytes())\n",
    "\n",
    "            block1[:, i * 16:(i + 1) * 16] = np.frombuffer(bytes, dtype=np.byte)\n",
    "\n",
    "        return self.vector2M(block1)\n",
    "    \n",
    "    \n",
    "    # 加密\n",
    "    def Encode(self, img, noise = False, noise_level = 1):\n",
    "\n",
    "        if (self.scale != [1, 1]):\n",
    "\n",
    "            img1 = self.scaleup(img)\n",
    "\n",
    "        else:\n",
    "\n",
    "            img1 = img\n",
    "\n",
    "        img2 = self.padding(img1).astype(np.byte)\n",
    "\n",
    "        if len(img2.shape) == 3:\n",
    "\n",
    "            for c in range(img2.shape[2]):  # channels\n",
    "\n",
    "                blocks = self.M2block(img2[:, :, c])\n",
    "\n",
    "                if not self.one_cipher:\n",
    "\n",
    "                    blocks_e = [self.block_enc(b, e) for b, e in zip(blocks, self.ciphers)]\n",
    "\n",
    "                else:\n",
    "\n",
    "                    blocks_e = [self.block_enc(b, self.ciphers) for b in blocks]\n",
    "\n",
    "                img2[:, :, c] = self.block2M(blocks_e)\n",
    "\n",
    "        else:\n",
    "\n",
    "            blocks = self.M2block(img2[:, :])\n",
    "\n",
    "            if not self.one_cipher:\n",
    "\n",
    "                blocks_e = [self.block_enc(b, e) for b, e in zip(blocks, self.ciphers)]\n",
    "\n",
    "            else:\n",
    "\n",
    "                blocks_e = [self.block_enc(b, self.ciphers) for b in blocks]\n",
    "\n",
    "\n",
    "            img2[:, :] = self.block2M(blocks_e)\n",
    "\n",
    "        return img2"
   ],
   "id": "e25ec6046ab3e2fd",
   "outputs": [],
   "execution_count": 62
  },
  {
   "metadata": {
    "ExecuteTime": {
     "end_time": "2024-08-06T08:37:58.978159Z",
     "start_time": "2024-08-06T08:37:58.966159Z"
    }
   },
   "cell_type": "code",
   "source": [
    "original_images = []\n",
    "encrypted_images = []"
   ],
   "id": "5da4f5b590ee9c06",
   "outputs": [],
   "execution_count": 63
  },
  {
   "metadata": {
    "ExecuteTime": {
     "end_time": "2024-08-06T08:37:59.490182Z",
     "start_time": "2024-08-06T08:37:59.471183Z"
    }
   },
   "cell_type": "code",
   "source": [
    " # Pad original image if neccessary\n",
    "image_temp = img0\n",
    "block_size = 4\n",
    "\n",
    "# W H C\n",
    "# If adjusted row or col different from the original image, need padding\n",
    "# adjusted_row = (image_temp.shape[0] + int(block_size) - 1) // int(block_size) * int(block_size)\n",
    "# \n",
    "# adjusted_col = (image_temp.shape[1] + int(block_size) - 1) // int(block_size) * int(block_size)\n",
    "\n",
    "# Generate padding 生成填充\n",
    "# if image_temp.shape[0] != adjusted_row or image_temp.shape[1] != adjusted_col:\n",
    "#     pad_row = adjusted_row - image_temp.shape[0]\n",
    "#     pad_col = adjusted_col - image_temp.shape[1]\n",
    "\n",
    "# else:\n",
    "#     pad_row = 0\n",
    "#     pad_col = 0\n",
    "    \n",
    "# if len(image_temp.shape)==3: # RGB图像\n",
    "#   encoder = Block_Wise_AES(image_size=(image_temp.shape[0] + pad_row, image_temp.shape[1] + pad_col,image_temp.shape[2]),block_size=(int(block_size),int(block_size)))\n",
    "# \n",
    "# # Grey 灰色图像\n",
    "# else:\n",
    "#     encoder = Block_Wise_AES(image_size=(image_temp.shape[0] + pad_row, image_temp.shape[1] + pad_col),block_size=(int(block_size), int(block_size)))\n",
    "    \n",
    "# Apply padding\n",
    "\n",
    "# if image_temp.shape[0] != adjusted_row or image_temp.shape[1] != adjusted_col:\n",
    "# \n",
    "#     if len(img0.shape) == 3:  # RGB image\n",
    "#         image_padded = np.pad(img0, ((0, pad_row), (0, pad_col), (0, 0)), mode='edge')\n",
    "#     else:  # Grayscale image\n",
    "#         image_padded = np.pad(img0, ((0, pad_row), (0, pad_col)), mode='edge')\n",
    "# else:\n",
    "#     image_padded = img0\n",
    "\n",
    "\n",
    "original_images.append(image_temp)\n",
    "noise_level = 0\n",
    "\n",
    "if noise_level == 0:\n",
    "    noise = False\n",
    "    noise_level = 1\n",
    "else:\n",
    "    noise = True\n",
    "\n",
    "encoder = Block_Wise_AES(block_size = (4,4))\n",
    "encrypted_img_array = encoder.Encode(image_temp, noise=noise, noise_level=noise_level)\n",
    "encrypted_images.append(encrypted_img_array)"
   ],
   "id": "5b56258e031ac7f7",
   "outputs": [
    {
     "name": "stdout",
     "output_type": "stream",
     "text": [
      "(32, 32)\n",
      "(4, 4)\n",
      "block number = 64\n"
     ]
    }
   ],
   "execution_count": 64
  },
  {
   "metadata": {
    "ExecuteTime": {
     "end_time": "2024-08-06T08:38:00.577929Z",
     "start_time": "2024-08-06T08:38:00.210024Z"
    }
   },
   "cell_type": "code",
   "source": [
    "# 显示原始图像和加密的图像\n",
    "fig, axs = plt.subplots(1, 2, figsize=(5, 5))  \n",
    "print(encrypted_images[0].shape)\n",
    "axs[0].imshow(img0, cmap='gray')  \n",
    "axs[0].set_title('Original Image')  \n",
    "axs[1].imshow(np.clip(encrypted_images[0], 0, 255).astype(np.uint8), cmap='gray')  \n",
    "axs[1].set_title('AES-ECB')\n",
    "plt.show()"
   ],
   "id": "53346d3cc8052a80",
   "outputs": [
    {
     "name": "stdout",
     "output_type": "stream",
     "text": [
      "(32, 32, 3)\n"
     ]
    },
    {
     "data": {
      "text/plain": [
       "<Figure size 500x500 with 2 Axes>"
      ],
      "image/png": "[encoded data removed]"
     },
     "metadata": {},
     "output_type": "display_data"
    }
   ],
   "execution_count": 65
  },
  {
   "metadata": {
    "ExecuteTime": {
     "end_time": "2024-08-06T08:38:07.859974Z",
     "start_time": "2024-08-06T08:38:07.625697Z"
    }
   },
   "cell_type": "code",
   "source": [
    "fig, axs = plt.subplots(1, 2, figsize=(5, 5))  \n",
    "print(encrypted_images[0].shape)\n",
    "axs[0].imshow(img0)  \n",
    "axs[0].set_title('Original Image')  \n",
    "axs[1].imshow(np.clip(encrypted_images[0], 0, 255).astype(np.uint8), cmap='gray')  \n",
    "axs[1].set_title('AES-ECB')  \n",
    "plt.show()"
   ],
   "id": "7fa42122c91d7269",
   "outputs": [
    {
     "name": "stdout",
     "output_type": "stream",
     "text": [
      "(32, 32, 3)\n"
     ]
    },
    {
     "data": {
      "text/plain": [
       "<Figure size 500x500 with 2 Axes>"
      ],
      "image/png": "[encoded data removed]"
     },
     "metadata": {},
     "output_type": "display_data"
    }
   ],
   "execution_count": 66
  },
  {
   "metadata": {},
   "cell_type": "code",
   "outputs": [],
   "execution_count": null,
   "source": "",
   "id": "273d878548563d65"
  }
 ],
 "metadata": {
  "kernelspec": {
   "display_name": "Python 3",
   "language": "python",
   "name": "python3"
  },
  "language_info": {
   "codemirror_mode": {
    "name": "ipython",
    "version": 2
   },
   "file_extension": ".py",
   "mimetype": "text/x-python",
   "name": "python",
   "nbconvert_exporter": "python",
   "pygments_lexer": "ipython2",
   "version": "2.7.6"
  }
 },
 "nbformat": 4,
 "nbformat_minor": 5
}
