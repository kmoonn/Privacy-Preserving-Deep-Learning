{
 "cells": [
  {
   "cell_type": "code",
   "id": "initial_id",
   "metadata": {
    "collapsed": true,
    "ExecuteTime": {
     "end_time": "2024-08-07T03:53:15.239680Z",
     "start_time": "2024-08-07T03:53:12.340056Z"
    }
   },
   "source": [
    "import random\n",
    "import paddle\n",
    "import numpy as np\n",
    "import itertools\n",
    "from paddle.vision.datasets import Cifar10,MNIST\n",
    "import matplotlib.pyplot as plt"
   ],
   "outputs": [],
   "execution_count": 1
  },
  {
   "metadata": {
    "ExecuteTime": {
     "end_time": "2024-08-07T03:53:25.626775Z",
     "start_time": "2024-08-07T03:53:17.802321Z"
    }
   },
   "cell_type": "code",
   "source": [
    "cifar10_train = Cifar10(\n",
    "    mode= 'train',\n",
    "    backend=\"cv2\"   # 指定要返回的图像类型：PIL.Image 或 numpy.ndarray。必须是 {'pil'，'cv2'} 中的值\n",
    ")\n",
    "\n",
    "mnist_train = MNIST(\n",
    "    mode= 'train',\n",
    "    backend=\"cv2\" \n",
    ")"
   ],
   "id": "4dc2d9cb8422cc64",
   "outputs": [],
   "execution_count": 2
  },
  {
   "metadata": {
    "ExecuteTime": {
     "end_time": "2024-08-07T03:53:25.657778Z",
     "start_time": "2024-08-07T03:53:25.633788Z"
    }
   },
   "cell_type": "code",
   "source": [
    "img0,label = cifar10_train[0]\n",
    "print(img0[:,:,0])\\\n",
    "    \n",
    "#     np.dstack((r, g, b))"
   ],
   "id": "98f778f91e0ff6d4",
   "outputs": [
    {
     "name": "stdout",
     "output_type": "stream",
     "text": [
      "[[ 59.  43.  50. ... 158. 152. 148.]\n",
      " [ 16.   0.  18. ... 123. 119. 122.]\n",
      " [ 25.  16.  49. ... 118. 120. 109.]\n",
      " ...\n",
      " [208. 201. 198. ... 160.  56.  53.]\n",
      " [180. 173. 186. ... 184.  97.  83.]\n",
      " [177. 168. 179. ... 216. 151. 123.]]\n"
     ]
    }
   ],
   "execution_count": 3
  },
  {
   "metadata": {
    "ExecuteTime": {
     "end_time": "2024-08-07T03:53:26.787656Z",
     "start_time": "2024-08-07T03:53:26.754662Z"
    }
   },
   "cell_type": "code",
   "source": [
    "class ScalarTransformation:\n",
    "    def __init__(self, image_array,imgsize, block_size = 4):\n",
    "        self.image_size = imgsize\n",
    "        self.img_w,self.img_h,self.img_c = imgsize\n",
    "        self.block_size = block_size\n",
    "        self.block_num = int((self.img_w / block_size) * (self.img_h / block_size))\n",
    "        self.image_array = image_array\n",
    "    \n",
    "    def ImagePartition(self,array):\n",
    "        h, w, c = self.img_h, self.img_w, self.img_c\n",
    "\n",
    "        blocks = []\n",
    "        \n",
    "        width = [i * self.block_size for i in range(int(w / self.block_size))]\n",
    "\n",
    "        hight = [i * self.block_size for i in range(int(h / self.block_size))]\n",
    "\n",
    "        for i in hight:\n",
    "\n",
    "            for j in width:\n",
    "                blocks.append(array[i:i + self.block_size, j:j + self.block_size])\n",
    "\n",
    "        return blocks\n",
    "        \n",
    "    def BlockRotation(self,array):\n",
    "        rotated_blocks = []\n",
    "        block_list = self.ImagePartition(array)\n",
    "        key1 = random.choice([1,2,3,4])\n",
    "        \n",
    "        for i in range(self.block_num):\n",
    "            rotated_block = np.rot90(block_list[i], k=key1)\n",
    "            rotated_blocks.append(rotated_block)\n",
    "            \n",
    "        return rotated_blocks\n",
    "        \n",
    "    def PixelAdjustment(self,array,key2=2024):\n",
    "        adjusted_blocks = []\n",
    "        block_list = self.BlockRotation(array)\n",
    "        np.random.seed(key2)\n",
    "        \n",
    "        for i in range(self.block_num):\n",
    "            adjusted_block = block_list[i] ^ np.random.choice([0, 255], size=(self.block_size, self.block_size), p=[0.5, 0.5]) \n",
    "            \n",
    "            adjusted_blocks.append(adjusted_block)\n",
    "            \n",
    "        return adjusted_blocks\n",
    "    \n",
    "    def BlockFlipping(self,array):\n",
    "        flipped_blocks = []\n",
    "        block_list = self.PixelAdjustment(array)\n",
    "        key3 = random.choice([0,1,2])\n",
    "        \n",
    "        for i in range(self.block_num):\n",
    "            flipped_block = []\n",
    "            if key3 == 0:\n",
    "                flipped_block = block_list[i]\n",
    "            elif key3 == 1:\n",
    "                flipped_block = np.fliplr(block_list[i]) #水平翻转\n",
    "            elif key3 == 2:\n",
    "                flipped_block = np.flipud(block_list[i])\n",
    "                \n",
    "            flipped_blocks.append(flipped_block)\n",
    "        return flipped_blocks\n",
    "            \n",
    "    def ColorShuffling(self,r,g,b):\n",
    "        color_shuffled_array = []\n",
    "        key4 = random.choice([0,1,2,3,4,5])\n",
    "\n",
    "        if key4 == 0:\n",
    "            color_shuffled_array = np.dstack((r, g, b))\n",
    "        elif key4 == 1:\n",
    "            color_shuffled_array = np.dstack((r, b, g))\n",
    "        elif key4 == 2:\n",
    "            color_shuffled_array = np.dstack((g, r, b))\n",
    "        elif key4 == 3:\n",
    "            color_shuffled_array = np.dstack((g, b, r))\n",
    "        elif key4 == 4:\n",
    "            color_shuffled_array = np.dstack((b, r, g))\n",
    "        elif key4 == 5:\n",
    "            color_shuffled_array = np.dstack((b, g, r))\n",
    "        return color_shuffled_array\n",
    "        \n",
    "    def BlockShuffling(self,array,key5=2024):\n",
    "        Row = []\n",
    "        Column = []\n",
    "                \n",
    "        block_list = self.BlockFlipping(array)\n",
    "\n",
    "        random.Random(key5).shuffle(block_list)\n",
    "\n",
    "        for i in range(self.block_num):\n",
    "\n",
    "            if (i + 1) % (self.image_size[1] / self.block_size) != 0:\n",
    "                Row.append(block_list[i])\n",
    "            else:\n",
    "                Row.append(block_list[i])\n",
    "                Column.append(np.hstack(Row))\n",
    "                Row = []\n",
    "        return np.vstack(Column)\n",
    "    \n",
    "    def MergeRGB(self,image_array):\n",
    "        r = image_array[:,:,0]\n",
    "        g = image_array[:,:,1]\n",
    "        b = image_array[:,:,2]\n",
    "        \n",
    "        encrypted_r = self.BlockShuffling(r)\n",
    "        encrypted_g = self.BlockShuffling(g)\n",
    "        encrypted_b = self.BlockShuffling(b)\n",
    "        \n",
    "        color_shuffled_array = self.ColorShuffling(encrypted_r,encrypted_g,encrypted_b)\n",
    "        \n",
    "        return color_shuffled_array\n",
    "        \n",
    "    def Encrypt(self):\n",
    "        if self.img_c == 1:\n",
    "            return self.BlockShuffling(self.image_array)\n",
    "        else:\n",
    "            return self.MergeRGB(self.image_array)"
   ],
   "id": "b69ead4756ee4f3c",
   "outputs": [],
   "execution_count": 4
  },
  {
   "metadata": {
    "ExecuteTime": {
     "end_time": "2024-08-07T04:01:08.550515Z",
     "start_time": "2024-08-07T04:01:08.538512Z"
    }
   },
   "cell_type": "code",
   "source": [
    "def show(img,imgsize):\n",
    "    fig = plt.figure(figsize=(10,10)) \n",
    "    ax1 = fig.add_subplot(1, 5, 1)  # 2行1列，第1个位置  \n",
    "    plt.title('original image',fontsize=10)\n",
    "    ax1.imshow(img,cmap='gray')\n",
    "    \n",
    "    encoder = ScalarTransformation(image_array=img,imgsize=imgsize,block_size=4)\n",
    "    encrypted_img = encoder.Encrypt()\n",
    "    ax2 = fig.add_subplot(1, 5, 2)\n",
    "    plt.title('SIT',fontsize=10)\n",
    "    ax2.imshow(encrypted_img,cmap='gray')"
   ],
   "id": "f414168416d11b4b",
   "outputs": [],
   "execution_count": 16
  },
  {
   "metadata": {
    "ExecuteTime": {
     "end_time": "2024-08-07T04:01:09.702535Z",
     "start_time": "2024-08-07T04:01:09.113778Z"
    }
   },
   "cell_type": "code",
   "source": [
    "for img, label in itertools.islice(iter(mnist_train), 1):\n",
    "    img = img.astype(np.uint8)\n",
    "    show(img,imgsize=(28,28,1))\n",
    "    \n",
    "for img, label in itertools.islice(iter(cifar10_train), 1):\n",
    "    img = img.astype(np.uint8)\n",
    "    show(img,imgsize=(32,32,3))"
   ],
   "id": "77eda3bbfab0ad1b",
   "outputs": [
    {
     "data": {
      "text/plain": [
       "<Figure size 1000x1000 with 2 Axes>"
      ],
      "image/png": "[encoded data removed]"
     },
     "metadata": {},
     "output_type": "display_data"
    },
    {
     "data": {
      "text/plain": [
       "<Figure size 1000x1000 with 2 Axes>"
      ],
      "image/png": "[encoded data removed]"
     },
     "metadata": {},
     "output_type": "display_data"
    }
   ],
   "execution_count": 17
  },
  {
   "metadata": {},
   "cell_type": "code",
   "outputs": [],
   "execution_count": null,
   "source": "",
   "id": "7860b8882ec235a8"
  }
 ],
 "metadata": {
  "kernelspec": {
   "display_name": "Python 3",
   "language": "python",
   "name": "python3"
  },
  "language_info": {
   "codemirror_mode": {
    "name": "ipython",
    "version": 2
   },
   "file_extension": ".py",
   "mimetype": "text/x-python",
   "name": "python",
   "nbconvert_exporter": "python",
   "pygments_lexer": "ipython2",
   "version": "2.7.6"
  }
 },
 "nbformat": 4,
 "nbformat_minor": 5
}
