{
 "cells": [
  {
   "cell_type": "code",
   "id": "initial_id",
   "metadata": {
    "collapsed": true,
    "ExecuteTime": {
     "end_time": "2024-08-05T09:45:42.449081Z",
     "start_time": "2024-08-05T09:45:38.081369Z"
    }
   },
   "source": [
    "import itertools\n",
    "from paddle.vision.datasets import Cifar10,MNIST\n",
    "import matplotlib.pyplot as plt\n",
    "import numpy as np\n",
    "from scipy.stats import laplace  "
   ],
   "outputs": [],
   "execution_count": 1
  },
  {
   "metadata": {
    "ExecuteTime": {
     "end_time": "2024-08-05T09:45:43.626261Z",
     "start_time": "2024-08-05T09:45:43.621259Z"
    }
   },
   "cell_type": "code",
   "source": "cifar10_classes = ('plane', 'car', 'bird', 'cat', 'deer', 'dog', 'frog', 'horse', 'ship', 'truck')",
   "id": "4a504c8f77277f8d",
   "outputs": [],
   "execution_count": 2
  },
  {
   "metadata": {
    "ExecuteTime": {
     "end_time": "2024-08-05T09:45:52.197657Z",
     "start_time": "2024-08-05T09:45:44.050047Z"
    }
   },
   "cell_type": "code",
   "source": [
    "cifar10_train = Cifar10(\n",
    "    mode= 'train',\n",
    "    backend=\"cv2\"   # 指定要返回的图像类型：PIL.Image 或 numpy.ndarray。必须是 {'pil'，'cv2'} 中的值\n",
    ")\n",
    "\n",
    "mnist_train = MNIST(\n",
    "    mode= 'train',\n",
    "    backend=\"cv2\" \n",
    ")"
   ],
   "id": "71f67ff333953fc3",
   "outputs": [],
   "execution_count": 3
  },
  {
   "metadata": {},
   "cell_type": "markdown",
   "source": "#  Differentially Private Pixelization",
   "id": "e88d1bd133003ef9"
  },
  {
   "metadata": {
    "ExecuteTime": {
     "end_time": "2024-08-05T09:45:53.154422Z",
     "start_time": "2024-08-05T09:45:53.128428Z"
    }
   },
   "cell_type": "code",
   "source": [
    "class PIX:\n",
    "    def __init__(self,image_size,block_size,m,epsilon):\n",
    "        '''\n",
    "        grid cell length b \n",
    "        Privacy parameter epsilon\n",
    "        Number of different pixels allowed m\n",
    "        '''\n",
    "        \n",
    "        self.img_size = image_size\n",
    "\n",
    "        self.block_size = block_size\n",
    "        \n",
    "        self.epsilon = epsilon\n",
    "        \n",
    "        self.global_sensitivity = 255 * m/pow(block_size,2)\n",
    "        \n",
    "        self.block_num = int((image_size[0] / block_size) * (image_size[1] / block_size))\n",
    "    \n",
    "    \n",
    "    # 分块\n",
    "    def blocking(self, array):\n",
    "\n",
    "        h, r = array.shape[0:2]\n",
    "\n",
    "        blocks = []\n",
    "\n",
    "        hight = [i * self.block_size for i in range(int(h / self.block_size))]\n",
    "\n",
    "        width = [i * self.block_size for i in range(int(r / self.block_size))]\n",
    "\n",
    "        for i in hight:\n",
    "\n",
    "            for j in width:\n",
    "                blocks.append(array[i:i + self.block_size, j:j + self.block_size])\n",
    "\n",
    "        return blocks\n",
    "    \n",
    "    def average_pixel_value(self,block_list):\n",
    "        \n",
    "        block_avg_value = []\n",
    "        \n",
    "        for i in range(self.block_num):\n",
    "            pixel_avg_value = np.mean(block_list[i])\n",
    "            block_avg_value.append(pixel_avg_value * np.ones_like(block_list[i]))\n",
    "            \n",
    "        return block_avg_value\n",
    "    \n",
    "    \n",
    "    def add_laplace_noise(self,block_list):\n",
    "        block_add_noise = []\n",
    "        b = self.global_sensitivity/self.epsilon\n",
    "        \n",
    "        for i in range(self.block_num):\n",
    "            noise = laplace.rvs(loc=0, scale=b, size=block_list[i].size).reshape(block_list[i].shape)\n",
    "            block_add_noise.append(np.clip(block_list[i] + noise, 0, 255).astype(np.uint8))\n",
    "            \n",
    "        return block_add_noise\n",
    "    \n",
    "    def block2M(self,block_list):\n",
    "\n",
    "        Row = []\n",
    "\n",
    "        Column = []\n",
    "\n",
    "        blocks=block_list\n",
    "\n",
    "        for i in range(self.block_num):\n",
    "\n",
    "            if (i+1)%(self.img_size[1]/self.block_size)!=0:\n",
    "\n",
    "                Row.append(blocks[i])\n",
    "\n",
    "            else:\n",
    "\n",
    "                Row.append(blocks[i])\n",
    "\n",
    "                Column.append(np.hstack(Row))\n",
    "\n",
    "                Row=[]\n",
    "\n",
    "        return np.vstack(Column)\n",
    "    \n",
    "    def pixelization(self,img):\n",
    "        return self.block2M(self.add_laplace_noise(self.average_pixel_value(self.blocking(img))))"
   ],
   "id": "5dd52355ae101a9a",
   "outputs": [],
   "execution_count": 4
  },
  {
   "metadata": {
    "ExecuteTime": {
     "end_time": "2024-08-05T09:45:53.655045Z",
     "start_time": "2024-08-05T09:45:53.643046Z"
    }
   },
   "cell_type": "code",
   "source": "encoder = PIX(image_size=(28,28),block_size=4,m=4,epsilon=0.5)",
   "id": "43fda503fe0e9bd3",
   "outputs": [],
   "execution_count": 5
  },
  {
   "metadata": {
    "ExecuteTime": {
     "end_time": "2024-08-05T09:46:54.225366Z",
     "start_time": "2024-08-05T09:46:54.205366Z"
    }
   },
   "cell_type": "code",
   "source": [
    "def show(img,imgsize):\n",
    "    fig = plt.figure(figsize=(10,10)) \n",
    "    ax1 = fig.add_subplot(1, 5, 1)  # 2行1列，第1个位置  \n",
    "    plt.title('original image',fontsize=10)\n",
    "    ax1.imshow(img,cmap='gray')\n",
    "    \n",
    "    img2pix = encoder.pixelization(img)\n",
    "    print(img2pix.shape)\n",
    "    ax2 = fig.add_subplot(1, 5, 2)\n",
    "    plt.title('PIX',fontsize=10)\n",
    "    ax2.imshow(img2pix,cmap='gray')"
   ],
   "id": "9731ec51afe8a511",
   "outputs": [],
   "execution_count": 9
  },
  {
   "metadata": {
    "ExecuteTime": {
     "end_time": "2024-08-05T09:47:43.157434Z",
     "start_time": "2024-08-05T09:47:42.938437Z"
    }
   },
   "cell_type": "code",
   "source": [
    "# for img, label in itertools.islice(iter(mnist_train), 1):\n",
    "#     img = img.astype(np.uint8)\n",
    "#     print(img.shape)\n",
    "#     show(img,imgsize=(28,28))\n",
    "    \n",
    "for img, label in itertools.islice(iter(cifar10_train), 1):\n",
    "    img = img.astype(np.uint8)\n",
    "    print(img.shape)\n",
    "    show(img,imgsize=(32,32))"
   ],
   "id": "948c2aa70f0c43fc",
   "outputs": [
    {
     "name": "stdout",
     "output_type": "stream",
     "text": [
      "(32, 32, 3)\n",
      "(28, 28, 3)\n"
     ]
    },
    {
     "data": {
      "text/plain": [
       "<Figure size 1000x1000 with 2 Axes>"
      ],
      "image/png": "[encoded data removed]"
     },
     "metadata": {},
     "output_type": "display_data"
    }
   ],
   "execution_count": 13
  },
  {
   "metadata": {},
   "cell_type": "code",
   "outputs": [],
   "execution_count": null,
   "source": "",
   "id": "a6c00ca48effa45"
  }
 ],
 "metadata": {
  "kernelspec": {
   "display_name": "Python 3",
   "language": "python",
   "name": "python3"
  },
  "language_info": {
   "codemirror_mode": {
    "name": "ipython",
    "version": 2
   },
   "file_extension": ".py",
   "mimetype": "text/x-python",
   "name": "python",
   "nbconvert_exporter": "python",
   "pygments_lexer": "ipython2",
   "version": "2.7.6"
  }
 },
 "nbformat": 4,
 "nbformat_minor": 5
}
