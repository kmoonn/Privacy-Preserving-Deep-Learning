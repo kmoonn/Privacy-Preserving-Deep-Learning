{
 "cells": [
  {
   "cell_type": "code",
   "id": "initial_id",
   "metadata": {
    "collapsed": true,
    "ExecuteTime": {
     "end_time": "2024-08-07T06:18:26.864941Z",
     "start_time": "2024-08-07T06:18:23.145516Z"
    }
   },
   "source": [
    "import torch\n",
    "import torchvision.transforms as transforms\n",
    "import torchvision.datasets as datasets\n",
    "import matplotlib.pyplot as plt\n",
    "import torch.nn as nn\n",
    "import numpy as np\n",
    "import pyffx"
   ],
   "outputs": [],
   "execution_count": 1
  },
  {
   "metadata": {
    "ExecuteTime": {
     "end_time": "2024-08-07T06:23:18.433756Z",
     "start_time": "2024-08-07T06:23:18.401759Z"
    }
   },
   "cell_type": "code",
   "source": [
    "class BlockTransform(nn.Module):\n",
    "    \"\"\"\n",
    "    Generic class for block-wise transformation.\n",
    "    \"\"\"\n",
    "\n",
    "    def __init__(self, config):\n",
    "        super().__init__()\n",
    "        self.block_size = config.block_size\n",
    "        assert (\n",
    "            config.height % self.block_size == 0 | config.width % self.block_size == 0\n",
    "        ), \"Image not divisible by block_size\"\n",
    "        self.blocks_axis0 = int(config.height / self.block_size)\n",
    "        self.blocks_axis1 = int(config.width / self.block_size)\n",
    "\n",
    "    def segment(self, X):\n",
    "        \"\"\"将输入张量 X 的维度重新排序，将通道维度从第二维移到最后一维。\n",
    "        假设输入张量形状为 (batch_size, channels, height, width)，\n",
    "        它将变为 (batch_size, height, width, channels)。\"\"\"\n",
    "        X = X.permute(0, 2, 3, 1)\n",
    "        '''将图像重新形状，分割为块。每个块的大小为 block_size x block_size，\n",
    "        而图像被分割成 blocks_axis0 x blocks_axis1 个块。'''\n",
    "        X = X.reshape(\n",
    "            -1,\n",
    "            self.blocks_axis0,\n",
    "            self.block_size,\n",
    "            self.blocks_axis1,\n",
    "            self.block_size,\n",
    "            1,\n",
    "        )\n",
    "\n",
    "        X = X.permute(0, 1, 3, 2, 4, 5)\n",
    "        '''将这些块展平成一维向量，每个块现在被表示为一维的像素值序列。'''\n",
    "        X = X.reshape(\n",
    "            -1,\n",
    "            self.blocks_axis0,\n",
    "            self.blocks_axis1,\n",
    "            self.block_size * self.block_size * 1,\n",
    "        )\n",
    "        return X\n",
    "\n",
    "    def integrate(self, X):\n",
    "        X = X.reshape(\n",
    "            -1,\n",
    "            self.blocks_axis0,\n",
    "            self.blocks_axis1,\n",
    "            self.block_size,\n",
    "            self.block_size,\n",
    "            1,\n",
    "        )\n",
    "        X = X.permute(0, 1, 3, 2, 4, 5)\n",
    "        X = X.reshape(\n",
    "            -1,\n",
    "            self.blocks_axis0 * self.block_size,\n",
    "            self.blocks_axis1 * self.block_size,\n",
    "            1,\n",
    "        )\n",
    "        X = X.permute(0, 3, 1, 2)\n",
    "        return X\n",
    "\n",
    "    def generate_key(self, seed, binary=False):\n",
    "        torch.manual_seed(seed)\n",
    "        key = torch.randperm(self.block_size * self.block_size * 1)\n",
    "        if binary:\n",
    "            key = key > len(key) / 2\n",
    "        return key\n",
    "\n",
    "\n",
    "    def forward(self, X, decrypt=False):\n",
    "        raise NotImplementedError\n",
    "\n",
    "# 用来对图像块内的像素值进行加密和解密。\n",
    "# 格式保留加密\n",
    "class FFX(BlockTransform):\n",
    "    def __init__(self, config):\n",
    "        super().__init__(config)\n",
    "        self.key = self.generate_key(config.seed, binary=True) # 二进制密钥\n",
    "        self.lookup, self.relookup = self.generate_lookup(config.password) # 使用给定的密码生成加密和解密的查找表\n",
    "\n",
    "    # 生成用于加密和解密的查找表。通过将整数范围的像素值进行加密和解密，创建查找表。\n",
    "    def generate_lookup(self, password=\"password\"):\n",
    "        password = str.encode(password)\n",
    "        fpe = pyffx.Integer(password, length=3)\n",
    "        f = lambda x: fpe.encrypt(x)\n",
    "        g = lambda x: fpe.decrypt(x)\n",
    "        f = np.vectorize(f)\n",
    "        g = np.vectorize(g)\n",
    "        lookup = f(np.arange(256))\n",
    "        relookup = g(np.arange(1000))\n",
    "        lookup = torch.from_numpy(lookup).long()\n",
    "        relookup = torch.from_numpy(relookup).long()\n",
    "        return lookup, relookup\n",
    "\n",
    "    def forward(self, X, decrypt=False):\n",
    "        X = self.segment(X)\n",
    "        if decrypt: # 解密\n",
    "            X = (X * self.lookup.max()).long()\n",
    "            X[:, :, :, self.key] = self.relookup[X[:, :, :, self.key]]\n",
    "            X = X.float()\n",
    "            X = X / 255.0\n",
    "        else: # 加密\n",
    "            # important: without it cuda trigerring devise assertion error with index out of bound\n",
    "            X = torch.clamp(X, 0, 1)\n",
    "            X = (X * 255).long()\n",
    "            X[:, :, :, self.key] = self.lookup[X[:, :, :, self.key]].clone()\n",
    "            X = X.float()\n",
    "            X = X / self.lookup.max()\n",
    "        X = self.integrate(X)\n",
    "        return X.contiguous()\n"
   ],
   "id": "9451f13be9ee5db8",
   "outputs": [],
   "execution_count": 21
  },
  {
   "metadata": {
    "ExecuteTime": {
     "end_time": "2024-08-07T06:23:18.780576Z",
     "start_time": "2024-08-07T06:23:18.760582Z"
    }
   },
   "cell_type": "code",
   "source": [
    "# 定义配置类\n",
    "class Config:\n",
    "    def __init__(self, block_size=4, height=28, width=28, seed=2024, password=\"password\"):\n",
    "        self.block_size = block_size\n",
    "        self.height = height\n",
    "        self.width = width\n",
    "        self.seed = seed\n",
    "        self.password = password"
   ],
   "id": "566d74463a62bc81",
   "outputs": [],
   "execution_count": 22
  },
  {
   "metadata": {
    "ExecuteTime": {
     "end_time": "2024-08-07T06:42:46.816652Z",
     "start_time": "2024-08-07T06:42:43.837645Z"
    }
   },
   "cell_type": "code",
   "source": [
    "# 初始化配置\n",
    "config = Config()\n",
    "\n",
    "# 加载CIFAR-10数据集\n",
    "transform = transforms.Compose([transforms.ToTensor()])\n",
    "cifar10 = datasets.CIFAR10(root='./data', train=True, download=True, transform=transform)\n",
    "mnist = datasets.MNIST(root='./data', train=True, download=True, transform=transform)\n",
    "\n",
    "# 获取一个样本图像\n",
    "image, label = mnist[0]\n",
    "print(image.shape)\n",
    "image = image.unsqueeze(0)  # 增加批次维度\n",
    "print(image.shape)\n",
    "\n",
    "# 初始化转换类\n",
    "ffx_transform = FFX(config)\n",
    "\n",
    "# 可视化原图像及变换后的图像\n",
    "fig, axs = plt.subplots(2, 4, figsize=(12, 6))\n",
    "\n",
    "axs[0, 0].imshow(image[0].permute(1, 2, 0))\n",
    "axs[0, 0].set_title('Original Image')\n",
    "\n",
    "# 应用FFX变换\n",
    "ffx_image = ffx_transform(image)\n",
    "# recovered_ffx_image = ffx_transform(ffx_image, decrypt=True)\n",
    "\n",
    "axs[1, 0].imshow(ffx_image[0].permute(1, 2, 0))\n",
    "axs[1, 0].set_title('FFX Image')\n",
    "# axs[1, 1].imshow(recovered_ffx_image[0].permute(1, 2, 0))\n",
    "# axs[1, 1].set_title('Recovered FFX Image')\n",
    "\n",
    "for ax in axs.flat:\n",
    "    ax.axis('off')\n",
    "\n",
    "plt.tight_layout()\n",
    "plt.show()"
   ],
   "id": "3612b1dd1556112c",
   "outputs": [
    {
     "name": "stdout",
     "output_type": "stream",
     "text": [
      "Files already downloaded and verified\n",
      "torch.Size([1, 28, 28])\n",
      "torch.Size([1, 1, 28, 28])\n"
     ]
    },
    {
     "data": {
      "text/plain": [
       "<Figure size 1200x600 with 8 Axes>"
      ],
      "image/png": "[encoded data removed]"
     },
     "metadata": {},
     "output_type": "display_data"
    }
   ],
   "execution_count": 24
  },
  {
   "metadata": {},
   "cell_type": "code",
   "outputs": [],
   "execution_count": null,
   "source": "",
   "id": "6d9182717c49112f"
  }
 ],
 "metadata": {
  "kernelspec": {
   "display_name": "Python 3",
   "language": "python",
   "name": "python3"
  },
  "language_info": {
   "codemirror_mode": {
    "name": "ipython",
    "version": 2
   },
   "file_extension": ".py",
   "mimetype": "text/x-python",
   "name": "python",
   "nbconvert_exporter": "python",
   "pygments_lexer": "ipython2",
   "version": "2.7.6"
  }
 },
 "nbformat": 4,
 "nbformat_minor": 5
}
