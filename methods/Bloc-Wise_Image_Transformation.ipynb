{
 "cells": [
  {
   "metadata": {
    "ExecuteTime": {
     "end_time": "2024-07-28T08:50:07.183470Z",
     "start_time": "2024-07-28T08:50:07.178453Z"
    }
   },
   "cell_type": "code",
   "source": [
    "import itertools\n",
    "from paddle.vision.datasets import Cifar10,MNIST\n",
    "import matplotlib.pyplot as plt\n",
    "import numpy as np\n",
    "import paddle\n",
    "import pyffx"
   ],
   "id": "7d7617ad8f174301",
   "outputs": [],
   "execution_count": 143
  },
  {
   "metadata": {
    "ExecuteTime": {
     "end_time": "2024-07-28T08:50:12.842216Z",
     "start_time": "2024-07-28T08:50:08.011477Z"
    }
   },
   "cell_type": "code",
   "source": [
    "cifar10_train = Cifar10(\n",
    "    mode= 'train',\n",
    "    backend=\"cv2\"   # 指定要返回的图像类型：PIL.Image 或 numpy.ndarray。必须是 {'pil'，'cv2'} 中的值\n",
    ")\n",
    "\n",
    "print(type(cifar10_train),len(cifar10_train))"
   ],
   "id": "6c1d989a2f1ccf22",
   "outputs": [
    {
     "name": "stdout",
     "output_type": "stream",
     "text": [
      "<class 'paddle.vision.datasets.cifar.Cifar10'> 50000\n"
     ]
    }
   ],
   "execution_count": 144
  },
  {
   "metadata": {
    "ExecuteTime": {
     "end_time": "2024-07-28T08:50:13.494406Z",
     "start_time": "2024-07-28T08:50:13.470466Z"
    }
   },
   "cell_type": "code",
   "source": [
    "img0,label0 = cifar10_train[0]\n",
    "img0 = paddle.to_tensor(img0)\n",
    "print(type(img0),img0.shape)\n",
    "print(img0)"
   ],
   "id": "157931308cae57c0",
   "outputs": [
    {
     "name": "stdout",
     "output_type": "stream",
     "text": [
      "<class 'paddle.Tensor'> [32, 32, 3]\n",
      "Tensor(shape=[32, 32, 3], dtype=float32, place=Place(gpu:0), stop_gradient=True,\n",
      "       [[[59. , 62. , 63. ],\n",
      "         [43. , 46. , 45. ],\n",
      "         [50. , 48. , 43. ],\n",
      "         ...,\n",
      "         [158., 132., 108.],\n",
      "         [152., 125., 102.],\n",
      "         [148., 124., 103.]],\n",
      "\n",
      "        [[16. , 20. , 20. ],\n",
      "         [0.  , 0.  , 0.  ],\n",
      "         [18. , 8.  , 0.  ],\n",
      "         ...,\n",
      "         [123., 88. , 55. ],\n",
      "         [119., 83. , 50. ],\n",
      "         [122., 87. , 57. ]],\n",
      "\n",
      "        [[25. , 24. , 21. ],\n",
      "         [16. , 7.  , 0.  ],\n",
      "         [49. , 27. , 8.  ],\n",
      "         ...,\n",
      "         [118., 84. , 50. ],\n",
      "         [120., 84. , 50. ],\n",
      "         [109., 73. , 42. ]],\n",
      "\n",
      "        ...,\n",
      "\n",
      "        [[208., 170., 96. ],\n",
      "         [201., 153., 34. ],\n",
      "         [198., 161., 26. ],\n",
      "         ...,\n",
      "         [160., 133., 70. ],\n",
      "         [56. , 31. , 7.  ],\n",
      "         [53. , 34. , 20. ]],\n",
      "\n",
      "        [[180., 139., 96. ],\n",
      "         [173., 123., 42. ],\n",
      "         [186., 144., 30. ],\n",
      "         ...,\n",
      "         [184., 148., 94. ],\n",
      "         [97. , 62. , 34. ],\n",
      "         [83. , 53. , 34. ]],\n",
      "\n",
      "        [[177., 144., 116.],\n",
      "         [168., 129., 94. ],\n",
      "         [179., 142., 87. ],\n",
      "         ...,\n",
      "         [216., 184., 140.],\n",
      "         [151., 118., 84. ],\n",
      "         [123., 92. , 72. ]]])\n"
     ]
    }
   ],
   "execution_count": 145
  },
  {
   "metadata": {
    "ExecuteTime": {
     "end_time": "2024-07-28T08:50:14.041410Z",
     "start_time": "2024-07-28T08:50:14.020467Z"
    }
   },
   "cell_type": "code",
   "source": [
    "def segment(x):\n",
    "    height,width,c = x.shape\n",
    "    block_size = 4\n",
    "    assert (height % block_size == 0 | width % block_size == 0), \"Image not divisible by block_size\"\n",
    "    \n",
    "    blocks_axis0 = int(height / block_size)\n",
    "    blocks_axis1 = int(width / block_size)\n",
    "    \n",
    "    x = paddle.reshape(x,\n",
    "            [blocks_axis0,\n",
    "            block_size,\n",
    "            blocks_axis1,\n",
    "            block_size,\n",
    "            3]\n",
    "        )\n",
    "    x = paddle.transpose(x,[0,2,1,3,4])\n",
    "    \n",
    "    x = paddle.reshape(x,[\n",
    "            blocks_axis0,\n",
    "            blocks_axis1,\n",
    "            block_size * block_size * 3]\n",
    "        )\n",
    "    \n",
    "    return  x"
   ],
   "id": "9b5cf2181a20637f",
   "outputs": [],
   "execution_count": 146
  },
  {
   "metadata": {
    "ExecuteTime": {
     "end_time": "2024-07-28T08:50:15.133301Z",
     "start_time": "2024-07-28T08:50:15.119338Z"
    }
   },
   "cell_type": "code",
   "source": "img = segment(img0)",
   "id": "7d7c650e7df60b10",
   "outputs": [],
   "execution_count": 147
  },
  {
   "metadata": {
    "ExecuteTime": {
     "end_time": "2024-07-28T08:50:15.148292Z",
     "start_time": "2024-07-28T08:50:15.134299Z"
    }
   },
   "cell_type": "code",
   "source": [
    "print(type(img),img.shape)\n",
    "print(len(img))\n",
    "print(img)"
   ],
   "id": "24078e986461fa2",
   "outputs": [
    {
     "name": "stdout",
     "output_type": "stream",
     "text": [
      "<class 'paddle.Tensor'> [8, 8, 48]\n",
      "8\n",
      "Tensor(shape=[8, 8, 48], dtype=float32, place=Place(gpu:0), stop_gradient=True,\n",
      "       [[[59. , 62. , 63. , ..., 106., 63. , 28. ],\n",
      "         [98. , 73. , 52. , ..., 105., 62. , 33. ],\n",
      "         [149., 117., 89. , ..., 109., 75. , 40. ],\n",
      "         ...,\n",
      "         [139., 112., 75. , ..., 131., 93. , 52. ],\n",
      "         [152., 120., 89. , ..., 135., 93. , 51. ],\n",
      "         [158., 130., 104., ..., 94. , 62. , 35. ]],\n",
      "\n",
      "        [[50. , 32. , 21. , ..., 140., 97. , 53. ],\n",
      "         [124., 77. , 36. , ..., 137., 89. , 46. ],\n",
      "         [107., 72. , 34. , ..., 108., 70. , 39. ],\n",
      "         ...,\n",
      "         [134., 93. , 50. , ..., 112., 56. , 55. ],\n",
      "         [135., 92. , 51. , ..., 114., 76. , 39. ],\n",
      "         [103., 67. , 32. , ..., 102., 74. , 46. ]],\n",
      "\n",
      "        [[137., 100., 68. , ..., 135., 97. , 55. ],\n",
      "         [119., 81. , 44. , ..., 103., 74. , 42. ],\n",
      "         [121., 80. , 40. , ..., 146., 86. , 22. ],\n",
      "         ...,\n",
      "         [77. , 42. , 27. , ..., 125., 78. , 40. ],\n",
      "         [107., 67. , 36. , ..., 132., 93. , 56. ],\n",
      "         [127., 89. , 48. , ..., 133., 92. , 56. ]],\n",
      "\n",
      "        ...,\n",
      "\n",
      "        [[143., 104., 66. , ..., 149., 96. , 52. ],\n",
      "         [130., 86. , 45. , ..., 151., 104., 57. ],\n",
      "         [210., 199., 186., ..., 212., 174., 138.],\n",
      "         ...,\n",
      "         [141., 113., 67. , ..., 91. , 60. , 34. ],\n",
      "         [198., 175., 146., ..., 118., 141., 20. ],\n",
      "         [119., 88. , 43. , ..., 190., 174., 99. ]],\n",
      "\n",
      "        [[149., 107., 74. , ..., 151., 111., 35. ],\n",
      "         [150., 104., 63. , ..., 144., 100., 53. ],\n",
      "         [175., 131., 96. , ..., 131., 87. , 41. ],\n",
      "         ...,\n",
      "         [153., 109., 61. , ..., 148., 105., 59. ],\n",
      "         [93. , 73. , 33. , ..., 143., 107., 57. ],\n",
      "         [113., 99. , 24. , ..., 71. , 48. , 26. ]],\n",
      "\n",
      "        [[220., 182., 91. , ..., 188., 149., 67. ],\n",
      "         [156., 120., 26. , ..., 207., 181., 70. ],\n",
      "         [150., 105., 73. , ..., 163., 128., 92. ],\n",
      "         ...,\n",
      "         [149., 101., 60. , ..., 119., 91. , 58. ],\n",
      "         [145., 107., 61. , ..., 103., 78. , 57. ],\n",
      "         [186., 155., 98. , ..., 123., 92. , 72. ]]])\n"
     ]
    }
   ],
   "execution_count": 148
  },
  {
   "metadata": {
    "ExecuteTime": {
     "end_time": "2024-07-28T08:50:15.837204Z",
     "start_time": "2024-07-28T08:50:15.823243Z"
    }
   },
   "cell_type": "code",
   "source": [
    "def integrate(x):\n",
    "    x = paddle.reshape(x,[\n",
    "            8,\n",
    "            8,\n",
    "            4,\n",
    "            4,\n",
    "            3]\n",
    "        )\n",
    "    x = paddle.transpose(x,[0, 2, 1, 3, 4])\n",
    "    x = paddle.reshape(x,[\n",
    "            8 * 4,\n",
    "            8 * 4,\n",
    "            3]\n",
    "        )\n",
    "    return x"
   ],
   "id": "2ee66940a5fe659c",
   "outputs": [],
   "execution_count": 149
  },
  {
   "metadata": {
    "ExecuteTime": {
     "end_time": "2024-07-28T08:50:16.557070Z",
     "start_time": "2024-07-28T08:50:16.548094Z"
    }
   },
   "cell_type": "code",
   "source": "img0 = integrate(img)",
   "id": "4a010a7c01fbe941",
   "outputs": [],
   "execution_count": 150
  },
  {
   "metadata": {
    "ExecuteTime": {
     "end_time": "2024-07-28T08:50:16.996785Z",
     "start_time": "2024-07-28T08:50:16.986811Z"
    }
   },
   "cell_type": "code",
   "source": "img0",
   "id": "cdf25c374821cc3a",
   "outputs": [
    {
     "data": {
      "text/plain": [
       "Tensor(shape=[32, 32, 3], dtype=float32, place=Place(gpu:0), stop_gradient=True,\n",
       "       [[[59. , 62. , 63. ],\n",
       "         [43. , 46. , 45. ],\n",
       "         [50. , 48. , 43. ],\n",
       "         ...,\n",
       "         [158., 132., 108.],\n",
       "         [152., 125., 102.],\n",
       "         [148., 124., 103.]],\n",
       "\n",
       "        [[16. , 20. , 20. ],\n",
       "         [0.  , 0.  , 0.  ],\n",
       "         [18. , 8.  , 0.  ],\n",
       "         ...,\n",
       "         [123., 88. , 55. ],\n",
       "         [119., 83. , 50. ],\n",
       "         [122., 87. , 57. ]],\n",
       "\n",
       "        [[25. , 24. , 21. ],\n",
       "         [16. , 7.  , 0.  ],\n",
       "         [49. , 27. , 8.  ],\n",
       "         ...,\n",
       "         [118., 84. , 50. ],\n",
       "         [120., 84. , 50. ],\n",
       "         [109., 73. , 42. ]],\n",
       "\n",
       "        ...,\n",
       "\n",
       "        [[208., 170., 96. ],\n",
       "         [201., 153., 34. ],\n",
       "         [198., 161., 26. ],\n",
       "         ...,\n",
       "         [160., 133., 70. ],\n",
       "         [56. , 31. , 7.  ],\n",
       "         [53. , 34. , 20. ]],\n",
       "\n",
       "        [[180., 139., 96. ],\n",
       "         [173., 123., 42. ],\n",
       "         [186., 144., 30. ],\n",
       "         ...,\n",
       "         [184., 148., 94. ],\n",
       "         [97. , 62. , 34. ],\n",
       "         [83. , 53. , 34. ]],\n",
       "\n",
       "        [[177., 144., 116.],\n",
       "         [168., 129., 94. ],\n",
       "         [179., 142., 87. ],\n",
       "         ...,\n",
       "         [216., 184., 140.],\n",
       "         [151., 118., 84. ],\n",
       "         [123., 92. , 72. ]]])"
      ]
     },
     "execution_count": 151,
     "metadata": {},
     "output_type": "execute_result"
    }
   ],
   "execution_count": 151
  },
  {
   "metadata": {
    "ExecuteTime": {
     "end_time": "2024-07-28T08:50:17.602690Z",
     "start_time": "2024-07-28T08:50:17.457079Z"
    }
   },
   "cell_type": "code",
   "source": "plt.imshow(img0/255)",
   "id": "69bcd3ec38581c23",
   "outputs": [
    {
     "data": {
      "text/plain": [
       "<matplotlib.image.AxesImage at 0x2478d5b5b40>"
      ]
     },
     "execution_count": 152,
     "metadata": {},
     "output_type": "execute_result"
    },
    {
     "data": {
      "text/plain": [
       "<Figure size 640x480 with 1 Axes>"
      ],
      "image/png": "[encoded data removed]"
     },
     "metadata": {},
     "output_type": "display_data"
    }
   ],
   "execution_count": 152
  },
  {
   "metadata": {},
   "cell_type": "markdown",
   "source": "# 复现完成",
   "id": "2202b057a8dd20d0"
  },
  {
   "metadata": {
    "ExecuteTime": {
     "end_time": "2024-07-28T08:55:39.193425Z",
     "start_time": "2024-07-28T08:55:39.180460Z"
    }
   },
   "cell_type": "code",
   "source": [
    "class BlockTransform:\n",
    "    def __init__(self, block_size,height,width):\n",
    "        super().__init__()\n",
    "        self.block_size = block_size\n",
    "        self.height = height\n",
    "        self.width = width\n",
    "        assert (self.height % self.block_size == 0 | self.width % self.block_size == 0), \"Image not divisible by block_size\"\n",
    "        self.blocks_axis0 = int(height / self.block_size)\n",
    "        self.blocks_axis1 = int(width / self.block_size)\n",
    "\n",
    "    def segment(self,x):\n",
    "        x = paddle.reshape(x,\n",
    "            [self.blocks_axis0,\n",
    "            self.block_size,\n",
    "            self.blocks_axis1,\n",
    "            self.block_size,\n",
    "            3]\n",
    "        )\n",
    "        x = paddle.transpose(x,[0,2,1,3,4])\n",
    "    \n",
    "        x = paddle.reshape(x,[\n",
    "            self.blocks_axis0,\n",
    "            self.blocks_axis1,\n",
    "            self.block_size * self.block_size * 3]\n",
    "        )\n",
    "    \n",
    "        return  x\n",
    "    def integrate(self,x):\n",
    "        x = paddle.reshape(x,[\n",
    "            self.blocks_axis0,\n",
    "            self.blocks_axis0,\n",
    "            self.block_size,\n",
    "            self.block_size,\n",
    "            3,]\n",
    "        )\n",
    "        x = paddle.transpose(x,[0, 2, 1, 3, 4])\n",
    "        x = paddle.reshape(x,[\n",
    "            self.blocks_axis0 * self.block_size,\n",
    "            self.blocks_axis1 * self.block_size,\n",
    "            3,]\n",
    "        )\n",
    "        return x\n",
    "    def generate_key(self, seed, binary=False):\n",
    "        paddle.seed(seed)\n",
    "        key = paddle.randperm(self.block_size * self.block_size * 3)\n",
    "        if binary:\n",
    "            key = key > len(key) / 2\n",
    "        return key"
   ],
   "id": "7166379ffdbb7c6d",
   "outputs": [],
   "execution_count": 160
  },
  {
   "metadata": {
    "ExecuteTime": {
     "end_time": "2024-07-28T08:57:53.796344Z",
     "start_time": "2024-07-28T08:57:53.778392Z"
    }
   },
   "cell_type": "code",
   "source": [
    "seed = 2024\n",
    "password = 'password'\n",
    "\n",
    "class Shuffle(BlockTransform):\n",
    "    def __init__(self, block_size,height,width):\n",
    "        super().__init__(block_size,height,width)\n",
    "        self.key = self.generate_key(seed, binary=False)\n",
    "\n",
    "    def forward(self, x, decrypt=False):\n",
    "        x = self.segment(x)\n",
    "        if decrypt:\n",
    "            key = paddle.argsort(self.key)\n",
    "            x = x[:, :, :, key]\n",
    "        else:\n",
    "            x = x[:, :, :, self.key]\n",
    "        x = self.integrate(x)\n",
    "        return x.contiguous()\n",
    "\n",
    "\n",
    "class NP(BlockTransform):\n",
    "    def __init__(self, block_size,height,width):\n",
    "        super().__init__(block_size,height,width)\n",
    "        self.key = self.generate_key(seed, binary=True)\n",
    "\n",
    "    def forward(self, x, decrypt=False):\n",
    "        # uncomment the following during training\n",
    "        # X = self.denormalize(X)\n",
    "        x = self.segment(x)\n",
    "        x[:, :, :, self.key] = 1 - x[:, :, :, self.key]\n",
    "        X = self.integrate(x)\n",
    "        # uncomment the following during training\n",
    "        # X = self.normalize(X)\n",
    "        return x.contiguous()\n",
    "\n",
    "\n",
    "class FFX(BlockTransform):\n",
    "    def __init__(self, block_size,height,width):\n",
    "        super().__init__(block_size,height,width)\n",
    "        self.key = self.generate_key(seed, binary=True)\n",
    "        self.lookup, self.relookup = self.generate_lookup(password)\n",
    "        self.lookup, self.relookup = self.lookup.cuda(), self.relookup.cuda()\n",
    "\n",
    "    def generate_lookup(self, password=\"password\"):\n",
    "        password = str.encode(password)\n",
    "        fpe = pyffx.Integer(password, length=3)\n",
    "        f = lambda x: fpe.encrypt(x)\n",
    "        g = lambda x: fpe.decrypt(x)\n",
    "        f = np.vectorize(f)\n",
    "        g = np.vectorize(g)\n",
    "        lookup = f(np.arange(256))\n",
    "        relookup = g(np.arange(1000))\n",
    "        lookup = paddle.to_tensor(lookup)\n",
    "        relookup = paddle.to_tensor(relookup)\n",
    "        return lookup, relookup\n",
    "    \n",
    "    def forward(self, x, decrypt=False):\n",
    "        # uncomment the following during training\n",
    "        # X = self.denormalize(X)\n",
    "        x = self.segment(x)\n",
    "        if decrypt:\n",
    "            x = (x * self.lookup.max()).long()\n",
    "            x[:, :, :, self.key] = self.relookup[x[:, :, :, self.key]]\n",
    "            x = x.float()\n",
    "            x = x / 255.0\n",
    "        else:\n",
    "            # important: without it cuda trigerring devise assertion error with index out of bound\n",
    "            x = paddle.clip(x, 0, 1)\n",
    "            x = (x * 255).long()\n",
    "            x[:, :, :, self.key] = self.lookup[x[:, :, :, self.key]].clone()\n",
    "            x = x.float()\n",
    "            x = x / self.lookup.max()\n",
    "        x = self.integrate(x)\n",
    "        # uncomment the following during training\n",
    "        # X = self.normalize(X)\n",
    "        return x.contiguous()"
   ],
   "id": "440a9dcb015283e3",
   "outputs": [],
   "execution_count": 165
  },
  {
   "metadata": {
    "ExecuteTime": {
     "end_time": "2024-07-28T08:57:54.249615Z",
     "start_time": "2024-07-28T08:57:54.230666Z"
    }
   },
   "cell_type": "code",
   "source": [
    "img0,label0 = cifar10_train[0]\n",
    "img0 = paddle.to_tensor(img0)"
   ],
   "id": "2971ad60bae7956d",
   "outputs": [],
   "execution_count": 166
  },
  {
   "metadata": {
    "ExecuteTime": {
     "end_time": "2024-07-28T08:57:54.715271Z",
     "start_time": "2024-07-28T08:57:54.693908Z"
    }
   },
   "cell_type": "code",
   "source": [
    "transform = BlockTransform(block_size = 4,height = 32,width = 32)\n",
    "shuffle = Shuffle(transform)"
   ],
   "id": "f2bb9a0f52b3f5ae",
   "outputs": [
    {
     "ename": "TypeError",
     "evalue": "Shuffle.__init__() missing 2 required positional arguments: 'height' and 'width'",
     "output_type": "error",
     "traceback": [
      "\u001B[1;31m---------------------------------------------------------------------------\u001B[0m",
      "\u001B[1;31mTypeError\u001B[0m                                 Traceback (most recent call last)",
      "Cell \u001B[1;32mIn[167], line 2\u001B[0m\n\u001B[0;32m      1\u001B[0m transform \u001B[38;5;241m=\u001B[39m BlockTransform(block_size \u001B[38;5;241m=\u001B[39m \u001B[38;5;241m4\u001B[39m,height \u001B[38;5;241m=\u001B[39m \u001B[38;5;241m32\u001B[39m,width \u001B[38;5;241m=\u001B[39m \u001B[38;5;241m32\u001B[39m)\n\u001B[1;32m----> 2\u001B[0m shuffle \u001B[38;5;241m=\u001B[39m \u001B[43mShuffle\u001B[49m\u001B[43m(\u001B[49m\u001B[43mtransform\u001B[49m\u001B[43m)\u001B[49m\n",
      "\u001B[1;31mTypeError\u001B[0m: Shuffle.__init__() missing 2 required positional arguments: 'height' and 'width'"
     ]
    }
   ],
   "execution_count": 167
  },
  {
   "metadata": {},
   "cell_type": "code",
   "outputs": [],
   "execution_count": null,
   "source": "",
   "id": "c82bb2f6d4464e43"
  }
 ],
 "metadata": {
  "kernelspec": {
   "display_name": "Python 3",
   "language": "python",
   "name": "python3"
  },
  "language_info": {
   "codemirror_mode": {
    "name": "ipython",
    "version": 2
   },
   "file_extension": ".py",
   "mimetype": "text/x-python",
   "name": "python",
   "nbconvert_exporter": "python",
   "pygments_lexer": "ipython2",
   "version": "2.7.6"
  }
 },
 "nbformat": 4,
 "nbformat_minor": 5
}
