{
 "cells": [
  {
   "cell_type": "code",
   "id": "initial_id",
   "metadata": {
    "collapsed": true,
    "ExecuteTime": {
     "end_time": "2024-07-16T12:56:22.781553Z",
     "start_time": "2024-07-16T12:56:22.763994Z"
    }
   },
   "source": [
    "import itertools\n",
    "from paddle.vision.datasets import Cifar10,MNIST\n",
    "import matplotlib.pyplot as plt\n",
    "import numpy as np"
   ],
   "outputs": [],
   "execution_count": 2
  },
  {
   "metadata": {
    "ExecuteTime": {
     "end_time": "2024-07-16T12:56:30.866870Z",
     "start_time": "2024-07-16T12:56:23.321620Z"
    }
   },
   "cell_type": "code",
   "source": [
    "mnist_train = MNIST(\n",
    "    mode= 'train',\n",
    "    backend=\"cv2\" \n",
    ")\n",
    "cifar10_train = Cifar10(\n",
    "    mode= 'train',\n",
    "    backend=\"cv2\"   # 指定要返回的图像类型：PIL.Image 或 numpy.ndarray。必须是 {'pil'，'cv2'} 中的值\n",
    ")"
   ],
   "id": "1114d361674943fc",
   "outputs": [],
   "execution_count": 3
  },
  {
   "metadata": {},
   "cell_type": "markdown",
   "source": "A. Pixel-Block Partitioning and Block-based Random Permutation",
   "id": "119524a640038dee"
  },
  {
   "metadata": {
    "ExecuteTime": {
     "end_time": "2024-07-16T12:56:41.604646Z",
     "start_time": "2024-07-16T12:56:41.592679Z"
    }
   },
   "cell_type": "code",
   "source": [
    "img1,label1 = cifar10_train[0]\n",
    "img1 = img1.astype(\"uint16\")\n",
    "l,m,c = img1.shape"
   ],
   "id": "63c48a7df919a6f",
   "outputs": [],
   "execution_count": 4
  },
  {
   "metadata": {
    "ExecuteTime": {
     "end_time": "2024-07-16T12:58:34.903108Z",
     "start_time": "2024-07-16T12:58:34.890144Z"
    }
   },
   "cell_type": "code",
   "source": [
    "img0,label0 = mnist_train[0]\n",
    "img0 = img0.astype(\"uint16\")\n",
    "l,m = img0.shape"
   ],
   "id": "565a0866b06c9b88",
   "outputs": [],
   "execution_count": 29
  },
  {
   "metadata": {
    "ExecuteTime": {
     "end_time": "2024-07-16T12:58:35.482382Z",
     "start_time": "2024-07-16T12:58:35.471411Z"
    }
   },
   "cell_type": "code",
   "source": [
    "r,s = 4,4\n",
    "t = (l*m) // (r*s)\n",
    "# 检查整除性  \n",
    "if l % r != 0 or m % s != 0:  \n",
    "    raise ValueError(\"Image dimensions must be divisible by block dimensions.\") "
   ],
   "id": "922bbc8b82071c02",
   "outputs": [],
   "execution_count": 30
  },
  {
   "metadata": {
    "ExecuteTime": {
     "end_time": "2024-07-16T12:58:35.905365Z",
     "start_time": "2024-07-16T12:58:35.895392Z"
    }
   },
   "cell_type": "code",
   "source": "t #28X28//2X2 = 196",
   "id": "b2bb45feeaf29dcd",
   "outputs": [
    {
     "data": {
      "text/plain": [
       "49"
      ]
     },
     "execution_count": 31,
     "metadata": {},
     "output_type": "execute_result"
    }
   ],
   "execution_count": 31
  },
  {
   "metadata": {
    "ExecuteTime": {
     "end_time": "2024-07-16T12:58:36.355124Z",
     "start_time": "2024-07-16T12:58:36.345152Z"
    }
   },
   "cell_type": "code",
   "source": [
    "blocks = (img0.reshape(l//r, r, m//s, s)  \n",
    "            .transpose(0, 2, 1, 3)  \n",
    "            .reshape(-1, r, s))  \n",
    "\n",
    "# 获取块的数量  \n",
    "t = blocks.shape[0]"
   ],
   "id": "8503575071f34f9d",
   "outputs": [],
   "execution_count": 32
  },
  {
   "metadata": {
    "ExecuteTime": {
     "end_time": "2024-07-16T12:58:36.932108Z",
     "start_time": "2024-07-16T12:58:36.917149Z"
    }
   },
   "cell_type": "code",
   "source": [
    "from sklearn.utils import shuffle  # 使用scikit-learn的shuffle函数作为伪随机置换  \n",
    "\n",
    "indices = np.arange(t)  \n",
    "shuffled_indices = shuffle(indices)  \n",
    "shuffled_blocks = blocks[shuffled_indices]  "
   ],
   "id": "4929d71142a3fd75",
   "outputs": [],
   "execution_count": 33
  },
  {
   "metadata": {
    "ExecuteTime": {
     "end_time": "2024-07-16T12:58:37.556962Z",
     "start_time": "2024-07-16T12:58:37.360488Z"
    }
   },
   "cell_type": "code",
   "source": [
    "# 重新组合图像  \n",
    "shuffled_image = shuffled_blocks.reshape(t//(m//s), m//s, r, s)  \n",
    "shuffled_image = shuffled_image.transpose(0, 2, 1, 3).reshape(l, m)  \n",
    "# 显示原始图像和重排的图像\n",
    "fig, axs = plt.subplots(1, 2, figsize=(5, 5))  \n",
    "axs[0].imshow(img0, cmap='gray')  \n",
    "axs[0].set_title('Original Image')  \n",
    "axs[1].imshow(shuffled_image, cmap='gray')  \n",
    "axs[1].set_title('Random Permutation')  \n",
    "plt.show()"
   ],
   "id": "94ec63a459082c82",
   "outputs": [
    {
     "data": {
      "text/plain": [
       "<Figure size 500x500 with 2 Axes>"
      ],
      "image/png": "[encoded data removed]"
     },
     "metadata": {},
     "output_type": "display_data"
    }
   ],
   "execution_count": 34
  },
  {
   "metadata": {},
   "cell_type": "markdown",
   "source": "# AES",
   "id": "eb73ddfc0719a33"
  },
  {
   "metadata": {
    "ExecuteTime": {
     "end_time": "2024-07-16T12:58:38.846715Z",
     "start_time": "2024-07-16T12:58:38.834745Z"
    }
   },
   "cell_type": "code",
   "source": [
    "from Crypto.Cipher import AES as aes\n",
    "import random,os,math"
   ],
   "id": "4bf1ace360cbe2ea",
   "outputs": [],
   "execution_count": 35
  },
  {
   "metadata": {
    "ExecuteTime": {
     "end_time": "2024-07-16T13:00:32.581342Z",
     "start_time": "2024-07-16T13:00:32.538458Z"
    }
   },
   "cell_type": "code",
   "source": [
    "class AES:\n",
    "\n",
    "    def __init__(self, image_size=(32, 32), block_size=(4, 4), One_cipher=True, Shuffle=False):\n",
    "\n",
    "        self.img_size = image_size\n",
    "\n",
    "        self.block_size = block_size\n",
    "        # 块数量\n",
    "        self.block_num = int((image_size[0] / block_size[0]) * (image_size[1] / block_size[1]))\n",
    "\n",
    "        print(image_size)\n",
    "        print(block_size)\n",
    "\n",
    "        print('block number = ' + str(self.block_num))\n",
    "\n",
    "        block_bytes = block_size[0] * block_size[1] #块的字节大小 16\n",
    "\n",
    "        self.scale = [1, 1] #放大情况\n",
    "\n",
    "        self.shuffle = Shuffle\n",
    "\n",
    "        self.one_cipher = One_cipher\n",
    "\n",
    "        if block_bytes < 16:\n",
    "            # scale it 放大 块字节小于AES加密字节16\n",
    "            if self.block_size[0] < self.block_size[1]:\n",
    "\n",
    "                less = 0\n",
    "\n",
    "            else:\n",
    "\n",
    "                less = 1\n",
    "\n",
    "            if block_bytes == 2:\n",
    "\n",
    "                self.scale[less] = 4\n",
    "\n",
    "                self.scale[(less + 1) % 2] = 2\n",
    "\n",
    "            elif block_bytes == 4:\n",
    "\n",
    "                if self.block_size == (2, 2):\n",
    "\n",
    "                    self.scale = [2, 2]\n",
    "\n",
    "                else:\n",
    "\n",
    "                    self.scale[less] = 4\n",
    "\n",
    "            elif block_bytes == 8:\n",
    "\n",
    "                self.scale[less] = 2\n",
    "\n",
    "            self.block_size = (4, 4)\n",
    "\n",
    "        self.update_params()  # due to updated parameters 更新参数\n",
    "\n",
    "        if not One_cipher:\n",
    "\n",
    "            self.ciphers = [aes.new(os.urandom(16), aes.MODE_ECB) for i in range(self.block_num)]\n",
    "\n",
    "        else:\n",
    "\n",
    "            self.ciphers = aes.new(os.urandom(16), aes.MODE_ECB)\n",
    "\n",
    "    # 准备参数\n",
    "    def update_params(self):\n",
    "\n",
    "        image_size = self.img_size\n",
    "\n",
    "        block_size = self.block_size # 更新为4x4\n",
    "        \n",
    "        # 填充\n",
    "\n",
    "        if image_size[0] % block_size[0] != 0:\n",
    "\n",
    "            p0 = block_size[0] - image_size[0] % block_size[0]\n",
    "\n",
    "            self.p0_left = int(p0 / 2)\n",
    "\n",
    "            self.p0_right = p0 - self.p0_left\n",
    "\n",
    "        else:\n",
    "\n",
    "            p0 = 0\n",
    "\n",
    "            self.p0_left = 0\n",
    "\n",
    "            self.p0_right = 0\n",
    "\n",
    "        if image_size[1] % block_size[1] != 0:\n",
    "\n",
    "            p1 = block_size[1] - image_size[1] % block_size[1]\n",
    "\n",
    "            self.p1_left = int(p1 / 2)\n",
    "\n",
    "            self.p1_right = p1 - self.p1_left\n",
    "\n",
    "        else:\n",
    "\n",
    "            p1 = 0\n",
    "\n",
    "            self.p1_left = 0\n",
    "\n",
    "            self.p1_right = 0\n",
    "\n",
    "        if p0 == 0 and p1 == 0: #无需填充\n",
    "\n",
    "            self.pad = False\n",
    "\n",
    "        else:\n",
    "            self.pad = True\n",
    "\n",
    "        self.block_num = math.ceil(image_size[0] / block_size[0]) * math.ceil(image_size[1] / block_size[1])\n",
    "        # 向上取整\n",
    "        \n",
    "    # 填充大小\n",
    "    def padded_size(self):\n",
    "\n",
    "        return (self.img_size[0] + self.p0_left + self.p0_right, self.img_size[1] + self.p1_left + self.p1_right)\n",
    "\n",
    "    def padding(self, img):\n",
    "\n",
    "        if len(self.img_size) == 3: #RGB图像\n",
    "\n",
    "            assert ((img.shape[0], img.shape[1], img.shape[2]) == self.img_size)\n",
    "\n",
    "        else:#Grey图像\n",
    "\n",
    "            assert ((img.shape[0], img.shape[1]) == self.img_size)\n",
    "\n",
    "        if not self.pad: #无需填充 直接copy返回\n",
    "            return img.copy()\n",
    "\n",
    "        if len(self.img_size) == 3:\n",
    "\n",
    "            img1 = np.zeros((img.shape[0] + self.p0_left + self.p0_right, img.shape[1] + self.p1_left + self.p1_right,\n",
    "                             img.shape[2]))\n",
    "\n",
    "            for c in range(img.shape[2]):\n",
    "                img1[:, :, c] = np.pad(img[:, :, c], ((self.p0_left, self.p0_right), (self.p1_left, self.p1_right)))\n",
    "\n",
    "        else:\n",
    "\n",
    "            img1 = np.zeros((img.shape[0] + self.p0_left + self.p0_right, img.shape[1] + self.p1_left + self.p1_right))\n",
    "\n",
    "            img1[:, :] = np.pad(img[:, :], ((self.p0_left, self.p0_right), (self.p1_left, self.p1_right)))\n",
    "\n",
    "        return img1 # 返回填充后的图像\n",
    "    \n",
    "    # 放大\n",
    "    def scaleup(self, img): #按比例放大\n",
    "\n",
    "        ''' img: w*h, each pixel duplicate to the corresponding 4x4 block\n",
    "        每个像素复制到相应的4x4块\n",
    "        '''\n",
    "\n",
    "        assert (self.scale != [1, 1] and img.shape[0:2] == self.img_size)\n",
    "\n",
    "        img1 = np.ones(img.shape)\n",
    "\n",
    "        if len(img.shape) == 3:\n",
    "\n",
    "            for c in range(img.shape[2]):\n",
    "\n",
    "                for i in range(img.shape[0]):\n",
    "\n",
    "                    for j in range(img.shape[1]):\n",
    "                        img1[i * self.scale[0]:(i + 1) * self.scale[0], j * self.scale[1]:(j + 1) * self.scale[1], c] *= \\\n",
    "                        img[i, j, c]\n",
    "\n",
    "        else:\n",
    "\n",
    "            for i in range(img.shape[0]):\n",
    "\n",
    "                for j in range(img.shape[1]):\n",
    "                    img1[i * self.scale[0]:(i + 1) * self.scale[0], j * self.scale[1]:(j + 1) * self.scale[1]] *= img[\n",
    "                        i, j]\n",
    "\n",
    "        return img1.astype(np.byte)\n",
    "\n",
    "    def M2vector(self, block):\n",
    "\n",
    "        vec = block.reshape((1, block.shape[0] * block.shape[1]))\n",
    "\n",
    "        return vec\n",
    "\n",
    "    def vector2M(self, vector):\n",
    "\n",
    "        M = vector.reshape((self.block_size[0], self.block_size[1]))\n",
    "\n",
    "        return M\n",
    "    \n",
    "    # 分块\n",
    "    def M2block(self, array):\n",
    "\n",
    "        h, r = array.shape[0:2]\n",
    "\n",
    "        blocks = []\n",
    "\n",
    "        hight = [i * self.block_size[0] for i in range(int(h / self.block_size[0]))]\n",
    "\n",
    "        width = [i * self.block_size[1] for i in range(int(r / self.block_size[1]))]\n",
    "\n",
    "        for i in hight:\n",
    "\n",
    "            for j in width:\n",
    "                blocks.append(array[i:i + self.block_size[0], j:j + self.block_size[1]])\n",
    "\n",
    "        return blocks\n",
    "    \n",
    "    # 随机合并块\n",
    "\n",
    "    def block2M(self, block_list, seed=1):\n",
    "\n",
    "        Row = []\n",
    "\n",
    "        Column = []\n",
    "\n",
    "        blocks = block_list\n",
    "\n",
    "        if self.shuffle:\n",
    "            random.Random(seed).shuffle(block_list)\n",
    "\n",
    "        for i in range(self.block_num):\n",
    "\n",
    "            if (i + 1) % (self.img_size[1] / self.block_size[1]) != 0:\n",
    "\n",
    "                Row.append(blocks[i])\n",
    "\n",
    "\n",
    "            else:\n",
    "\n",
    "                Row.append(blocks[i])\n",
    "\n",
    "                Column.append(np.hstack(Row))\n",
    "\n",
    "                Row = []\n",
    "\n",
    "        return np.vstack(Column)\n",
    "    \n",
    "    \n",
    "    # 块加密\n",
    "    def block_enc(self, block, cipher):\n",
    "\n",
    "        block1 = self.M2vector(block)\n",
    "\n",
    "        assert (block1.shape[1] % 16 == 0)\n",
    "\n",
    "        for i in range(int(block1.shape[1] / 16)):\n",
    "            bytes = cipher.encrypt(block1[:, i * 16:(i + 1) * 16].tobytes())\n",
    "\n",
    "            block1[:, i * 16:(i + 1) * 16] = np.frombuffer(bytes, dtype=np.byte)\n",
    "\n",
    "        return self.vector2M(block1)\n",
    "    \n",
    "    \n",
    "    # 加密\n",
    "    def Encode(self, img, noise = False, noise_level = 1):\n",
    "\n",
    "        if (self.scale != [1, 1]):\n",
    "\n",
    "            img1 = self.scaleup(img)\n",
    "\n",
    "        else:\n",
    "\n",
    "            img1 = img\n",
    "\n",
    "        img2 = self.padding(img1).astype(np.byte)\n",
    "\n",
    "        if len(img2.shape) == 3:\n",
    "\n",
    "            for c in range(img2.shape[2]):  # channels\n",
    "\n",
    "                blocks = self.M2block(img2[:, :, c])\n",
    "\n",
    "                if not self.one_cipher:\n",
    "\n",
    "                    blocks_e = [self.block_enc(b, e) for b, e in zip(blocks, self.ciphers)]\n",
    "\n",
    "                else:\n",
    "\n",
    "                    blocks_e = [self.block_enc(b, self.ciphers) for b in blocks]\n",
    "\n",
    "                img2[:, :, c] = self.block2M(blocks_e)\n",
    "\n",
    "        else:\n",
    "\n",
    "            blocks = self.M2block(img2[:, :])\n",
    "\n",
    "            if not self.one_cipher:\n",
    "\n",
    "                blocks_e = [self.block_enc(b, e) for b, e in zip(blocks, self.ciphers)]\n",
    "\n",
    "            else:\n",
    "\n",
    "                blocks_e = [self.block_enc(b, self.ciphers) for b in blocks]\n",
    "\n",
    "\n",
    "            img2[:, :] = self.block2M(blocks_e)\n",
    "\n",
    "        return img2\n",
    "\n",
    "    def AES_Ciphers(self):\n",
    "\n",
    "        return self.ciphers"
   ],
   "id": "e25ec6046ab3e2fd",
   "outputs": [],
   "execution_count": 49
  },
  {
   "metadata": {
    "ExecuteTime": {
     "end_time": "2024-07-16T13:01:08.890539Z",
     "start_time": "2024-07-16T13:01:08.882555Z"
    }
   },
   "cell_type": "code",
   "source": [
    "original_images = []\n",
    "encrypted_images = []"
   ],
   "id": "5da4f5b590ee9c06",
   "outputs": [],
   "execution_count": 53
  },
  {
   "metadata": {
    "ExecuteTime": {
     "end_time": "2024-07-16T13:01:35.186948Z",
     "start_time": "2024-07-16T13:01:35.168997Z"
    }
   },
   "cell_type": "code",
   "source": [
    " # Pad original image if neccessary\n",
    "image_temp = img1\n",
    "block_size = 4\n",
    "\n",
    "# If adjusted row or col different from the original image, need padding\n",
    "adjusted_row = (image_temp.shape[0] + int(block_size) - 1) // int(block_size) * int(block_size)\n",
    "\n",
    "adjusted_col = (image_temp.shape[1] + int(block_size) - 1) // int(block_size) * int(block_size)\n",
    "\n",
    "# Generate padding 生成填充\n",
    "if image_temp.shape[0] != adjusted_row or image_temp.shape[1] != adjusted_col:\n",
    "    pad_row = adjusted_row - image_temp.shape[0]\n",
    "\n",
    "    pad_col = adjusted_col - image_temp.shape[1]\n",
    "\n",
    "else:\n",
    "    pad_row = 0\n",
    "\n",
    "    pad_col = 0\n",
    "    \n",
    "if len(image_temp.shape)==3: # RGB图像\n",
    "  encoder = AES(image_size=(image_temp.shape[0] + pad_row, image_temp.shape[1] + pad_col,image_temp.shape[2]),block_size=(int(block_size),int(block_size)))\n",
    "# Grey 灰色图像\n",
    "else:\n",
    "    encoder = AES(image_size=(image_temp.shape[0] + pad_row, image_temp.shape[1] + pad_col),block_size=(int(block_size), int(block_size)))\n",
    "    \n",
    "# Apply padding\n",
    "\n",
    "if image_temp.shape[0] != adjusted_row or image_temp.shape[1] != adjusted_col:\n",
    "\n",
    "    if len(img1.shape) == 3:  # RGB image\n",
    "\n",
    "        image_padded = np.pad(img1, ((0, pad_row), (0, pad_col), (0, 0)), mode='edge')\n",
    "\n",
    "    else:  # Grayscale image\n",
    "\n",
    "        image_padded = np.pad(img1, ((0, pad_row), (0, pad_col)), mode='edge')\n",
    "\n",
    "else:\n",
    "\n",
    "    image_padded = img1\n",
    "    \n",
    "original_images.append(image_padded)\n",
    "\n",
    "noise_level = 0\n",
    "\n",
    "if noise_level == 0:\n",
    "\n",
    "    noise = False\n",
    "\n",
    "    noise_level = 1\n",
    "\n",
    "else:\n",
    "\n",
    "    noise = True\n",
    "\n",
    "encrypted_img_array = encoder.Encode(image_padded, noise=noise, noise_level=noise_level)\n",
    "\n",
    "encrypted_images.append(encrypted_img_array)"
   ],
   "id": "5b56258e031ac7f7",
   "outputs": [
    {
     "name": "stdout",
     "output_type": "stream",
     "text": [
      "(32, 32, 3)\n",
      "(4, 4)\n",
      "block number = 64\n"
     ]
    }
   ],
   "execution_count": 56
  },
  {
   "metadata": {
    "ExecuteTime": {
     "end_time": "2024-07-16T13:02:16.063561Z",
     "start_time": "2024-07-16T13:02:15.846110Z"
    }
   },
   "cell_type": "code",
   "source": [
    "# 显示原始图像和加密的图像\n",
    "fig, axs = plt.subplots(1, 2, figsize=(5, 5))  \n",
    "axs[0].imshow(img0, cmap='gray')  \n",
    "axs[0].set_title('Original Image')  \n",
    "axs[1].imshow(np.clip(encrypted_images[0], 0, 255).astype(np.uint8), cmap='gray')  \n",
    "axs[1].set_title('AES-ECB')  \n",
    "plt.show()"
   ],
   "id": "53346d3cc8052a80",
   "outputs": [
    {
     "data": {
      "text/plain": [
       "<Figure size 500x500 with 2 Axes>"
      ],
      "image/png": "[encoded data removed]"
     },
     "metadata": {},
     "output_type": "display_data"
    }
   ],
   "execution_count": 59
  },
  {
   "metadata": {
    "ExecuteTime": {
     "end_time": "2024-07-16T13:02:31.170968Z",
     "start_time": "2024-07-16T13:02:30.915732Z"
    }
   },
   "cell_type": "code",
   "source": [
    "fig, axs = plt.subplots(1, 2, figsize=(5, 5))  \n",
    "axs[0].imshow(img1)  \n",
    "axs[0].set_title('Original Image')  \n",
    "axs[1].imshow(np.clip(encrypted_images[1], 0, 255).astype(np.uint8), cmap='gray')  \n",
    "axs[1].set_title('AES-ECB')  \n",
    "plt.show()"
   ],
   "id": "7fa42122c91d7269",
   "outputs": [
    {
     "data": {
      "text/plain": [
       "<Figure size 500x500 with 2 Axes>"
      ],
      "image/png": "[encoded data removed]"
     },
     "metadata": {},
     "output_type": "display_data"
    }
   ],
   "execution_count": 60
  },
  {
   "metadata": {},
   "cell_type": "code",
   "outputs": [],
   "execution_count": null,
   "source": "",
   "id": "273d878548563d65"
  }
 ],
 "metadata": {
  "kernelspec": {
   "display_name": "Python 3",
   "language": "python",
   "name": "python3"
  },
  "language_info": {
   "codemirror_mode": {
    "name": "ipython",
    "version": 2
   },
   "file_extension": ".py",
   "mimetype": "text/x-python",
   "name": "python",
   "nbconvert_exporter": "python",
   "pygments_lexer": "ipython2",
   "version": "2.7.6"
  }
 },
 "nbformat": 4,
 "nbformat_minor": 5
}
