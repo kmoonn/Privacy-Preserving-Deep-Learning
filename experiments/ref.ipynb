{
 "cells": [
  {
   "cell_type": "code",
   "execution_count": 2,
   "metadata": {
    "collapsed": false,
    "execution": {
     "iopub.execute_input": "2024-05-28T07:00:08.834965Z",
     "iopub.status.busy": "2024-05-28T07:00:08.833999Z",
     "iopub.status.idle": "2024-05-28T07:00:09.090834Z",
     "shell.execute_reply": "2024-05-28T07:00:09.089664Z",
     "shell.execute_reply.started": "2024-05-28T07:00:08.834919Z"
    },
    "jupyter": {
     "outputs_hidden": false
    },
    "scrolled": true,
    "tags": []
   },
   "outputs": [
    {
     "name": "stdout",
     "output_type": "stream",
     "text": [
      "data269293\r\n"
     ]
    }
   ],
   "source": [
    "# 查看当前挂载的数据集目录, 该目录下的变更重启环境后会自动还原\n",
    "# View dataset directory. \n",
    "# This directory will be recovered automatically after resetting environment. \n",
    "!ls /home/aistudio/data"
   ]
  },
  {
   "cell_type": "code",
   "execution_count": 3,
   "metadata": {
    "collapsed": false,
    "execution": {
     "iopub.execute_input": "2024-05-28T07:00:11.310153Z",
     "iopub.status.busy": "2024-05-28T07:00:11.309145Z",
     "iopub.status.idle": "2024-05-28T07:00:11.565799Z",
     "shell.execute_reply": "2024-05-28T07:00:11.564630Z",
     "shell.execute_reply.started": "2024-05-28T07:00:11.310106Z"
    },
    "jupyter": {
     "outputs_hidden": false
    },
    "scrolled": true,
    "tags": []
   },
   "outputs": [
    {
     "name": "stdout",
     "output_type": "stream",
     "text": [
      "dataset  methods\r\n"
     ]
    }
   ],
   "source": [
    "# 查看工作区文件, 该目录下的变更将会持久保存. 请及时清理不必要的文件, 避免加载过慢.\n",
    "# View personal work directory. \n",
    "# All changes under this directory will be kept even after reset. \n",
    "# Please clean unnecessary files in time to speed up environment loading. \n",
    "!ls /home/aistudio/work"
   ]
  },
  {
   "cell_type": "code",
   "execution_count": 4,
   "metadata": {
    "collapsed": false,
    "execution": {
     "iopub.execute_input": "2024-05-28T07:00:14.201431Z",
     "iopub.status.busy": "2024-05-28T07:00:14.200995Z",
     "iopub.status.idle": "2024-05-28T07:00:27.286484Z",
     "shell.execute_reply": "2024-05-28T07:00:27.285246Z",
     "shell.execute_reply.started": "2024-05-28T07:00:14.201399Z"
    },
    "jupyter": {
     "outputs_hidden": false
    },
    "scrolled": true,
    "tags": []
   },
   "outputs": [
    {
     "name": "stdout",
     "output_type": "stream",
     "text": [
      "Looking in indexes: https://mirror.baidu.com/pypi/simple/, https://mirrors.aliyun.com/pypi/simple/\r\n",
      "Requirement already satisfied: pip in /opt/conda/envs/python35-paddle120-env/lib/python3.7/site-packages (22.1.2)\r\n",
      "Collecting pip\r\n",
      "  Downloading https://mirrors.aliyun.com/pypi/packages/8a/6a/19e9fe04fca059ccf770861c7d5721ab4c2aebc539889e97c7977528a53b/pip-24.0-py3-none-any.whl (2.1 MB)\r\n",
      "\u001b[2K     \u001b[90m━━━━━━━━━━━━━━━━━━━━━━━━━━━━━━━━━━━━━━━━\u001b[0m \u001b[32m2.1/2.1 MB\u001b[0m \u001b[31m504.3 kB/s\u001b[0m eta \u001b[36m0:00:00\u001b[0m00:01\u001b[0m00:01\u001b[0m\r\n",
      "\u001b[?25hInstalling collected packages: pip\r\n",
      "  Attempting uninstall: pip\r\n",
      "    Found existing installation: pip 22.1.2\r\n",
      "    Uninstalling pip-22.1.2:\r\n",
      "      Successfully uninstalled pip-22.1.2\r\n",
      "Successfully installed pip-24.0\r\n",
      "Looking in indexes: https://mirror.baidu.com/pypi/simple/, https://mirrors.aliyun.com/pypi/simple/\r\n",
      "Collecting beautifulsoup4\r\n",
      "  Downloading https://mirrors.aliyun.com/pypi/packages/b1/fe/e8c672695b37eecc5cbf43e1d0638d88d66ba3a44c4d321c796f4e59167f/beautifulsoup4-4.12.3-py3-none-any.whl (147 kB)\r\n",
      "\u001b[2K     \u001b[90m━━━━━━━━━━━━━━━━━━━━━━━━━━━━━━━━━━━━━\u001b[0m \u001b[32m147.9/147.9 kB\u001b[0m \u001b[31m516.3 kB/s\u001b[0m eta \u001b[36m0:00:00\u001b[0ma \u001b[36m0:00:01\u001b[0m\r\n",
      "\u001b[?25hCollecting soupsieve>1.2 (from beautifulsoup4)\r\n",
      "  Downloading https://mirrors.aliyun.com/pypi/packages/49/37/673d6490efc51ec46d198c75903d99de59baffdd47aea3d071b80a9e4e89/soupsieve-2.4.1-py3-none-any.whl (36 kB)\r\n",
      "Installing collected packages: soupsieve, beautifulsoup4\r\n",
      "Successfully installed beautifulsoup4-4.12.3 soupsieve-2.4.1\r\n",
      "\u001b[33mWARNING: Target directory /home/aistudio/external-libraries/soupsieve-2.4.1.dist-info already exists. Specify --upgrade to force replacement.\u001b[0m\u001b[33m\r\n",
      "\u001b[0m\u001b[33mWARNING: Target directory /home/aistudio/external-libraries/bs4 already exists. Specify --upgrade to force replacement.\u001b[0m\u001b[33m\r\n",
      "\u001b[0m\u001b[33mWARNING: Target directory /home/aistudio/external-libraries/soupsieve already exists. Specify --upgrade to force replacement.\u001b[0m\u001b[33m\r\n",
      "\u001b[0m\u001b[33mWARNING: Target directory /home/aistudio/external-libraries/beautifulsoup4-4.12.3.dist-info already exists. Specify --upgrade to force replacement.\u001b[0m\u001b[33m\r\n",
      "\u001b[0m"
     ]
    }
   ],
   "source": [
    "# 如果需要进行持久化安装, 需要使用持久化路径, 如下方代码示例:\n",
    "# If a persistence installation is required, \n",
    "# you need to use the persistence path as the following: \n",
    "# !mkdir /home/aistudio/external-libraries\n",
    "!pip install --upgrade pip\n",
    "!pip install beautifulsoup4 -t /home/aistudio/external-libraries"
   ]
  },
  {
   "cell_type": "code",
   "execution_count": 5,
   "metadata": {
    "collapsed": false,
    "execution": {
     "iopub.execute_input": "2024-05-28T07:00:32.015035Z",
     "iopub.status.busy": "2024-05-28T07:00:32.014426Z",
     "iopub.status.idle": "2024-05-28T07:00:32.020326Z",
     "shell.execute_reply": "2024-05-28T07:00:32.019180Z",
     "shell.execute_reply.started": "2024-05-28T07:00:32.015000Z"
    },
    "jupyter": {
     "outputs_hidden": false
    },
    "scrolled": true
   },
   "outputs": [],
   "source": [
    "# 同时添加如下代码, 这样每次环境(kernel)启动的时候只要运行下方代码即可: \n",
    "# Also add the following code, \n",
    "# so that every time the environment (kernel) starts, \n",
    "# just run the following code: \n",
    "import sys \n",
    "sys.path.append('/home/aistudio/external-libraries')"
   ]
  },
  {
   "cell_type": "markdown",
   "metadata": {},
   "source": [
    "请点击[此处](https://ai.baidu.com/docs#/AIStudio_Project_Notebook/a38e5576)查看本环境基本用法.  <br>\n",
    "Please click [here ](https://ai.baidu.com/docs#/AIStudio_Project_Notebook/a38e5576) for more detailed instructions. "
   ]
  },
  {
   "cell_type": "markdown",
   "metadata": {},
   "source": [
    "# 面向隐私保护深度学习的变换数据分类方法"
   ]
  },
  {
   "cell_type": "markdown",
   "metadata": {},
   "source": [
    "## 1. 数据处理"
   ]
  },
  {
   "cell_type": "code",
   "execution_count": 2,
   "metadata": {
    "execution": {
     "iopub.execute_input": "2024-06-05T16:22:59.661467Z",
     "iopub.status.busy": "2024-06-05T16:22:59.660919Z",
     "iopub.status.idle": "2024-06-05T16:23:01.245436Z",
     "shell.execute_reply": "2024-06-05T16:23:01.244277Z",
     "shell.execute_reply.started": "2024-06-05T16:22:59.661429Z"
    },
    "scrolled": true,
    "tags": []
   },
   "outputs": [],
   "source": [
    "#数据处理部分之前的代码，加入部分数据处理的库\n",
    "import paddle\n",
    "from paddle.nn import Linear\n",
    "import paddle.nn.functional as F\n",
    "import os\n",
    "import gzip\n",
    "import json\n",
    "import random\n",
    "import numpy as np"
   ]
  },
  {
   "cell_type": "code",
   "execution_count": 3,
   "metadata": {
    "execution": {
     "iopub.execute_input": "2024-06-05T16:23:02.490977Z",
     "iopub.status.busy": "2024-06-05T16:23:02.490399Z",
     "iopub.status.idle": "2024-06-05T16:23:02.496547Z",
     "shell.execute_reply": "2024-06-05T16:23:02.495609Z",
     "shell.execute_reply.started": "2024-06-05T16:23:02.490939Z"
    },
    "scrolled": true,
    "tags": []
   },
   "outputs": [],
   "source": [
    "labels_dict = {\n",
    "    'DP-Exponent':0,\n",
    "    'DP-Gaussian':1,\n",
    "    'DP-Laplace':2,\n",
    "    'HE-Elgamal':3,\n",
    "    # 'HE-Paillier':4,\n",
    "    'K-anonymity':5,\n",
    "    'Mosaicing':6,\n",
    "    'PixelPermutation':7,\n",
    "    'RandomNoise':8,\n",
    "    'XOR':9,\n",
    "    'BlockPerturb':10\n",
    "}\n",
    "\n",
    "new_labels_dict = {v : k for k, v in labels_dict.items()}"
   ]
  },
  {
   "cell_type": "code",
   "execution_count": 4,
   "metadata": {
    "execution": {
     "iopub.execute_input": "2024-06-05T16:23:03.189817Z",
     "iopub.status.busy": "2024-06-05T16:23:03.189260Z",
     "iopub.status.idle": "2024-06-05T16:23:03.719605Z",
     "shell.execute_reply": "2024-06-05T16:23:03.718506Z",
     "shell.execute_reply.started": "2024-06-05T16:23:03.189773Z"
    },
    "scrolled": true,
    "tags": []
   },
   "outputs": [
    {
     "name": "stderr",
     "output_type": "stream",
     "text": [
      "/opt/conda/envs/python35-paddle120-env/lib/python3.7/site-packages/matplotlib/__init__.py:107: DeprecationWarning: Using or importing the ABCs from 'collections' instead of from 'collections.abc' is deprecated, and in 3.8 it will stop working\r\n",
      "  from collections import MutableMapping\r\n",
      "/opt/conda/envs/python35-paddle120-env/lib/python3.7/site-packages/matplotlib/rcsetup.py:20: DeprecationWarning: Using or importing the ABCs from 'collections' instead of from 'collections.abc' is deprecated, and in 3.8 it will stop working\r\n",
      "  from collections import Iterable, Mapping\r\n",
      "/opt/conda/envs/python35-paddle120-env/lib/python3.7/site-packages/matplotlib/colors.py:53: DeprecationWarning: Using or importing the ABCs from 'collections' instead of from 'collections.abc' is deprecated, and in 3.8 it will stop working\r\n",
      "  from collections import Sized\r\n"
     ]
    }
   ],
   "source": [
    "import matplotlib.pyplot as plt\n",
    "from paddle.io import Dataset\n",
    "from paddle.vision.transforms import Compose, Normalize\n",
    "\n",
    "\n",
    "class MyDataset(Dataset):\n",
    "    \"\"\"\n",
    "    步骤一：继承 paddle.io.Dataset 类\n",
    "    \"\"\"\n",
    "\n",
    "    def __init__(self, data_dir, transform=None):\n",
    "        \"\"\"\n",
    "        步骤二：实现 __init__ 函数，初始化数据集，将样本和标签映射到列表中\n",
    "        \"\"\"\n",
    "        super().__init__()\n",
    "        # 传入定义好的数据处理方法，作为自定义数据集类的一个属性\n",
    "        self.transform = transform\n",
    "        self.data = []\n",
    "\n",
    "        f = os.listdir(data_dir)\n",
    "\n",
    "        temp = {'DP-Exponent':0,\n",
    "    'DP-Gaussian':0,\n",
    "    'DP-Laplace':0,\n",
    "    'HE-Elgamal':0,\n",
    "    # 'HE-Paillier':0,\n",
    "    'K-anonymity':0,\n",
    "    'Mosaicing':0,\n",
    "    'PixelPermutation':0,\n",
    "    'RandomNoise':0,\n",
    "    'XOR':0,\n",
    "    'BlockPerturb':0\n",
    "    }\n",
    "\n",
    "        for line in f:\n",
    "            if line[-3:] != 'npy' or line.split('_')[2][:-4] == 'HE-Paillier':\n",
    "                continue\n",
    "            image_path = data_dir + '/' + line\n",
    "            \n",
    "            label = line.split('_')[2][:-4]\n",
    "            temp[label] = temp.get(label) + 1\n",
    "            # 读取灰度图\n",
    "            image = np.load(image_path, allow_pickle=True)\n",
    "            image = self.transform(image)\n",
    "            self.data.append([image, np.array(labels_dict[label])])\n",
    "        \n",
    "        print(temp,len(temp))\n",
    "\n",
    "        \n",
    "\n",
    "    def __getitem__(self, index):\n",
    "        \"\"\"\n",
    "        步骤三：实现 __getitem__ 函数，定义指定 index 时如何获取数据，并返回单条数据（样本数据、对应的标签）\n",
    "        \"\"\"\n",
    "        # 根据索引，从列表中取出一个图像\n",
    "        image, label = self.data[index]\n",
    "  \n",
    "\n",
    "        # 飞桨训练时内部数据格式默认为float32，将图像数据格式转换为 float32\n",
    "        image = image.astype('float32')\n",
    "        # 应用数据处理方法到图像上\n",
    "        if self.transform is not None:\n",
    "            image = self.transform(image)\n",
    "        # 返回图像和对应标签\n",
    "        return image, label\n",
    "\n",
    "    def __len__(self):\n",
    "        \"\"\"\n",
    "        步骤四：实现 __len__ 函数，返回数据集的样本总数\n",
    "        \"\"\"\n",
    "        return len(self.data)"
   ]
  },
  {
   "cell_type": "code",
   "execution_count": 5,
   "metadata": {
    "execution": {
     "iopub.execute_input": "2024-06-05T16:23:04.558328Z",
     "iopub.status.busy": "2024-06-05T16:23:04.557071Z",
     "iopub.status.idle": "2024-06-05T16:23:09.994024Z",
     "shell.execute_reply": "2024-06-05T16:23:09.993178Z",
     "shell.execute_reply.started": "2024-06-05T16:23:04.558287Z"
    },
    "scrolled": true,
    "tags": []
   },
   "outputs": [
    {
     "name": "stdout",
     "output_type": "stream",
     "text": [
      "{'DP-Exponent': 1000, 'DP-Gaussian': 1000, 'DP-Laplace': 1000, 'HE-Elgamal': 1000, 'K-anonymity': 1000, 'Mosaicing': 1000, 'PixelPermutation': 1000, 'RandomNoise': 1001, 'XOR': 1000, 'BlockPerturb': 1000} 10\r\n",
      "(28, 28)\r\n"
     ]
    }
   ],
   "source": [
    "dataset = MyDataset(data_dir = 'work/dataset',transform = Compose([Normalize(mean=[127.5],std=[127.5],data_format='CHW')]))\n",
    "image,label = dataset.__getitem__(0)\n",
    "print(image[0].shape)"
   ]
  },
  {
   "cell_type": "code",
   "execution_count": 6,
   "metadata": {
    "execution": {
     "iopub.execute_input": "2024-06-05T16:23:10.766510Z",
     "iopub.status.busy": "2024-06-05T16:23:10.765927Z",
     "iopub.status.idle": "2024-06-05T16:23:11.260367Z",
     "shell.execute_reply": "2024-06-05T16:23:11.259594Z",
     "shell.execute_reply.started": "2024-06-05T16:23:10.766472Z"
    },
    "scrolled": true,
    "tags": []
   },
   "outputs": [
    {
     "name": "stdout",
     "output_type": "stream",
     "text": [
      "数据集总长度为： 10001\r\n",
      "训练集长度为： 7000\r\n",
      "测试集长度为： 3001\r\n",
      "图像和标签数据类型为 <class 'numpy.ndarray'> <class 'numpy.ndarray'>\r\n",
      "图像和标签维度为 (1, 28, 28) ()\r\n",
      "第一条数据的标签为: 0   DP-Exponent\r\n",
      "[[[-1.         -1.          0.827451    0.9529412  -1.\r\n",
      "   -1.         -1.         -1.         -0.3254902  -1.\r\n",
      "   -1.          0.99215686 -1.         -1.         -1.\r\n",
      "   -1.         -1.         -1.         -1.          0.4745098\r\n",
      "   -1.         -1.         -1.         -0.3647059  -1.\r\n",
      "   -1.         -0.31764707 -1.        ]\r\n",
      "  [-1.         -1.          0.11372549 -1.         -1.\r\n",
      "   -1.         -0.8039216  -1.         -1.         -1.\r\n",
      "   -1.         -1.         -1.         -1.         -1.\r\n",
      "   -1.         -1.         -1.         -1.         -1.\r\n",
      "   -1.         -1.          0.9843137  -1.         -1.\r\n",
      "   -1.         -1.         -1.        ]\r\n",
      "  [ 0.05098039 -1.         -1.         -1.          0.9843137\r\n",
      "   -1.         -1.         -1.         -1.          0.9843137\r\n",
      "    0.9607843   0.827451   -1.         -1.         -1.\r\n",
      "   -1.         -1.         -1.         -1.         -1.\r\n",
      "   -1.         -1.         -0.3647059  -1.         -1.\r\n",
      "   -1.         -1.         -1.        ]\r\n",
      "  [-1.         -1.         -1.          0.99215686 -1.\r\n",
      "   -1.         -1.         -1.         -1.          0.99215686\r\n",
      "   -1.         -1.         -1.         -1.         -1.\r\n",
      "   -1.         -1.         -1.         -1.         -0.3254902\r\n",
      "    0.9843137  -1.         -1.         -1.         -1.\r\n",
      "   -1.         -1.          0.9843137 ]\r\n",
      "  [-1.         -1.          0.4745098   0.9843137  -1.\r\n",
      "   -1.         -1.         -1.         -1.         -0.3254902\r\n",
      "   -0.7490196  -1.         -1.         -1.         -1.\r\n",
      "   -1.         -1.         -1.         -1.         -1.\r\n",
      "    0.99215686 -0.9529412  -0.49803922  0.99215686 -1.\r\n",
      "   -1.         -1.         -1.        ]\r\n",
      "  [-1.          0.99215686  0.03529412  0.13725491 -1.\r\n",
      "   -1.         -1.          0.9843137  -0.90588236  0.7882353\r\n",
      "   -1.         -1.         -1.         -1.         -1.\r\n",
      "   -1.          0.05098039 -1.         -1.         -1.\r\n",
      "    0.03529412 -1.         -1.         -1.         -1.\r\n",
      "   -1.         -1.          0.7254902 ]\r\n",
      "  [ 0.41960785 -1.          0.99215686 -1.         -1.\r\n",
      "   -1.         -1.         -1.         -1.          0.99215686\r\n",
      "   -1.          0.9843137  -1.          0.9843137  -1.\r\n",
      "   -1.         -1.         -1.         -1.         -1.\r\n",
      "   -1.         -1.         -1.         -1.         -1.\r\n",
      "   -1.         -0.7647059   0.9843137 ]\r\n",
      "  [-1.         -1.         -0.75686276 -1.         -1.\r\n",
      "   -1.          0.9843137  -0.7176471  -1.         -1.\r\n",
      "   -1.         -1.         -1.         -1.         -1.\r\n",
      "   -1.         -1.          0.99215686 -1.         -1.\r\n",
      "   -1.         -1.         -1.         -1.          0.9843137\r\n",
      "   -1.         -1.         -1.        ]\r\n",
      "  [-1.         -1.         -1.         -1.          0.09019608\r\n",
      "   -1.         -1.         -1.         -1.          0.9529412\r\n",
      "   -1.         -0.8039216  -1.         -1.         -1.\r\n",
      "    0.9843137   0.9843137  -1.         -1.         -1.\r\n",
      "   -1.         -1.         -1.          0.8901961  -1.\r\n",
      "   -1.         -1.         -0.2627451 ]\r\n",
      "  [-1.         -1.         -1.         -1.         -1.\r\n",
      "   -1.         -1.         -1.         -1.         -1.\r\n",
      "   -1.         -1.         -1.         -1.         -1.\r\n",
      "    0.9843137  -1.         -1.         -1.          0.9843137\r\n",
      "   -1.         -1.         -0.2627451  -1.         -1.\r\n",
      "   -1.         -1.         -1.        ]\r\n",
      "  [-1.         -1.         -1.         -0.7490196  -1.\r\n",
      "   -1.         -1.         -1.         -1.          0.41960785\r\n",
      "    0.5529412  -1.         -1.          0.5764706   0.9843137\r\n",
      "   -1.          0.9843137  -1.         -1.          1.\r\n",
      "   -1.         -1.         -1.         -1.         -1.\r\n",
      "   -1.         -1.         -1.        ]\r\n",
      "  [ 0.9843137  -0.30980393 -1.         -1.         -1.\r\n",
      "   -1.         -1.         -1.         -1.         -1.\r\n",
      "   -1.         -1.         -1.         -1.         -1.\r\n",
      "   -1.         -1.          0.7882353  -1.          0.9843137\r\n",
      "    0.88235295 -1.          0.11372549 -1.         -1.\r\n",
      "    0.9843137  -1.         -1.        ]\r\n",
      "  [-1.         -1.         -1.          1.         -1.\r\n",
      "   -1.         -1.         -1.         -1.         -1.\r\n",
      "   -1.         -1.         -1.         -1.         -1.\r\n",
      "   -1.         -1.         -1.         -1.         -1.\r\n",
      "   -1.         -1.         -1.          0.9843137  -1.\r\n",
      "   -1.          0.73333335 -1.        ]\r\n",
      "  [-1.         -1.         -1.         -1.         -1.\r\n",
      "   -1.          0.9843137   0.99215686  0.99215686 -1.\r\n",
      "   -1.         -1.         -0.7254902  -1.         -1.\r\n",
      "   -1.         -1.         -1.          0.9843137  -1.\r\n",
      "   -1.         -1.         -1.         -1.         -1.\r\n",
      "   -1.          0.9843137  -1.        ]\r\n",
      "  [-1.         -1.         -1.         -1.         -1.\r\n",
      "   -1.          0.99215686 -1.         -1.          0.9843137\r\n",
      "    0.9843137  -1.         -1.         -1.         -1.\r\n",
      "   -1.         -1.         -1.         -1.         -1.\r\n",
      "   -1.         -1.         -1.         -1.         -1.\r\n",
      "   -1.         -0.2627451   0.9843137 ]\r\n",
      "  [-1.          0.00392157 -1.         -1.         -0.5764706\r\n",
      "    0.9843137  -0.92156863 -1.         -1.         -1.\r\n",
      "   -1.         -1.         -1.          0.34117648 -1.\r\n",
      "   -1.         -1.          0.9843137  -1.         -1.\r\n",
      "    0.9843137  -1.         -1.         -1.         -1.\r\n",
      "    0.9843137  -1.         -1.        ]\r\n",
      "  [-1.          0.9843137   0.9843137  -1.         -0.9529412\r\n",
      "   -1.         -1.         -1.         -1.         -1.\r\n",
      "   -1.         -1.          0.9843137  -1.         -1.\r\n",
      "   -1.         -1.         -1.         -1.         -1.\r\n",
      "   -1.          0.41960785  0.5058824   0.9529412   0.9843137\r\n",
      "   -1.         -1.         -1.        ]\r\n",
      "  [ 0.9843137   0.99215686 -1.          0.9843137  -1.\r\n",
      "   -1.         -1.         -1.         -1.         -1.\r\n",
      "   -1.         -1.         -1.         -1.         -1.\r\n",
      "   -1.          0.11372549 -1.         -1.         -1.\r\n",
      "   -1.         -1.         -1.         -1.         -1.\r\n",
      "   -1.         -1.         -1.        ]\r\n",
      "  [ 0.99215686 -1.         -0.31764707 -1.         -1.\r\n",
      "   -1.         -1.         -0.16862746 -1.         -1.\r\n",
      "   -1.         -1.         -1.          0.9843137  -0.48235294\r\n",
      "    0.03529412 -1.         -1.         -1.         -1.\r\n",
      "   -1.          0.84313726 -1.         -1.         -1.\r\n",
      "   -0.38039216 -1.         -1.        ]\r\n",
      "  [-1.          0.5058824   0.5058824   0.9843137  -1.\r\n",
      "   -1.         -1.         -1.         -1.          0.34117648\r\n",
      "   -1.         -1.         -1.         -1.          1.\r\n",
      "   -1.         -1.         -1.         -1.         -1.\r\n",
      "   -1.         -1.         -1.         -1.         -1.\r\n",
      "    0.23921569 -1.         -0.77254903]\r\n",
      "  [-1.         -1.         -1.         -1.         -1.\r\n",
      "    0.9843137  -1.         -1.         -1.         -1.\r\n",
      "   -0.90588236 -1.         -1.         -1.         -1.\r\n",
      "    0.44313726 -1.         -1.         -1.         -0.8039216\r\n",
      "   -1.         -1.         -1.         -1.         -1.\r\n",
      "   -1.         -1.         -1.        ]\r\n",
      "  [-1.         -1.          0.99215686 -1.          0.9843137\r\n",
      "   -1.         -1.         -1.         -1.         -1.\r\n",
      "   -1.         -1.         -1.         -0.9137255  -1.\r\n",
      "    0.9843137  -1.         -1.         -1.         -1.\r\n",
      "   -1.         -0.03529412  0.9843137   0.5529412  -1.\r\n",
      "    0.9843137  -1.         -1.        ]\r\n",
      "  [-0.7176471  -1.         -1.         -0.3254902   0.9843137\r\n",
      "   -1.         -1.         -1.         -0.94509804 -1.\r\n",
      "   -0.75686276 -0.5137255   0.77254903 -1.         -1.\r\n",
      "   -1.         -1.         -0.3254902  -1.         -1.\r\n",
      "   -1.          0.9843137  -1.         -1.         -1.\r\n",
      "   -1.         -1.         -1.        ]\r\n",
      "  [-1.         -1.         -0.14509805  0.99215686  1.\r\n",
      "   -1.         -1.         -1.         -1.         -1.\r\n",
      "   -1.          0.9843137  -1.         -1.         -1.\r\n",
      "   -1.         -1.         -1.         -1.          0.07450981\r\n",
      "   -1.         -1.         -1.         -1.         -1.\r\n",
      "   -1.         -1.          0.9843137 ]\r\n",
      "  [-1.         -1.         -1.         -1.         -1.\r\n",
      "   -1.         -1.         -1.         -1.          0.99215686\r\n",
      "   -1.          0.99215686  0.9843137  -1.         -1.\r\n",
      "   -1.         -1.         -1.         -1.          0.9843137\r\n",
      "   -1.          0.9843137  -1.          0.9843137  -1.\r\n",
      "    0.9843137  -1.          0.9764706 ]\r\n",
      "  [ 0.9843137  -1.         -1.         -0.03529412 -1.\r\n",
      "   -1.         -1.         -1.         -1.         -1.\r\n",
      "   -1.         -1.         -1.         -1.          0.9843137\r\n",
      "   -1.         -1.         -1.         -1.          0.03529412\r\n",
      "   -1.         -1.          0.99215686 -1.          0.05098039\r\n",
      "    0.99215686 -1.         -1.        ]\r\n",
      "  [-1.         -1.         -1.         -1.         -1.\r\n",
      "   -1.         -1.         -1.         -1.         -1.\r\n",
      "   -1.          0.9843137  -1.         -1.         -1.\r\n",
      "    0.9843137  -1.          0.67058825 -1.         -1.\r\n",
      "   -1.         -1.          0.9843137   0.7019608  -1.\r\n",
      "   -1.          0.9843137  -1.        ]\r\n",
      "  [-1.         -1.         -1.         -1.         -1.\r\n",
      "    0.9843137  -1.         -1.         -1.         -1.\r\n",
      "   -1.         -1.          0.41960785 -1.         -1.\r\n",
      "   -1.          0.3882353   0.9764706  -1.         -1.\r\n",
      "   -1.         -1.         -1.         -1.         -0.8039216\r\n",
      "   -1.         -1.         -1.        ]]] 0\r\n"
     ]
    },
    {
     "name": "stderr",
     "output_type": "stream",
     "text": [
      "/opt/conda/envs/python35-paddle120-env/lib/python3.7/site-packages/matplotlib/cbook/__init__.py:2349: DeprecationWarning: Using or importing the ABCs from 'collections' instead of from 'collections.abc' is deprecated, and in 3.8 it will stop working\r\n",
      "  if isinstance(obj, collections.Iterator):\r\n",
      "/opt/conda/envs/python35-paddle120-env/lib/python3.7/site-packages/matplotlib/cbook/__init__.py:2366: DeprecationWarning: Using or importing the ABCs from 'collections' instead of from 'collections.abc' is deprecated, and in 3.8 it will stop working\r\n",
      "  return list(data) if isinstance(data, collections.MappingView) else data\r\n"
     ]
    },
    {
     "data": {
      "text/plain": [
       "<matplotlib.image.AxesImage at 0x7fbb0573d3d0>"
      ]
     },
     "execution_count": 6,
     "metadata": {},
     "output_type": "execute_result"
    },
    {
     "name": "stderr",
     "output_type": "stream",
     "text": [
      "/opt/conda/envs/python35-paddle120-env/lib/python3.7/site-packages/matplotlib/image.py:425: DeprecationWarning: np.asscalar(a) is deprecated since NumPy v1.16, use a.item() instead\r\n",
      "  a_min = np.asscalar(a_min.astype(scaled_dtype))\r\n",
      "/opt/conda/envs/python35-paddle120-env/lib/python3.7/site-packages/matplotlib/image.py:426: DeprecationWarning: np.asscalar(a) is deprecated since NumPy v1.16, use a.item() instead\r\n",
      "  a_max = np.asscalar(a_max.astype(scaled_dtype))\r\n"
     ]
    },
    {
     "data": {
      "image/png": "[encoded data removed]",
      "text/plain": [
       "<Figure size 200x200 with 1 Axes>"
      ]
     },
     "metadata": {},
     "output_type": "display_data"
    }
   ],
   "source": [
    "# 测试定义的数据集\n",
    "random.shuffle(dataset.data)\n",
    "\n",
    "train_set,test_set = dataset.data[:7000],dataset.data[7000:]\n",
    "print('数据集总长度为：',dataset.__len__())\n",
    "print('训练集长度为：',len(train_set))\n",
    "print('测试集长度为：',len(test_set))\n",
    "\n",
    "img0,label0 = train_set[0]\n",
    "print('图像和标签数据类型为',type(img0),type(label0))\n",
    "print('图像和标签维度为',img0.shape,label0.shape)\n",
    "\n",
    "print('第一条数据的标签为: ' + str(label0) +\"   \"+ new_labels_dict[int(label0)])\n",
    "print(img0,label0)\n",
    "\n",
    "img0 = img0.reshape([28,28])\n",
    "plt.figure(figsize=(2,2))\n",
    "plt.imshow(img0, cmap=plt.cm.binary)\n"
   ]
  },
  {
   "cell_type": "code",
   "execution_count": 7,
   "metadata": {
    "execution": {
     "iopub.execute_input": "2024-06-05T16:23:11.571955Z",
     "iopub.status.busy": "2024-06-05T16:23:11.571220Z",
     "iopub.status.idle": "2024-06-05T16:23:11.576781Z",
     "shell.execute_reply": "2024-06-05T16:23:11.576081Z",
     "shell.execute_reply.started": "2024-06-05T16:23:11.571919Z"
    },
    "scrolled": true,
    "tags": []
   },
   "outputs": [
    {
     "name": "stdout",
     "output_type": "stream",
     "text": [
      "(1, 28, 28)\r\n"
     ]
    }
   ],
   "source": [
    "for i in range(len(train_set)):\n",
    "        img,label = train_set[i]\n",
    "        # 将数据处理成希望的类型\n",
    "        print(img.shape)\n",
    "        break\n",
    "        # img = img.reshape(1,784)"
   ]
  },
  {
   "cell_type": "code",
   "execution_count": 8,
   "metadata": {
    "execution": {
     "iopub.execute_input": "2024-06-05T16:23:12.409348Z",
     "iopub.status.busy": "2024-06-05T16:23:12.408180Z",
     "iopub.status.idle": "2024-06-05T16:23:12.421812Z",
     "shell.execute_reply": "2024-06-05T16:23:12.420949Z",
     "shell.execute_reply.started": "2024-06-05T16:23:12.409310Z"
    },
    "scrolled": true,
    "tags": []
   },
   "outputs": [],
   "source": [
    "# 读入数据时用到的批次大小\n",
    "BATCHSIZE = 100\n",
    "\n",
    "# 随机打乱训练数据的索引序号\n",
    "random.shuffle(train_set)\n",
    "\n",
    "# 定义数据生成器，返回批次数据\n",
    "def data_generator():\n",
    "    imgs_list = []\n",
    "    labels_list = []\n",
    "    for i in range(len(train_set)):\n",
    "        img,label = train_set[i]\n",
    "        # 将数据处理成希望的类型\n",
    "        img = img.reshape(784,)\n",
    "        img = img.astype('float32')\n",
    "        label = label.astype('float32')\n",
    "\n",
    "        imgs_list.append(img) \n",
    "        labels_list.append(label)\n",
    "        if len(imgs_list) == BATCHSIZE:\n",
    "            # 获得一个batchsize的数据，并返回\n",
    "            yield np.array(imgs_list), np.array(labels_list)\n",
    "            # 清空数据读取列表\n",
    "            imgs_list = []\n",
    "            labels_list = []\n",
    "\n",
    "    # 如果剩余数据的数目小于BATCHSIZE，\n",
    "    # 则剩余数据一起构成一个大小为len(imgs_list)的mini-batch\n",
    "    if len(imgs_list) > 0:\n",
    "        yield np.array(imgs_list), np.array(labels_list)\n",
    "    return data_generator"
   ]
  },
  {
   "cell_type": "code",
   "execution_count": 9,
   "metadata": {
    "execution": {
     "iopub.execute_input": "2024-06-05T16:23:13.136802Z",
     "iopub.status.busy": "2024-06-05T16:23:13.135424Z",
     "iopub.status.idle": "2024-06-05T16:23:13.146560Z",
     "shell.execute_reply": "2024-06-05T16:23:13.145383Z",
     "shell.execute_reply.started": "2024-06-05T16:23:13.136760Z"
    },
    "scrolled": true,
    "tags": []
   },
   "outputs": [
    {
     "name": "stdout",
     "output_type": "stream",
     "text": [
      "打印第一个batch数据的维度,以及数据的类型:\r\n",
      "图像维度: (100, 784), 标签维度: (100,), 图像数据类型: <class 'numpy.ndarray'>, 标签数据类型: <class 'numpy.ndarray'>\r\n"
     ]
    }
   ],
   "source": [
    "# 声明数据读取函数，从训练集中读取数据\n",
    "train_loader = data_generator\n",
    "# 以迭代的形式读取数据\n",
    "for batch_id, data in enumerate(train_loader()):\n",
    "    image_data, label_data = data\n",
    "    if batch_id == 0:\n",
    "        # 打印数据shape和类型\n",
    "        print(\"打印第一个batch数据的维度,以及数据的类型:\")\n",
    "        print(\"图像维度: {}, 标签维度: {}, 图像数据类型: {}, 标签数据类型: {}\".format(image_data.shape, label_data.shape, type(image_data), type(label_data)))\n",
    "    break"
   ]
  },
  {
   "cell_type": "code",
   "execution_count": 10,
   "metadata": {
    "execution": {
     "iopub.execute_input": "2024-06-05T16:23:14.236038Z",
     "iopub.status.busy": "2024-06-05T16:23:14.234917Z",
     "iopub.status.idle": "2024-06-05T16:23:14.244339Z",
     "shell.execute_reply": "2024-06-05T16:23:14.243375Z",
     "shell.execute_reply.started": "2024-06-05T16:23:14.236001Z"
    },
    "scrolled": true,
    "tags": []
   },
   "outputs": [],
   "source": [
    "# 封装数据读取与处理函数\n",
    "def load_data(mode = 'train'):\n",
    "\n",
    "    # 随机打乱训练数据的索引序号\n",
    "    random.shuffle(train_set)\n",
    "    # 读入数据时用到的批次大小\n",
    "    BATCHSIZE = 100\n",
    "\n",
    "    # 数据集相关参数，图片高度IMG_ROWS, 图片宽度IMG_COLS\n",
    "    IMG_ROWS = 28\n",
    "    IMG_COLS = 28\n",
    "\n",
    "    # 定义数据生成器，返回批次数据\n",
    "    def data_generator():\n",
    "        imgs_list = []\n",
    "        labels_list = []\n",
    "        if mode == 'eval':\n",
    "            data_set = test_set\n",
    "        else:\n",
    "            data_set = train_set\n",
    "        for i in range(len(data_set)):\n",
    "            img,label = train_set[i]\n",
    "            # 将数据处理成希望的类型\n",
    "            img = img.reshape(784,)\n",
    "            # 将数据处理成希望的类型\n",
    "            # img = img.astype('float32')\n",
    "            # label = label.astype('float32')\n",
    "\n",
    "            # 在使用卷积神经网络结构时，uncomment 下面两行代码\n",
    "            # img = np.reshape(img, [1, IMG_ROWS, IMG_COLS]).astype('float32')\n",
    "            # label = np.reshape(label, [1]).astype('float32')\n",
    "\n",
    "            img = np.reshape(img, [1, IMG_ROWS, IMG_COLS]).astype('float32')\n",
    "            label = np.reshape(label, [1]).astype('int64')\n",
    "\n",
    "            imgs_list.append(img) \n",
    "            labels_list.append(label)\n",
    "            if len(imgs_list) == BATCHSIZE:\n",
    "                # 获得一个batchsize的数据，并返回\n",
    "                yield np.array(imgs_list), np.array(labels_list)\n",
    "                # 清空数据读取列表\n",
    "                imgs_list = []\n",
    "                labels_list = []\n",
    "\n",
    "        # 如果剩余数据的数目小于BATCHSIZE，\n",
    "        # 则剩余数据一起构成一个大小为len(imgs_list)的mini-batch\n",
    "        if len(imgs_list) > 0:\n",
    "            yield np.array(imgs_list), np.array(labels_list)\n",
    "    return data_generator"
   ]
  },
  {
   "cell_type": "code",
   "execution_count": 11,
   "metadata": {
    "execution": {
     "iopub.execute_input": "2024-06-05T16:23:14.964434Z",
     "iopub.status.busy": "2024-06-05T16:23:14.963678Z",
     "iopub.status.idle": "2024-06-05T16:23:15.110707Z",
     "shell.execute_reply": "2024-06-05T16:23:15.109651Z",
     "shell.execute_reply.started": "2024-06-05T16:23:14.964397Z"
    },
    "scrolled": true,
    "tags": []
   },
   "outputs": [
    {
     "name": "stdout",
     "output_type": "stream",
     "text": [
      "0\t1\t2\t3\t4\t5\t6\t7\t8\t9\t10\t11\t12\t13\t14\t15\t16\t17\t18\t19\t20\t21\t22\t23\t24\t25\t26\t27\t28\t29\t30\t31\t32\t33\t34\t35\t36\t37\t38\t39\t40\t41\t42\t43\t44\t45\t46\t47\t48\t49\t50\t51\t52\t53\t54\t55\t56\t57\t58\t59\t60\t61\t62\t63\t64\t65\t66\t67\t68\t69\t"
     ]
    }
   ],
   "source": [
    "# 测试load_data\n",
    "train_loader = load_data('train')\n",
    "for batch_id, data in enumerate(train_loader()):\n",
    "    print(batch_id,end='\\t')"
   ]
  },
  {
   "cell_type": "markdown",
   "metadata": {},
   "source": [
    "## 2. 网络结构"
   ]
  },
  {
   "cell_type": "code",
   "execution_count": 12,
   "metadata": {
    "execution": {
     "iopub.execute_input": "2024-06-05T16:23:17.066564Z",
     "iopub.status.busy": "2024-06-05T16:23:17.066004Z",
     "iopub.status.idle": "2024-06-05T16:23:17.076486Z",
     "shell.execute_reply": "2024-06-05T16:23:17.075621Z",
     "shell.execute_reply.started": "2024-06-05T16:23:17.066531Z"
    },
    "scrolled": true,
    "tags": []
   },
   "outputs": [],
   "source": [
    "import paddle\n",
    "from paddle.nn import Conv2D, MaxPool2D, Linear\n",
    "import paddle.nn.functional as F\n",
    "# 多层卷积神经网络实现\n",
    "class MNIST(paddle.nn.Layer):\n",
    "     def __init__(self):\n",
    "         super(MNIST, self).__init__()\n",
    "         \n",
    "         # 定义卷积层，输出特征通道out_channels设置为20，卷积核的大小kernel_size为5，卷积步长stride=1，padding=2\n",
    "         self.conv1 = Conv2D(in_channels=1, out_channels=20, kernel_size=5, stride=1, padding=2)\n",
    "         # 定义池化层，池化核的大小kernel_size为2，池化步长为2\n",
    "         self.max_pool1 = MaxPool2D(kernel_size=2, stride=2)\n",
    "         # 定义卷积层，输出特征通道out_channels设置为20，卷积核的大小kernel_size为5，卷积步长stride=1，padding=2\n",
    "         self.conv2 = Conv2D(in_channels=20, out_channels=20, kernel_size=5, stride=1, padding=2)\n",
    "         # 定义池化层，池化核的大小kernel_size为2，池化步长为2\n",
    "         self.max_pool2 = MaxPool2D(kernel_size=2, stride=2)\n",
    "         # 定义一层全连接层，输出维度是10\n",
    "         self.fc = Linear(in_features=980, out_features=11)\n",
    "\n",
    "    # 定义网络前向计算过程，卷积后紧接着使用池化层，最后使用全连接层计算最终输出\n",
    "    # 卷积层激活函数使用Relu，全连接层激活函数使用softmax\n",
    "     def forward(self, inputs, label):\n",
    "         x = self.conv1(inputs)\n",
    "         x = F.relu(x)\n",
    "         x = self.max_pool1(x)\n",
    "         x = self.conv2(x)\n",
    "         x = F.relu(x)\n",
    "         x = self.max_pool2(x)\n",
    "         x = paddle.reshape(x, [x.shape[0], 980])\n",
    "         x = self.fc(x)\n",
    "         if label is not None:\n",
    "             acc = paddle.metric.accuracy(input=x, label=label)\n",
    "             return x, acc\n",
    "         else:\n",
    "             return x\n"
   ]
  },
  {
   "cell_type": "markdown",
   "metadata": {},
   "source": [
    "## 3. 模型训练"
   ]
  },
  {
   "cell_type": "code",
   "execution_count": 13,
   "metadata": {
    "execution": {
     "iopub.execute_input": "2024-06-05T16:23:19.851907Z",
     "iopub.status.busy": "2024-06-05T16:23:19.851139Z",
     "iopub.status.idle": "2024-06-05T16:23:19.952677Z",
     "shell.execute_reply": "2024-06-05T16:23:19.951821Z",
     "shell.execute_reply.started": "2024-06-05T16:23:19.851870Z"
    },
    "scrolled": true,
    "tags": []
   },
   "outputs": [],
   "source": [
    "from visualdl import LogWriter\n",
    "log_writer = LogWriter(\"./log\")"
   ]
  },
  {
   "cell_type": "code",
   "execution_count": 14,
   "metadata": {
    "execution": {
     "iopub.execute_input": "2024-06-05T16:23:20.798216Z",
     "iopub.status.busy": "2024-06-05T16:23:20.797542Z",
     "iopub.status.idle": "2024-06-05T16:24:40.304288Z",
     "shell.execute_reply": "2024-06-05T16:24:40.303083Z",
     "shell.execute_reply.started": "2024-06-05T16:23:20.798176Z"
    },
    "scrolled": true,
    "tags": []
   },
   "outputs": [
    {
     "name": "stdout",
     "output_type": "stream",
     "text": [
      "epoch: 0, batch: 0, loss is: [3.358166], acc is [0.09]\r\n",
      "epoch: 0, batch: 10, loss is: [1.388452], acc is [0.48]\r\n",
      "epoch: 0, batch: 20, loss is: [0.96732324], acc is [0.62]\r\n",
      "epoch: 0, batch: 30, loss is: [0.8024245], acc is [0.66]\r\n",
      "epoch: 0, batch: 40, loss is: [0.64176667], acc is [0.69]\r\n",
      "epoch: 0, batch: 50, loss is: [0.5682642], acc is [0.72]\r\n",
      "epoch: 0, batch: 60, loss is: [0.47960934], acc is [0.77]\r\n",
      "epoch: 1, batch: 0, loss is: [0.44080174], acc is [0.84]\r\n",
      "epoch: 1, batch: 10, loss is: [0.49561524], acc is [0.67]\r\n",
      "epoch: 1, batch: 20, loss is: [0.43548274], acc is [0.83]\r\n",
      "epoch: 1, batch: 30, loss is: [0.42493802], acc is [0.82]\r\n",
      "epoch: 1, batch: 40, loss is: [0.50480485], acc is [0.83]\r\n",
      "epoch: 1, batch: 50, loss is: [0.39537528], acc is [0.84]\r\n",
      "epoch: 1, batch: 60, loss is: [0.30289578], acc is [0.89]\r\n",
      "epoch: 2, batch: 0, loss is: [0.3103153], acc is [0.87]\r\n",
      "epoch: 2, batch: 10, loss is: [0.28968155], acc is [0.88]\r\n",
      "epoch: 2, batch: 20, loss is: [0.29687235], acc is [0.87]\r\n",
      "epoch: 2, batch: 30, loss is: [0.32668746], acc is [0.86]\r\n",
      "epoch: 2, batch: 40, loss is: [0.405686], acc is [0.87]\r\n",
      "epoch: 2, batch: 50, loss is: [0.2577697], acc is [0.88]\r\n",
      "epoch: 2, batch: 60, loss is: [0.22204284], acc is [0.91]\r\n",
      "epoch: 3, batch: 0, loss is: [0.2242853], acc is [0.89]\r\n",
      "epoch: 3, batch: 10, loss is: [0.20485042], acc is [0.91]\r\n",
      "epoch: 3, batch: 20, loss is: [0.2305033], acc is [0.89]\r\n",
      "epoch: 3, batch: 30, loss is: [0.25981972], acc is [0.89]\r\n",
      "epoch: 3, batch: 40, loss is: [0.33879513], acc is [0.88]\r\n",
      "epoch: 3, batch: 50, loss is: [0.20523787], acc is [0.89]\r\n",
      "epoch: 3, batch: 60, loss is: [0.18036126], acc is [0.94]\r\n",
      "epoch: 4, batch: 0, loss is: [0.18419132], acc is [0.91]\r\n",
      "epoch: 4, batch: 10, loss is: [0.15964015], acc is [0.93]\r\n",
      "epoch: 4, batch: 20, loss is: [0.19549322], acc is [0.93]\r\n",
      "epoch: 4, batch: 30, loss is: [0.22445978], acc is [0.92]\r\n",
      "epoch: 4, batch: 40, loss is: [0.30109754], acc is [0.88]\r\n",
      "epoch: 4, batch: 50, loss is: [0.17097731], acc is [0.92]\r\n",
      "epoch: 4, batch: 60, loss is: [0.15334994], acc is [0.96]\r\n",
      "epoch: 5, batch: 0, loss is: [0.16202785], acc is [0.94]\r\n",
      "epoch: 5, batch: 10, loss is: [0.13846391], acc is [0.94]\r\n",
      "epoch: 5, batch: 20, loss is: [0.18023662], acc is [0.95]\r\n",
      "epoch: 5, batch: 30, loss is: [0.22548129], acc is [0.93]\r\n",
      "epoch: 5, batch: 40, loss is: [0.2800547], acc is [0.88]\r\n",
      "epoch: 5, batch: 50, loss is: [0.15739982], acc is [0.93]\r\n",
      "epoch: 5, batch: 60, loss is: [0.13343701], acc is [0.97]\r\n",
      "epoch: 6, batch: 0, loss is: [0.1520266], acc is [0.94]\r\n",
      "epoch: 6, batch: 10, loss is: [0.12682913], acc is [0.96]\r\n",
      "epoch: 6, batch: 20, loss is: [0.16502553], acc is [0.94]\r\n",
      "epoch: 6, batch: 30, loss is: [0.27123702], acc is [0.92]\r\n",
      "epoch: 6, batch: 40, loss is: [0.22708012], acc is [0.89]\r\n",
      "epoch: 6, batch: 50, loss is: [0.15574862], acc is [0.94]\r\n",
      "epoch: 6, batch: 60, loss is: [0.1160065], acc is [0.98]\r\n",
      "epoch: 7, batch: 0, loss is: [0.15753232], acc is [0.96]\r\n",
      "epoch: 7, batch: 10, loss is: [0.1303634], acc is [0.95]\r\n",
      "epoch: 7, batch: 20, loss is: [0.13011546], acc is [0.96]\r\n",
      "epoch: 7, batch: 30, loss is: [0.30471933], acc is [0.91]\r\n",
      "epoch: 7, batch: 40, loss is: [0.14831063], acc is [0.93]\r\n",
      "epoch: 7, batch: 50, loss is: [0.1456859], acc is [0.95]\r\n",
      "epoch: 7, batch: 60, loss is: [0.13564731], acc is [0.95]\r\n",
      "epoch: 8, batch: 0, loss is: [0.10734896], acc is [1.]\r\n",
      "epoch: 8, batch: 10, loss is: [0.13216592], acc is [0.94]\r\n",
      "epoch: 8, batch: 20, loss is: [0.15365249], acc is [0.95]\r\n",
      "epoch: 8, batch: 30, loss is: [0.14346431], acc is [0.92]\r\n",
      "epoch: 8, batch: 40, loss is: [0.137109], acc is [0.96]\r\n",
      "epoch: 8, batch: 50, loss is: [0.11995779], acc is [0.93]\r\n",
      "epoch: 8, batch: 60, loss is: [0.11667061], acc is [0.94]\r\n",
      "epoch: 9, batch: 0, loss is: [0.11300383], acc is [0.96]\r\n",
      "epoch: 9, batch: 10, loss is: [0.10819975], acc is [0.96]\r\n",
      "epoch: 9, batch: 20, loss is: [0.1189423], acc is [0.98]\r\n",
      "epoch: 9, batch: 30, loss is: [0.13648665], acc is [0.92]\r\n",
      "epoch: 9, batch: 40, loss is: [0.12423397], acc is [0.97]\r\n",
      "epoch: 9, batch: 50, loss is: [0.11900839], acc is [0.93]\r\n",
      "epoch: 9, batch: 60, loss is: [0.09159789], acc is [0.98]\r\n"
     ]
    }
   ],
   "source": [
    "#网络结构部分之后的代码，保持不变\n",
    "def train(model):\n",
    "    model.train()\n",
    "    #调用加载数据的函数，获得MNIST训练数据集\n",
    "    train_loader = load_data('train')\n",
    "    # 使用SGD优化器，learning_rate设置\n",
    "    # opt = paddle.optimizer.SGD(learning_rate=0.01, parameters=model.parameters())\n",
    "    #四种优化算法的设置方案，可以逐一尝试效果\n",
    "    # opt = paddle.optimizer.Momentum(learning_rate=0.001, momentum=0.9, parameters=model.parameters())\n",
    "    # opt = paddle.optimizer.Adagrad(learning_rate=0.01, parameters=model.parameters())\n",
    "    opt = paddle.optimizer.Adam(learning_rate=0.001, parameters=model.parameters())\n",
    "\n",
    "\n",
    "    # 训练10轮\n",
    "    EPOCH_NUM = 10\n",
    "    iter = 0\n",
    "    # MNIST图像高和宽\n",
    "    IMG_ROWS, IMG_COLS = 28, 28\n",
    "    loss_list = []\n",
    "    for epoch_id in range(EPOCH_NUM):\n",
    "        for batch_id, data in enumerate(train_loader()):\n",
    "            #准备数据\n",
    "            images, labels = data\n",
    "            images = paddle.to_tensor(images)\n",
    "            labels = paddle.to_tensor(labels)\n",
    "            \n",
    "            #前向计算的过程\n",
    "            predicts, acc = model(images, labels)\n",
    "            \n",
    "            #计算损失，取一个批次样本损失的平均值\n",
    "            loss = F.cross_entropy(predicts, labels)\n",
    "            avg_loss = paddle.mean(loss)\n",
    "\n",
    "            #每训练10批次的数据，打印下当前Loss的情况\n",
    "            if batch_id % 10 == 0:\n",
    "                loss = avg_loss.numpy()[0]\n",
    "                loss_list.append(loss)\n",
    "                print(\"epoch: {}, batch: {}, loss is: {}, acc is {}\".format(epoch_id, batch_id, avg_loss.numpy(), acc.numpy()))\n",
    "                log_writer.add_scalar(tag = 'acc', step = iter, value = acc.numpy())\n",
    "                log_writer.add_scalar(tag = 'loss', step = iter, value = avg_loss.numpy())\n",
    "                iter = iter + 100\n",
    "            \n",
    "            #后向传播，更新参数的过程\n",
    "            avg_loss.backward()\n",
    "            # 最小化loss,更新参数\n",
    "            opt.step()\n",
    "            # 清除梯度\n",
    "            opt.clear_grad()\n",
    "\n",
    "    #保存模型参数\n",
    "    paddle.save(model.state_dict(), 'mnist.pdparams')\n",
    "    return loss_list\n",
    "\n",
    "model = MNIST()\n",
    "loss_list = train(model)"
   ]
  },
  {
   "cell_type": "code",
   "execution_count": 15,
   "metadata": {
    "execution": {
     "iopub.execute_input": "2024-06-05T16:24:45.566591Z",
     "iopub.status.busy": "2024-06-05T16:24:45.565895Z",
     "iopub.status.idle": "2024-06-05T16:24:45.848413Z",
     "shell.execute_reply": "2024-06-05T16:24:45.847606Z",
     "shell.execute_reply.started": "2024-06-05T16:24:45.566550Z"
    },
    "scrolled": true,
    "tags": []
   },
   "outputs": [
    {
     "data": {
      "image/png": "[encoded data removed]",
      "text/plain": [
       "<Figure size 1000x500 with 1 Axes>"
      ]
     },
     "metadata": {},
     "output_type": "display_data"
    }
   ],
   "source": [
    "EPOCH_NUM = 10\n",
    "def plot(loss_list):\n",
    "    plt.figure(figsize=(10,5))\n",
    "    \n",
    "    epoch = [i for i in range(70)]\n",
    "    # 绘制训练损失变化曲线\n",
    "    plt.plot(epoch, loss_list, color='#e4007f', label=\"Train loss\")\n",
    "    \n",
    "    # 绘制坐标轴和图例\n",
    "    plt.ylabel(\"loss\", fontsize='large')\n",
    "    plt.xlabel(\"epoch\", fontsize='large')\n",
    "    plt.legend(loc='upper right', fontsize='x-large')\n",
    "    \n",
    "    plt.show()\n",
    "\n",
    "plot(loss_list)"
   ]
  },
  {
   "cell_type": "markdown",
   "metadata": {},
   "source": [
    "## 4. 模型预测"
   ]
  },
  {
   "cell_type": "code",
   "execution_count": 16,
   "metadata": {
    "execution": {
     "iopub.execute_input": "2024-06-05T16:24:50.008674Z",
     "iopub.status.busy": "2024-06-05T16:24:50.008030Z",
     "iopub.status.idle": "2024-06-05T16:24:51.060627Z",
     "shell.execute_reply": "2024-06-05T16:24:51.059746Z",
     "shell.execute_reply.started": "2024-06-05T16:24:50.008637Z"
    },
    "scrolled": true,
    "tags": []
   },
   "outputs": [
    {
     "name": "stdout",
     "output_type": "stream",
     "text": [
      "start evaluation .......\r\n",
      "loss=0.17921963413720088, acc=0.9048387100619655\r\n"
     ]
    }
   ],
   "source": [
    "def evaluation(model):\n",
    "    print('start evaluation .......')\n",
    "    # 定义预测过程\n",
    "    params_file_path = 'mnist.pdparams'\n",
    "    # 加载模型参数\n",
    "    param_dict = paddle.load(params_file_path)\n",
    "    model.load_dict(param_dict)\n",
    "\n",
    "    model.eval()\n",
    "    eval_loader = load_data('eval')\n",
    "\n",
    "    acc_set = []\n",
    "    avg_loss_set = []\n",
    "    for batch_id, data in enumerate(eval_loader()):\n",
    "        images, labels = data\n",
    "        images = paddle.to_tensor(images)\n",
    "        labels = paddle.to_tensor(labels)\n",
    "        predicts, acc = model(images, labels)\n",
    "        loss = F.cross_entropy(input=predicts, label=labels)\n",
    "        avg_loss = paddle.mean(loss)\n",
    "        acc_set.append(float(acc.numpy()))\n",
    "        avg_loss_set.append(float(avg_loss.numpy()))\n",
    "    \n",
    "    #计算多个batch的平均损失和准确率\n",
    "    acc_val_mean = np.array(acc_set).mean()\n",
    "    avg_loss_val_mean = np.array(avg_loss_set).mean()\n",
    "\n",
    "    print('loss={}, acc={}'.format(avg_loss_val_mean, acc_val_mean))\n",
    "\n",
    "model = MNIST()\n",
    "evaluation(model)"
   ]
  },
  {
   "cell_type": "markdown",
   "metadata": {},
   "source": [
    "## 5. 可视化分析"
   ]
  },
  {
   "cell_type": "code",
   "execution_count": 33,
   "metadata": {
    "collapsed": true,
    "execution": {
     "iopub.execute_input": "2024-05-28T07:12:13.306959Z",
     "iopub.status.busy": "2024-05-28T07:12:13.306288Z",
     "iopub.status.idle": "2024-05-28T07:12:19.552801Z",
     "shell.execute_reply": "2024-05-28T07:12:19.551158Z",
     "shell.execute_reply.started": "2024-05-28T07:12:13.306904Z"
    },
    "jupyter": {
     "outputs_hidden": true
    },
    "scrolled": true,
    "tags": []
   },
   "outputs": [
    {
     "name": "stdout",
     "output_type": "stream",
     "text": [
      "Looking in indexes: https://mirror.baidu.com/pypi/simple/, https://mirrors.aliyun.com/pypi/simple/\r\n",
      "Requirement already satisfied: pip in /opt/conda/envs/python35-paddle120-env/lib/python3.7/site-packages (24.0)\r\n",
      "Looking in indexes: https://mirror.baidu.com/pypi/simple/, https://mirrors.aliyun.com/pypi/simple/\r\n",
      "Requirement already satisfied: visualdl in /opt/conda/envs/python35-paddle120-env/lib/python3.7/site-packages (2.5.3)\r\n",
      "Requirement already satisfied: bce-python-sdk in /opt/conda/envs/python35-paddle120-env/lib/python3.7/site-packages (from visualdl) (0.8.53)\r\n",
      "Requirement already satisfied: flask>=1.1.1 in /opt/conda/envs/python35-paddle120-env/lib/python3.7/site-packages (from visualdl) (2.2.5)\r\n",
      "Requirement already satisfied: Flask-Babel>=3.0.0 in /opt/conda/envs/python35-paddle120-env/lib/python3.7/site-packages (from visualdl) (3.1.0)\r\n",
      "Requirement already satisfied: numpy in /opt/conda/envs/python35-paddle120-env/lib/python3.7/site-packages (from visualdl) (1.19.5)\r\n",
      "Requirement already satisfied: Pillow>=7.0.0 in /opt/conda/envs/python35-paddle120-env/lib/python3.7/site-packages (from visualdl) (8.2.0)\r\n",
      "Requirement already satisfied: protobuf>=3.20.0 in /opt/conda/envs/python35-paddle120-env/lib/python3.7/site-packages (from visualdl) (3.20.0)\r\n",
      "Requirement already satisfied: requests in /opt/conda/envs/python35-paddle120-env/lib/python3.7/site-packages (from visualdl) (2.24.0)\r\n",
      "Requirement already satisfied: six>=1.14.0 in /opt/conda/envs/python35-paddle120-env/lib/python3.7/site-packages (from visualdl) (1.15.0)\r\n",
      "Requirement already satisfied: matplotlib in /opt/conda/envs/python35-paddle120-env/lib/python3.7/site-packages (from visualdl) (2.2.3)\r\n",
      "Requirement already satisfied: pandas in /opt/conda/envs/python35-paddle120-env/lib/python3.7/site-packages (from visualdl) (1.1.5)\r\n",
      "Requirement already satisfied: packaging in /opt/conda/envs/python35-paddle120-env/lib/python3.7/site-packages (from visualdl) (20.9)\r\n",
      "Requirement already satisfied: rarfile in /opt/conda/envs/python35-paddle120-env/lib/python3.7/site-packages (from visualdl) (3.1)\r\n",
      "Requirement already satisfied: psutil in /opt/conda/envs/python35-paddle120-env/lib/python3.7/site-packages (from visualdl) (5.7.2)\r\n",
      "Requirement already satisfied: Werkzeug>=2.2.2 in /opt/conda/envs/python35-paddle120-env/lib/python3.7/site-packages (from flask>=1.1.1->visualdl) (2.2.3)\r\n",
      "Requirement already satisfied: Jinja2>=3.0 in /opt/conda/envs/python35-paddle120-env/lib/python3.7/site-packages (from flask>=1.1.1->visualdl) (3.1.4)\r\n",
      "Requirement already satisfied: itsdangerous>=2.0 in /opt/conda/envs/python35-paddle120-env/lib/python3.7/site-packages (from flask>=1.1.1->visualdl) (2.1.2)\r\n",
      "Requirement already satisfied: click>=8.0 in /opt/conda/envs/python35-paddle120-env/lib/python3.7/site-packages (from flask>=1.1.1->visualdl) (8.1.7)\r\n",
      "Requirement already satisfied: importlib-metadata>=3.6.0 in /opt/conda/envs/python35-paddle120-env/lib/python3.7/site-packages (from flask>=1.1.1->visualdl) (4.2.0)\r\n",
      "Requirement already satisfied: Babel>=2.12 in /opt/conda/envs/python35-paddle120-env/lib/python3.7/site-packages (from Flask-Babel>=3.0.0->visualdl) (2.14.0)\r\n",
      "Requirement already satisfied: pytz>=2022.7 in /opt/conda/envs/python35-paddle120-env/lib/python3.7/site-packages (from Flask-Babel>=3.0.0->visualdl) (2024.1)\r\n",
      "Requirement already satisfied: pycryptodome>=3.8.0 in /opt/conda/envs/python35-paddle120-env/lib/python3.7/site-packages (from bce-python-sdk->visualdl) (3.9.9)\r\n",
      "Requirement already satisfied: future>=0.6.0 in /opt/conda/envs/python35-paddle120-env/lib/python3.7/site-packages (from bce-python-sdk->visualdl) (0.18.0)\r\n",
      "Requirement already satisfied: cycler>=0.10 in /opt/conda/envs/python35-paddle120-env/lib/python3.7/site-packages (from matplotlib->visualdl) (0.10.0)\r\n",
      "Requirement already satisfied: pyparsing!=2.0.4,!=2.1.2,!=2.1.6,>=2.0.1 in /opt/conda/envs/python35-paddle120-env/lib/python3.7/site-packages (from matplotlib->visualdl) (2.4.2)\r\n",
      "Requirement already satisfied: python-dateutil>=2.1 in /opt/conda/envs/python35-paddle120-env/lib/python3.7/site-packages (from matplotlib->visualdl) (2.8.0)\r\n",
      "Requirement already satisfied: kiwisolver>=1.0.1 in /opt/conda/envs/python35-paddle120-env/lib/python3.7/site-packages (from matplotlib->visualdl) (1.1.0)\r\n",
      "Requirement already satisfied: chardet<4,>=3.0.2 in /opt/conda/envs/python35-paddle120-env/lib/python3.7/site-packages (from requests->visualdl) (3.0.4)\r\n",
      "Requirement already satisfied: idna<3,>=2.5 in /opt/conda/envs/python35-paddle120-env/lib/python3.7/site-packages (from requests->visualdl) (2.8)\r\n",
      "Requirement already satisfied: urllib3!=1.25.0,!=1.25.1,<1.26,>=1.21.1 in /opt/conda/envs/python35-paddle120-env/lib/python3.7/site-packages (from requests->visualdl) (1.25.6)\r\n",
      "Requirement already satisfied: certifi>=2017.4.17 in /opt/conda/envs/python35-paddle120-env/lib/python3.7/site-packages (from requests->visualdl) (2019.9.11)\r\n",
      "Requirement already satisfied: zipp>=0.5 in /opt/conda/envs/python35-paddle120-env/lib/python3.7/site-packages (from importlib-metadata>=3.6.0->flask>=1.1.1->visualdl) (3.8.1)\r\n",
      "Requirement already satisfied: typing-extensions>=3.6.4 in /opt/conda/envs/python35-paddle120-env/lib/python3.7/site-packages (from importlib-metadata>=3.6.0->flask>=1.1.1->visualdl) (4.7.1)\r\n",
      "Requirement already satisfied: MarkupSafe>=2.0 in /opt/conda/envs/python35-paddle120-env/lib/python3.7/site-packages (from Jinja2>=3.0->flask>=1.1.1->visualdl) (2.1.5)\r\n",
      "Requirement already satisfied: setuptools in /opt/conda/envs/python35-paddle120-env/lib/python3.7/site-packages (from kiwisolver>=1.0.1->matplotlib->visualdl) (41.4.0)\r\n"
     ]
    }
   ],
   "source": [
    "# 安装VisualDL\n",
    "!pip install --upgrade pip\n",
    "!pip install --upgrade --pre visualdl"
   ]
  },
  {
   "cell_type": "code",
   "execution_count": null,
   "metadata": {
    "execution": {
     "iopub.execute_input": "2024-05-28T07:12:24.696695Z",
     "iopub.status.busy": "2024-05-28T07:12:24.696128Z"
    },
    "scrolled": true,
    "tags": []
   },
   "outputs": [
    {
     "name": "stdout",
     "output_type": "stream",
     "text": [
      "\u001b[1;33mVisualDL 2.5.3\u001b[0m\r\n",
      "Running VisualDL at http://localhost:8080/ (Press CTRL+C to quit)\r\n",
      "Serving VisualDL on localhost; to expose to the network, use a proxy or pass --host 0.0.0.0\r\n"
     ]
    }
   ],
   "source": [
    "!visualdl --logdir ./log --port 8080"
   ]
  }
 ],
 "metadata": {
  "kernelspec": {
   "display_name": "Python 3",
   "language": "python",
   "name": "py35-paddle1.2.0"
  },
  "language_info": {
   "codemirror_mode": {
    "name": "ipython",
    "version": 3
   },
   "file_extension": ".py",
   "mimetype": "text/x-python",
   "name": "python",
   "nbconvert_exporter": "python",
   "pygments_lexer": "ipython3",
   "version": "3.7.4"
  }
 },
 "nbformat": 4,
 "nbformat_minor": 4
}
