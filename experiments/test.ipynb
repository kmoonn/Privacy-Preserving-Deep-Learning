{
 "cells": [
  {
   "cell_type": "code",
   "id": "initial_id",
   "metadata": {
    "collapsed": true,
    "ExecuteTime": {
     "end_time": "2024-08-08T09:34:55.952699Z",
     "start_time": "2024-08-08T09:34:55.936699Z"
    }
   },
   "source": [
    "import paddle\n",
    "from utils import load_image_to_array\n",
    "import numpy as np\n",
    "import os\n",
    "from paddle.nn import Conv2D, MaxPool2D, Linear\n",
    "import paddle.nn.functional as F\n",
    "import matplotlib.pyplot as plt\n",
    "from paddle.io import Dataset\n",
    "from paddle.vision.transforms import Compose, Normalize"
   ],
   "outputs": [],
   "execution_count": 45
  },
  {
   "metadata": {
    "ExecuteTime": {
     "end_time": "2024-08-08T09:22:11.629205Z",
     "start_time": "2024-08-08T09:22:11.622206Z"
    }
   },
   "cell_type": "code",
   "source": [
    "labels_dict = {\n",
    "    'AMMT':0,\n",
    "    'BWAE':1,\n",
    "    'BWPS':2,\n",
    "    'DPP':3,\n",
    "    'FFXE':4,\n",
    "    'PNPT':5,\n",
    "    'RMT':6,\n",
    "    'SIT':7,\n",
    "    'SVDO':8,\n",
    "}\n",
    "\n",
    "new_labels_dict = {v : k for k, v in labels_dict.items()}"
   ],
   "id": "26cc72916e18fe84",
   "outputs": [],
   "execution_count": 11
  },
  {
   "metadata": {
    "ExecuteTime": {
     "end_time": "2024-08-08T09:22:13.000759Z",
     "start_time": "2024-08-08T09:22:12.994758Z"
    }
   },
   "cell_type": "code",
   "source": "new_labels_dict",
   "id": "373762b98a6df5ca",
   "outputs": [
    {
     "data": {
      "text/plain": [
       "{0: 'AMMT',\n",
       " 1: 'BWAE',\n",
       " 2: 'BWPS',\n",
       " 3: 'DPP',\n",
       " 4: 'FFXE',\n",
       " 5: 'PNPT',\n",
       " 6: 'RMT',\n",
       " 7: 'SIT',\n",
       " 8: 'SVDO'}"
      ]
     },
     "execution_count": 12,
     "metadata": {},
     "output_type": "execute_result"
    }
   ],
   "execution_count": 12
  },
  {
   "metadata": {
    "ExecuteTime": {
     "end_time": "2024-08-08T09:28:04.710134Z",
     "start_time": "2024-08-08T09:28:04.687132Z"
    }
   },
   "cell_type": "code",
   "source": [
    "class MyDataset(Dataset):\n",
    "    \"\"\"\n",
    "    步骤一：继承 paddle.io.Dataset 类\n",
    "    \"\"\"\n",
    "\n",
    "    def __init__(self, data_dir, transform=None):\n",
    "        \"\"\"\n",
    "        步骤二：实现 __init__ 函数，初始化数据集，将样本和标签映射到列表中\n",
    "        \"\"\"\n",
    "        super().__init__()\n",
    "        # 传入定义好的数据处理方法，作为自定义数据集类的一个属性\n",
    "        self.transform = transform\n",
    "        self.data = []\n",
    "\n",
    "        f = os.listdir(data_dir)\n",
    "\n",
    "        temp = {\n",
    "            'AMMT':0,\n",
    "            'BWAE':0,\n",
    "            'BWPS':0,\n",
    "            'DPP':0,\n",
    "            'FFXE':0,\n",
    "            'PNPT':0,\n",
    "            'RMT':0,\n",
    "            'SIT':0,\n",
    "            'SVDO':0,\n",
    "            }\n",
    "\n",
    "        for line in f:\n",
    "            image_path = data_dir + '/' + line\n",
    "            \n",
    "            label = line.split('_')[2]\n",
    "            temp[label] = temp.get(label) + 1\n",
    "            \n",
    "            # 读取图像\n",
    "            image = load_image_to_array(image_path)\n",
    "            image = self.transform(image)\n",
    "            \n",
    "            self.data.append([image, np.array(labels_dict[label])])\n",
    "        \n",
    "        print(temp,len(temp),sep='\\n')\n",
    "\n",
    "    \n",
    "    def __getitem__(self, index):\n",
    "        \"\"\"\n",
    "        步骤三：实现 __getitem__ 函数，定义指定 index 时如何获取数据，并返回单条数据（样本数据、对应的标签）\n",
    "        \"\"\"\n",
    "        # 根据索引，从列表中取出一个图像\n",
    "        image, label = self.data[index]\n",
    "  \n",
    "        # 飞桨训练时内部数据格式默认为float32，将图像数据格式转换为 float32\n",
    "        image = image.astype('float32')\n",
    "        # 应用数据处理方法到图像上\n",
    "        if self.transform is not None:\n",
    "            image = self.transform(image)\n",
    "        # 返回图像和对应标签\n",
    "        return image, label\n",
    "\n",
    "    def __len__(self):\n",
    "        \"\"\"\n",
    "        步骤四：实现 __len__ 函数，返回数据集的样本总数\n",
    "        \"\"\"\n",
    "        return len(self.data)"
   ],
   "id": "d8290aca52f99cb0",
   "outputs": [],
   "execution_count": 29
  },
  {
   "metadata": {
    "ExecuteTime": {
     "end_time": "2024-08-08T09:30:53.940325Z",
     "start_time": "2024-08-08T09:30:53.725325Z"
    }
   },
   "cell_type": "code",
   "source": [
    "dataset = MyDataset(data_dir = r'transfer',transform = Compose([Normalize(mean=[127.5],std=[127.5],data_format='CHW')]))\n",
    "\n",
    "image,label = dataset.__getitem__(0)\n",
    "print(image.shape)"
   ],
   "id": "1dbf628980ee152b",
   "outputs": [
    {
     "name": "stdout",
     "output_type": "stream",
     "text": [
      "{'AMMT': 100, 'BWAE': 100, 'BWPS': 100, 'DPP': 100, 'FFXE': 100, 'PNPT': 100, 'RMT': 100, 'SIT': 100, 'SVDO': 100}\n",
      "9\n",
      "(1, 28, 28)\n"
     ]
    }
   ],
   "execution_count": 37
  },
  {
   "metadata": {
    "ExecuteTime": {
     "end_time": "2024-08-08T09:32:26.131577Z",
     "start_time": "2024-08-08T09:32:26.024527Z"
    }
   },
   "cell_type": "code",
   "source": [
    "import random\n",
    "\n",
    "# 测试定义的数据集\n",
    "random.shuffle(dataset.data)\n",
    "\n",
    "train_set,test_set = dataset.data[:700],dataset.data[700:]\n",
    "print('数据集总长度为：',dataset.__len__())\n",
    "print('训练集长度为：',len(train_set))\n",
    "print('测试集长度为：',len(test_set))\n",
    "\n",
    "img0,label0 = train_set[0]\n",
    "print('图像和标签数据类型为',type(img0),type(label0))\n",
    "print('图像和标签维度为',img0.shape,label0.shape)\n",
    "\n",
    "print('第一条数据的标签为: ' + str(label0) +\"   \"+ new_labels_dict[int(label0)])\n",
    "\n",
    "img0 = img0.reshape([28,28])\n",
    "plt.figure(figsize=(2,2))\n",
    "plt.imshow(img0, cmap=plt.cm.binary)"
   ],
   "id": "8131679e75184576",
   "outputs": [
    {
     "name": "stdout",
     "output_type": "stream",
     "text": [
      "数据集总长度为： 900\n",
      "训练集长度为： 700\n",
      "测试集长度为： 200\n",
      "图像和标签数据类型为 <class 'numpy.ndarray'> <class 'numpy.ndarray'>\n",
      "图像和标签维度为 (1, 28, 28) ()\n",
      "第一条数据的标签为: 1   BWAE\n"
     ]
    },
    {
     "data": {
      "text/plain": [
       "<matplotlib.image.AxesImage at 0x19c7451d8a0>"
      ]
     },
     "execution_count": 41,
     "metadata": {},
     "output_type": "execute_result"
    },
    {
     "data": {
      "text/plain": [
       "<Figure size 200x200 with 1 Axes>"
      ],
      "image/png": "[encoded data removed]"
     },
     "metadata": {},
     "output_type": "display_data"
    }
   ],
   "execution_count": 41
  },
  {
   "metadata": {
    "ExecuteTime": {
     "end_time": "2024-08-08T09:33:30.630443Z",
     "start_time": "2024-08-08T09:33:30.621443Z"
    }
   },
   "cell_type": "code",
   "source": [
    "# 读入数据时用到的批次大小\n",
    "BATCHSIZE = 100\n",
    "\n",
    "# 随机打乱训练数据的索引序号\n",
    "random.shuffle(train_set)\n",
    "\n",
    "# 定义数据生成器，返回批次数据\n",
    "def data_generator():\n",
    "    imgs_list = []\n",
    "    labels_list = []\n",
    "    for i in range(len(train_set)):\n",
    "        img,label = train_set[i]\n",
    "        # 将数据处理成希望的类型\n",
    "        img = img.reshape(784,)\n",
    "        img = img.astype('float32')\n",
    "        label = label.astype('float32')\n",
    "\n",
    "        imgs_list.append(img) \n",
    "        labels_list.append(label)\n",
    "        if len(imgs_list) == BATCHSIZE:\n",
    "            # 获得一个batchsize的数据，并返回\n",
    "            yield np.array(imgs_list), np.array(labels_list)\n",
    "            # 清空数据读取列表\n",
    "            imgs_list = []\n",
    "            labels_list = []\n",
    "\n",
    "    # 如果剩余数据的数目小于BATCHSIZE，\n",
    "    # 则剩余数据一起构成一个大小为len(imgs_list)的mini-batch\n",
    "    if len(imgs_list) > 0:\n",
    "        yield np.array(imgs_list), np.array(labels_list)\n",
    "    return data_generator"
   ],
   "id": "35a961a347f77bf2",
   "outputs": [],
   "execution_count": 42
  },
  {
   "metadata": {
    "ExecuteTime": {
     "end_time": "2024-08-08T09:33:43.591380Z",
     "start_time": "2024-08-08T09:33:43.582379Z"
    }
   },
   "cell_type": "code",
   "source": [
    "# 声明数据读取函数，从训练集中读取数据\n",
    "train_loader = data_generator\n",
    "# 以迭代的形式读取数据\n",
    "for batch_id, data in enumerate(train_loader()):\n",
    "    image_data, label_data = data\n",
    "    if batch_id == 0:\n",
    "        # 打印数据shape和类型\n",
    "        print(\"打印第一个batch数据的维度,以及数据的类型:\")\n",
    "        print(\"图像维度: {}, 标签维度: {}, 图像数据类型: {}, 标签数据类型: {}\".format(image_data.shape, label_data.shape, type(image_data), type(label_data)))\n",
    "    break"
   ],
   "id": "764dd5fb92c3b",
   "outputs": [
    {
     "name": "stdout",
     "output_type": "stream",
     "text": [
      "打印第一个batch数据的维度,以及数据的类型:\n",
      "图像维度: (100, 784), 标签维度: (100,), 图像数据类型: <class 'numpy.ndarray'>, 标签数据类型: <class 'numpy.ndarray'>\n"
     ]
    }
   ],
   "execution_count": 43
  },
  {
   "metadata": {
    "ExecuteTime": {
     "end_time": "2024-08-08T09:45:15.848194Z",
     "start_time": "2024-08-08T09:45:15.835229Z"
    }
   },
   "cell_type": "code",
   "source": [
    "# 封装数据读取与处理函数\n",
    "def load_data(mode = 'train'):\n",
    "\n",
    "    # 随机打乱训练数据的索引序号\n",
    "    random.shuffle(train_set)\n",
    "    # 读入数据时用到的批次大小\n",
    "    BATCHSIZE = 100\n",
    "\n",
    "    # 数据集相关参数，图片高度IMG_ROWS, 图片宽度IMG_COLS\n",
    "    IMG_ROWS = 28\n",
    "    IMG_COLS = 28\n",
    "\n",
    "    # 定义数据生成器，返回批次数据\n",
    "    def data_generator():\n",
    "        imgs_list = []\n",
    "        labels_list = []\n",
    "        if mode == 'eval':\n",
    "            data_set = test_set\n",
    "        else:\n",
    "            data_set = train_set\n",
    "        for i in range(len(data_set)):\n",
    "            img, label = train_set[i]\n",
    "            # 将数据处理成希望的类型\n",
    "            img = img.reshape(784,)\n",
    "            # 将数据处理成希望的类型\n",
    "            # img = img.astype('float32')\n",
    "            # label = label.astype('float32')\n",
    "\n",
    "            # 在使用卷积神经网络结构时，uncomment 下面两行代码\n",
    "            img = np.reshape(img, [1, IMG_ROWS, IMG_COLS]).astype('float32')\n",
    "            label = np.reshape(label, [1]).astype('float32')\n",
    "\n",
    "            # img = np.reshape(img, [1, IMG_ROWS, IMG_COLS]).astype('float32')\n",
    "            # label = np.reshape(label, [1]).astype('int64')\n",
    "\n",
    "            imgs_list.append(img) \n",
    "            labels_list.append(label)\n",
    "            if len(imgs_list) == BATCHSIZE:\n",
    "                # 获得一个batchsize的数据，并返回\n",
    "                yield np.array(imgs_list), np.array(labels_list)\n",
    "                # 清空数据读取列表\n",
    "                imgs_list = []\n",
    "                labels_list = []\n",
    "\n",
    "        # 如果剩余数据的数目小于BATCHSIZE，\n",
    "        # 则剩余数据一起构成一个大小为len(imgs_list)的mini-batch\n",
    "        if len(imgs_list) > 0:\n",
    "            yield np.array(imgs_list), np.array(labels_list)\n",
    "    return data_generator"
   ],
   "id": "a8a9c903c0ac23b2",
   "outputs": [],
   "execution_count": 68
  },
  {
   "metadata": {
    "ExecuteTime": {
     "end_time": "2024-08-08T09:45:44.686223Z",
     "start_time": "2024-08-08T09:45:44.667224Z"
    }
   },
   "cell_type": "code",
   "source": [
    "# 测试load_data\n",
    "train_loader = load_data('train')\n",
    "for batch_id, data in enumerate(train_loader()):\n",
    "    print(batch_id,data,end='\\t')\n",
    "    break"
   ],
   "id": "d9378da5383ef166",
   "outputs": [
    {
     "name": "stdout",
     "output_type": "stream",
     "text": [
      "0 (array([[[[-0.3882353 ,  0.39607844, -0.67058825, ..., -0.4509804 ,\n",
      "           0.78039217,  0.70980394],\n",
      "         [ 0.21568628, -0.88235295, -0.96862745, ..., -0.09019608,\n",
      "          -0.5137255 , -0.85882354],\n",
      "         [ 0.24705882,  1.        , -0.00392157, ...,  0.22352941,\n",
      "          -0.11372549,  0.92156863],\n",
      "         ...,\n",
      "         [ 0.19215687,  0.42745098,  0.6784314 , ..., -0.14509805,\n",
      "           0.5058824 ,  0.5921569 ],\n",
      "         [-0.16078432, -0.35686275,  0.12941177, ..., -0.31764707,\n",
      "          -0.35686275,  0.39607844],\n",
      "         [ 0.60784316,  0.2       ,  0.7254902 , ..., -0.8039216 ,\n",
      "          -0.6627451 ,  0.6392157 ]]],\n",
      "\n",
      "\n",
      "       [[[-0.9607843 , -0.9843137 ,  1.        , ..., -0.42745098,\n",
      "          -0.60784316, -0.8666667 ],\n",
      "         [ 1.        ,  0.8666667 , -0.9607843 , ..., -0.85882354,\n",
      "          -1.        , -0.49803922],\n",
      "         [ 1.        , -0.9843137 , -1.        , ..., -0.9607843 ,\n",
      "           0.67058825,  0.81960785],\n",
      "         ...,\n",
      "         [-0.8980392 , -1.        , -1.        , ...,  1.        ,\n",
      "          -0.9372549 , -1.        ],\n",
      "         [ 0.827451  ,  1.        ,  0.90588236, ..., -1.        ,\n",
      "           0.92941177, -0.34117648],\n",
      "         [ 0.99215686, -0.9843137 , -0.81960785, ..., -0.56078434,\n",
      "          -0.06666667,  1.        ]]],\n",
      "\n",
      "\n",
      "       [[[-1.        , -0.9843137 , -0.99215686, ..., -0.73333335,\n",
      "          -0.13725491, -0.9607843 ],\n",
      "         [ 0.05098039, -1.        , -0.8980392 , ...,  0.01960784,\n",
      "          -0.7490196 , -0.5764706 ],\n",
      "         [-1.        , -1.        ,  0.9764706 , ..., -1.        ,\n",
      "          -0.67058825, -0.40392157],\n",
      "         ...,\n",
      "         [ 0.40392157, -0.8980392 , -1.        , ...,  0.6862745 ,\n",
      "          -0.8745098 , -1.        ],\n",
      "         [-1.        , -1.        ,  0.99215686, ..., -0.1764706 ,\n",
      "          -1.        , -0.2       ],\n",
      "         [-0.9372549 , -0.85882354, -1.        , ..., -0.44313726,\n",
      "          -0.9764706 , -1.        ]]],\n",
      "\n",
      "\n",
      "       ...,\n",
      "\n",
      "\n",
      "       [[[-0.92941177, -1.        , -0.9529412 , ..., -1.        ,\n",
      "          -1.        , -1.        ],\n",
      "         [-1.        , -0.9372549 , -1.        , ..., -1.        ,\n",
      "          -1.        , -1.        ],\n",
      "         [-1.        , -0.9529412 , -1.        , ..., -1.        ,\n",
      "          -1.        , -1.        ],\n",
      "         ...,\n",
      "         [-1.        , -1.        , -1.        , ..., -1.        ,\n",
      "          -1.        , -1.        ],\n",
      "         [-1.        , -1.        , -1.        , ..., -1.        ,\n",
      "          -1.        , -1.        ],\n",
      "         [-1.        , -1.        , -1.        , ..., -1.        ,\n",
      "          -1.        , -1.        ]]],\n",
      "\n",
      "\n",
      "       [[[ 0.06666667, -0.99215686, -0.9529412 , ..., -0.81960785,\n",
      "          -0.8901961 , -0.67058825],\n",
      "         [-0.99215686, -0.28627452, -0.92156863, ..., -0.39607844,\n",
      "          -0.9372549 , -0.9607843 ],\n",
      "         [-1.        , -0.2784314 ,  0.9843137 , ..., -1.        ,\n",
      "           1.        , -0.9372549 ],\n",
      "         ...,\n",
      "         [-0.8666667 , -1.        , -0.31764707, ..., -1.        ,\n",
      "          -0.94509804, -0.16862746],\n",
      "         [-1.        , -0.40392157, -0.64705884, ..., -0.3647059 ,\n",
      "          -1.        , -0.6862745 ],\n",
      "         [-0.88235295, -1.        , -0.8745098 , ...,  0.2627451 ,\n",
      "          -0.14509805,  0.9372549 ]]],\n",
      "\n",
      "\n",
      "       [[[ 0.88235295,  1.        , -0.9843137 , ..., -1.        ,\n",
      "           1.        , -0.9529412 ],\n",
      "         [-0.8745098 , -1.        ,  1.        , ..., -0.8352941 ,\n",
      "          -1.        , -0.7882353 ],\n",
      "         [-1.        , -1.        , -1.        , ...,  1.        ,\n",
      "          -1.        , -0.6627451 ],\n",
      "         ...,\n",
      "         [-0.9607843 , -0.9529412 , -1.        , ..., -1.        ,\n",
      "           1.        , -1.        ],\n",
      "         [ 0.9372549 ,  0.9529412 ,  1.        , ...,  1.        ,\n",
      "          -0.9764706 ,  1.        ],\n",
      "         [ 1.        , -0.96862745, -1.        , ...,  0.96862745,\n",
      "          -1.        ,  0.9843137 ]]]], dtype=float32), array([[0.],\n",
      "       [7.],\n",
      "       [3.],\n",
      "       [5.],\n",
      "       [4.],\n",
      "       [3.],\n",
      "       [3.],\n",
      "       [0.],\n",
      "       [0.],\n",
      "       [2.],\n",
      "       [0.],\n",
      "       [7.],\n",
      "       [1.],\n",
      "       [0.],\n",
      "       [4.],\n",
      "       [3.],\n",
      "       [4.],\n",
      "       [7.],\n",
      "       [1.],\n",
      "       [1.],\n",
      "       [5.],\n",
      "       [8.],\n",
      "       [2.],\n",
      "       [5.],\n",
      "       [3.],\n",
      "       [6.],\n",
      "       [5.],\n",
      "       [1.],\n",
      "       [8.],\n",
      "       [3.],\n",
      "       [3.],\n",
      "       [3.],\n",
      "       [5.],\n",
      "       [5.],\n",
      "       [4.],\n",
      "       [7.],\n",
      "       [8.],\n",
      "       [2.],\n",
      "       [8.],\n",
      "       [6.],\n",
      "       [4.],\n",
      "       [5.],\n",
      "       [7.],\n",
      "       [8.],\n",
      "       [6.],\n",
      "       [0.],\n",
      "       [2.],\n",
      "       [2.],\n",
      "       [5.],\n",
      "       [2.],\n",
      "       [0.],\n",
      "       [6.],\n",
      "       [8.],\n",
      "       [3.],\n",
      "       [8.],\n",
      "       [0.],\n",
      "       [3.],\n",
      "       [8.],\n",
      "       [3.],\n",
      "       [4.],\n",
      "       [3.],\n",
      "       [6.],\n",
      "       [8.],\n",
      "       [8.],\n",
      "       [1.],\n",
      "       [5.],\n",
      "       [7.],\n",
      "       [0.],\n",
      "       [7.],\n",
      "       [8.],\n",
      "       [2.],\n",
      "       [8.],\n",
      "       [7.],\n",
      "       [2.],\n",
      "       [7.],\n",
      "       [1.],\n",
      "       [5.],\n",
      "       [2.],\n",
      "       [7.],\n",
      "       [2.],\n",
      "       [8.],\n",
      "       [3.],\n",
      "       [6.],\n",
      "       [1.],\n",
      "       [5.],\n",
      "       [8.],\n",
      "       [1.],\n",
      "       [5.],\n",
      "       [7.],\n",
      "       [5.],\n",
      "       [5.],\n",
      "       [2.],\n",
      "       [4.],\n",
      "       [7.],\n",
      "       [2.],\n",
      "       [7.],\n",
      "       [5.],\n",
      "       [0.],\n",
      "       [3.],\n",
      "       [7.]], dtype=float32))\t"
     ]
    }
   ],
   "execution_count": 71
  },
  {
   "metadata": {
    "ExecuteTime": {
     "end_time": "2024-08-08T09:46:16.940986Z",
     "start_time": "2024-08-08T09:46:16.923953Z"
    }
   },
   "cell_type": "code",
   "source": [
    "# 多层卷积神经网络实现\n",
    "class MyNet(paddle.nn.Layer):\n",
    "     def __init__(self):\n",
    "         super(MyNet, self).__init__()\n",
    "         \n",
    "         # 定义卷积层，输出特征通道out_channels设置为20，卷积核的大小kernel_size为5，卷积步长stride=1，padding=2\n",
    "         self.conv1 = Conv2D(in_channels=1, out_channels=20, kernel_size=5, stride=1, padding=2)\n",
    "         # 定义池化层，池化核的大小kernel_size为2，池化步长为2\n",
    "         self.max_pool1 = MaxPool2D(kernel_size=2, stride=2)\n",
    "         # 定义卷积层，输出特征通道out_channels设置为20，卷积核的大小kernel_size为5，卷积步长stride=1，padding=2\n",
    "         self.conv2 = Conv2D(in_channels=20, out_channels=20, kernel_size=5, stride=1, padding=2)\n",
    "         # 定义池化层，池化核的大小kernel_size为2，池化步长为2\n",
    "         self.max_pool2 = MaxPool2D(kernel_size=2, stride=2)\n",
    "         # 定义一层全连接层，输出维度是10\n",
    "         self.fc = Linear(in_features=980, out_features=10)\n",
    "\n",
    "    # 定义网络前向计算过程，卷积后紧接着使用池化层，最后使用全连接层计算最终输出\n",
    "    # 卷积层激活函数使用Relu，全连接层激活函数使用softmax\n",
    "     def forward(self, inputs, label):\n",
    "         x = self.conv1(inputs)\n",
    "         x = F.relu(x)\n",
    "         x = self.max_pool1(x)\n",
    "         x = self.conv2(x)\n",
    "         x = F.relu(x)\n",
    "         x = self.max_pool2(x)\n",
    "         x = paddle.reshape(x, [x.shape[0], 980])\n",
    "         x = self.fc(x)\n",
    "         if label is not None:\n",
    "             acc = paddle.metric.accuracy(input=x, label=label)\n",
    "             return x, acc\n",
    "         else:\n",
    "             return x"
   ],
   "id": "9f560f020e082718",
   "outputs": [],
   "execution_count": 72
  },
  {
   "metadata": {
    "ExecuteTime": {
     "end_time": "2024-08-08T09:49:19.475232Z",
     "start_time": "2024-08-08T09:49:19.334200Z"
    }
   },
   "cell_type": "code",
   "source": [
    "#网络结构部分之后的代码，保持不变\n",
    "def train(model):\n",
    "    model.train()\n",
    "    #调用加载数据的函数，获得MNIST训练数据集\n",
    "    train_loader = load_data('train')\n",
    "    # 使用SGD优化器，learning_rate设置\n",
    "    opt = paddle.optimizer.SGD(learning_rate=0.01, parameters=model.parameters())\n",
    "    #四种优化算法的设置方案，可以逐一尝试效果\n",
    "    # opt = paddle.optimizer.Momentum(learning_rate=0.001, momentum=0.9, parameters=model.parameters())\n",
    "    # opt = paddle.optimizer.Adagrad(learning_rate=0.01, parameters=model.parameters())\n",
    "    # opt = paddle.optimizer.Adam(learning_rate=0.001, parameters=model.parameters())\n",
    "\n",
    "\n",
    "    # 训练10轮\n",
    "    EPOCH_NUM = 10\n",
    "    iter = 0\n",
    "    # MNIST图像高和宽\n",
    "    IMG_ROWS, IMG_COLS = 28, 28\n",
    "    loss_list = []\n",
    "    for epoch_id in range(EPOCH_NUM):\n",
    "        for batch_id, data in enumerate(train_loader()):\n",
    "            #准备数据\n",
    "            images, labels = data\n",
    "            images = paddle.to_tensor(images)\n",
    "            labels = paddle.to_tensor(labels)\n",
    "            \n",
    "            #前向计算的过程\n",
    "            predicts, acc = model(images, labels)\n",
    "            \n",
    "            #计算损失，取一个批次样本损失的平均值\n",
    "            loss = F.cross_entropy(predicts, labels)\n",
    "            avg_loss = paddle.mean(loss)\n",
    "\n",
    "            #每训练10批次的数据，打印下当前Loss的情况\n",
    "            if batch_id % 10 == 0:\n",
    "                loss = avg_loss.numpy()[0]\n",
    "                loss_list.append(loss)\n",
    "                print(\"epoch: {}, batch: {}, loss is: {}, acc is {}\".format(epoch_id, batch_id, avg_loss.numpy(), acc.numpy()))\n",
    "                # log_writer.add_scalar(tag = 'acc', step = iter, value = acc.numpy())\n",
    "                # log_writer.add_scalar(tag = 'loss', step = iter, value = avg_loss.numpy())\n",
    "                iter = iter + 100\n",
    "            \n",
    "            #后向传播，更新参数的过程\n",
    "            avg_loss.backward()\n",
    "            # 最小化loss,更新参数\n",
    "            opt.step()\n",
    "            # 清除梯度\n",
    "            opt.clear_grad()\n",
    "\n",
    "    #保存模型参数\n",
    "    paddle.save(model.state_dict(), 'mnist.pdparams')\n",
    "    return loss_list\n",
    "\n",
    "model = MyNet()\n",
    "loss_list = train(model)"
   ],
   "id": "a26bf4cba24f8754",
   "outputs": [
    {
     "ename": "ValueError",
     "evalue": "(InvalidArgument) The type of data we are trying to retrieve (int64) does not match the type of data (float32) currently contained in the container.\n  [Hint: Expected dtype() == phi::CppTypeToDataType<T>::Type(), but received dtype():10 != phi::CppTypeToDataType<T>::Type():9.] (at ..\\paddle\\phi\\core\\dense_tensor.cc:171)\n  [operator < accuracy > error]",
     "output_type": "error",
     "traceback": [
      "\u001B[1;31m---------------------------------------------------------------------------\u001B[0m",
      "\u001B[1;31mValueError\u001B[0m                                Traceback (most recent call last)",
      "Cell \u001B[1;32mIn[76], line 55\u001B[0m\n\u001B[0;32m     52\u001B[0m     \u001B[38;5;28;01mreturn\u001B[39;00m loss_list\n\u001B[0;32m     54\u001B[0m model \u001B[38;5;241m=\u001B[39m MyNet()\n\u001B[1;32m---> 55\u001B[0m loss_list \u001B[38;5;241m=\u001B[39m \u001B[43mtrain\u001B[49m\u001B[43m(\u001B[49m\u001B[43mmodel\u001B[49m\u001B[43m)\u001B[49m\n",
      "Cell \u001B[1;32mIn[76], line 28\u001B[0m, in \u001B[0;36mtrain\u001B[1;34m(model)\u001B[0m\n\u001B[0;32m     25\u001B[0m labels \u001B[38;5;241m=\u001B[39m paddle\u001B[38;5;241m.\u001B[39mto_tensor(labels)\n\u001B[0;32m     27\u001B[0m \u001B[38;5;66;03m#前向计算的过程\u001B[39;00m\n\u001B[1;32m---> 28\u001B[0m predicts, acc \u001B[38;5;241m=\u001B[39m \u001B[43mmodel\u001B[49m\u001B[43m(\u001B[49m\u001B[43mimages\u001B[49m\u001B[43m,\u001B[49m\u001B[43m \u001B[49m\u001B[43mlabels\u001B[49m\u001B[43m)\u001B[49m\n\u001B[0;32m     30\u001B[0m \u001B[38;5;66;03m#计算损失，取一个批次样本损失的平均值\u001B[39;00m\n\u001B[0;32m     31\u001B[0m loss \u001B[38;5;241m=\u001B[39m F\u001B[38;5;241m.\u001B[39mcross_entropy(predicts, labels)\n",
      "File \u001B[1;32mD:\\python310\\lib\\site-packages\\paddle\\nn\\layer\\layers.py:1429\u001B[0m, in \u001B[0;36mLayer.__call__\u001B[1;34m(self, *inputs, **kwargs)\u001B[0m\n\u001B[0;32m   1420\u001B[0m \u001B[38;5;28;01mif\u001B[39;00m (\n\u001B[0;32m   1421\u001B[0m     (\u001B[38;5;129;01mnot\u001B[39;00m in_to_static_mode())\n\u001B[0;32m   1422\u001B[0m     \u001B[38;5;129;01mand\u001B[39;00m (\u001B[38;5;129;01mnot\u001B[39;00m \u001B[38;5;28mself\u001B[39m\u001B[38;5;241m.\u001B[39m_forward_pre_hooks)\n\u001B[1;32m   (...)\u001B[0m\n\u001B[0;32m   1426\u001B[0m     \u001B[38;5;129;01mand\u001B[39;00m (\u001B[38;5;129;01mnot\u001B[39;00m in_profiler_mode())\n\u001B[0;32m   1427\u001B[0m ):\n\u001B[0;32m   1428\u001B[0m     \u001B[38;5;28mself\u001B[39m\u001B[38;5;241m.\u001B[39m_build_once(\u001B[38;5;241m*\u001B[39minputs, \u001B[38;5;241m*\u001B[39m\u001B[38;5;241m*\u001B[39mkwargs)\n\u001B[1;32m-> 1429\u001B[0m     \u001B[38;5;28;01mreturn\u001B[39;00m \u001B[38;5;28mself\u001B[39m\u001B[38;5;241m.\u001B[39mforward(\u001B[38;5;241m*\u001B[39minputs, \u001B[38;5;241m*\u001B[39m\u001B[38;5;241m*\u001B[39mkwargs)\n\u001B[0;32m   1430\u001B[0m \u001B[38;5;28;01melse\u001B[39;00m:\n\u001B[0;32m   1431\u001B[0m     \u001B[38;5;28;01mreturn\u001B[39;00m \u001B[38;5;28mself\u001B[39m\u001B[38;5;241m.\u001B[39m_dygraph_call_func(\u001B[38;5;241m*\u001B[39minputs, \u001B[38;5;241m*\u001B[39m\u001B[38;5;241m*\u001B[39mkwargs)\n",
      "Cell \u001B[1;32mIn[72], line 29\u001B[0m, in \u001B[0;36mMyNet.forward\u001B[1;34m(self, inputs, label)\u001B[0m\n\u001B[0;32m     27\u001B[0m x \u001B[38;5;241m=\u001B[39m \u001B[38;5;28mself\u001B[39m\u001B[38;5;241m.\u001B[39mfc(x)\n\u001B[0;32m     28\u001B[0m \u001B[38;5;28;01mif\u001B[39;00m label \u001B[38;5;129;01mis\u001B[39;00m \u001B[38;5;129;01mnot\u001B[39;00m \u001B[38;5;28;01mNone\u001B[39;00m:\n\u001B[1;32m---> 29\u001B[0m     acc \u001B[38;5;241m=\u001B[39m \u001B[43mpaddle\u001B[49m\u001B[38;5;241;43m.\u001B[39;49m\u001B[43mmetric\u001B[49m\u001B[38;5;241;43m.\u001B[39;49m\u001B[43maccuracy\u001B[49m\u001B[43m(\u001B[49m\u001B[38;5;28;43minput\u001B[39;49m\u001B[38;5;241;43m=\u001B[39;49m\u001B[43mx\u001B[49m\u001B[43m,\u001B[49m\u001B[43m \u001B[49m\u001B[43mlabel\u001B[49m\u001B[38;5;241;43m=\u001B[39;49m\u001B[43mlabel\u001B[49m\u001B[43m)\u001B[49m\n\u001B[0;32m     30\u001B[0m     \u001B[38;5;28;01mreturn\u001B[39;00m x, acc\n\u001B[0;32m     31\u001B[0m \u001B[38;5;28;01melse\u001B[39;00m:\n",
      "File \u001B[1;32mD:\\python310\\lib\\site-packages\\paddle\\metric\\metrics.py:806\u001B[0m, in \u001B[0;36maccuracy\u001B[1;34m(input, label, k, correct, total, name)\u001B[0m\n\u001B[0;32m    803\u001B[0m         total \u001B[38;5;241m=\u001B[39m _create_tensor(dtype\u001B[38;5;241m=\u001B[39m\u001B[38;5;124m\"\u001B[39m\u001B[38;5;124mint32\u001B[39m\u001B[38;5;124m\"\u001B[39m)\n\u001B[0;32m    805\u001B[0m     topk_out, topk_indices \u001B[38;5;241m=\u001B[39m paddle\u001B[38;5;241m.\u001B[39mtopk(\u001B[38;5;28minput\u001B[39m, k\u001B[38;5;241m=\u001B[39mk)\n\u001B[1;32m--> 806\u001B[0m     _acc, _, _ \u001B[38;5;241m=\u001B[39m \u001B[43m_legacy_C_ops\u001B[49m\u001B[38;5;241;43m.\u001B[39;49m\u001B[43maccuracy\u001B[49m\u001B[43m(\u001B[49m\n\u001B[0;32m    807\u001B[0m \u001B[43m        \u001B[49m\u001B[43mtopk_out\u001B[49m\u001B[43m,\u001B[49m\u001B[43m \u001B[49m\u001B[43mtopk_indices\u001B[49m\u001B[43m,\u001B[49m\u001B[43m \u001B[49m\u001B[43mlabel\u001B[49m\u001B[43m,\u001B[49m\u001B[43m \u001B[49m\u001B[43mcorrect\u001B[49m\u001B[43m,\u001B[49m\u001B[43m \u001B[49m\u001B[43mtotal\u001B[49m\n\u001B[0;32m    808\u001B[0m \u001B[43m    \u001B[49m\u001B[43m)\u001B[49m\n\u001B[0;32m    810\u001B[0m     \u001B[38;5;28;01mreturn\u001B[39;00m _acc\n\u001B[0;32m    811\u001B[0m \u001B[38;5;28;01melif\u001B[39;00m in_pir_mode():\n",
      "\u001B[1;31mValueError\u001B[0m: (InvalidArgument) The type of data we are trying to retrieve (int64) does not match the type of data (float32) currently contained in the container.\n  [Hint: Expected dtype() == phi::CppTypeToDataType<T>::Type(), but received dtype():10 != phi::CppTypeToDataType<T>::Type():9.] (at ..\\paddle\\phi\\core\\dense_tensor.cc:171)\n  [operator < accuracy > error]"
     ]
    }
   ],
   "execution_count": 76
  },
  {
   "metadata": {
    "ExecuteTime": {
     "end_time": "2024-08-08T09:42:10.381499Z",
     "start_time": "2024-08-08T09:42:10.372499Z"
    }
   },
   "cell_type": "code",
   "source": "",
   "id": "22e1cebc5ca9f06c",
   "outputs": [],
   "execution_count": 66
  }
 ],
 "metadata": {
  "kernelspec": {
   "display_name": "Python 3",
   "language": "python",
   "name": "python3"
  },
  "language_info": {
   "codemirror_mode": {
    "name": "ipython",
    "version": 2
   },
   "file_extension": ".py",
   "mimetype": "text/x-python",
   "name": "python",
   "nbconvert_exporter": "python",
   "pygments_lexer": "ipython2",
   "version": "2.7.6"
  }
 },
 "nbformat": 4,
 "nbformat_minor": 5
}
